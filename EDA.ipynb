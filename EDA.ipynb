{
 "cells": [
  {
   "cell_type": "code",
   "execution_count": 407,
   "id": "initial_id",
   "metadata": {
    "collapsed": true,
    "ExecuteTime": {
     "end_time": "2024-04-18T12:02:33.877335Z",
     "start_time": "2024-04-18T12:02:33.870511Z"
    }
   },
   "outputs": [],
   "source": [
    "import pandas as pd"
   ]
  },
  {
   "cell_type": "code",
   "outputs": [
    {
     "data": {
      "text/plain": "                   Product_Collection Vertical_Segment Processor_Number  \\\n0      Legacy Intel® Core™ Processors          Desktop            E8200   \n1    Intel® Xeon® Processor E7 Family           Server          E7-2850   \n2  Intel® Pentium® Processor D Series           Server            D1508   \n3    Legacy Intel® Celeron® Processor          Desktop              NaN   \n4  Intel® Celeron® Processor G Series          Desktop            G3930   \n\n                       Status Launch_Date Lithography  \\\n0  End of Interactive Support       Q1'08       45 nm   \n1                 End of Life       Q2'11       32 nm   \n2                    Launched       Q4'15       14 nm   \n3  End of Interactive Support       Q1'00      180 nm   \n4                    Launched       Q1'17       14 nm   \n\n  Recommended_Customer_Price  nb_of_Cores  nb_of_Threads  \\\n0                        NaN            2            NaN   \n1                  $2,558.00           10           20.0   \n2                    $129.00            2            4.0   \n3                        NaN            1            NaN   \n4                     $42.00            2            2.0   \n\n  Processor_Base_Frequency  ...       T Intel_Hyper_Threading_Technology_  \\\n0                 2.66 GHz  ...  72.4°C                                No   \n1                 2.00 GHz  ...    69°C                               Yes   \n2                 2.20 GHz  ...     NaN                               Yes   \n3                  850 MHz  ...    80°C                                No   \n4                 2.90 GHz  ...   100°C                                No   \n\n  Intel_Virtualization_Technology_VTx_ Intel_64_ Instruction_Set  \\\n0                                  Yes       Yes          64-bit   \n1                                  Yes       Yes          64-bit   \n2                                  Yes       Yes          64-bit   \n3                                   No        No          32-bit   \n4                                  Yes       Yes          64-bit   \n\n  Instruction_Set_Extensions Idle_States Thermal_Monitoring_Technologies  \\\n0                        NaN         Yes                             Yes   \n1                 SSE4.1/4.2         NaN                             Yes   \n2                    AVX 2.0         Yes                             Yes   \n3                        NaN          No                             NaN   \n4                 SSE4.1/4.2         Yes                             Yes   \n\n   Secure_Key Execute_Disable_Bit  \n0         NaN                 Yes  \n1         NaN                 Yes  \n2         Yes                 Yes  \n3         NaN                  No  \n4         Yes                 Yes  \n\n[5 rows x 45 columns]",
      "text/html": "<div>\n<style scoped>\n    .dataframe tbody tr th:only-of-type {\n        vertical-align: middle;\n    }\n\n    .dataframe tbody tr th {\n        vertical-align: top;\n    }\n\n    .dataframe thead th {\n        text-align: right;\n    }\n</style>\n<table border=\"1\" class=\"dataframe\">\n  <thead>\n    <tr style=\"text-align: right;\">\n      <th></th>\n      <th>Product_Collection</th>\n      <th>Vertical_Segment</th>\n      <th>Processor_Number</th>\n      <th>Status</th>\n      <th>Launch_Date</th>\n      <th>Lithography</th>\n      <th>Recommended_Customer_Price</th>\n      <th>nb_of_Cores</th>\n      <th>nb_of_Threads</th>\n      <th>Processor_Base_Frequency</th>\n      <th>...</th>\n      <th>T</th>\n      <th>Intel_Hyper_Threading_Technology_</th>\n      <th>Intel_Virtualization_Technology_VTx_</th>\n      <th>Intel_64_</th>\n      <th>Instruction_Set</th>\n      <th>Instruction_Set_Extensions</th>\n      <th>Idle_States</th>\n      <th>Thermal_Monitoring_Technologies</th>\n      <th>Secure_Key</th>\n      <th>Execute_Disable_Bit</th>\n    </tr>\n  </thead>\n  <tbody>\n    <tr>\n      <th>0</th>\n      <td>Legacy Intel® Core™ Processors</td>\n      <td>Desktop</td>\n      <td>E8200</td>\n      <td>End of Interactive Support</td>\n      <td>Q1'08</td>\n      <td>45 nm</td>\n      <td>NaN</td>\n      <td>2</td>\n      <td>NaN</td>\n      <td>2.66 GHz</td>\n      <td>...</td>\n      <td>72.4°C</td>\n      <td>No</td>\n      <td>Yes</td>\n      <td>Yes</td>\n      <td>64-bit</td>\n      <td>NaN</td>\n      <td>Yes</td>\n      <td>Yes</td>\n      <td>NaN</td>\n      <td>Yes</td>\n    </tr>\n    <tr>\n      <th>1</th>\n      <td>Intel® Xeon® Processor E7 Family</td>\n      <td>Server</td>\n      <td>E7-2850</td>\n      <td>End of Life</td>\n      <td>Q2'11</td>\n      <td>32 nm</td>\n      <td>$2,558.00</td>\n      <td>10</td>\n      <td>20.0</td>\n      <td>2.00 GHz</td>\n      <td>...</td>\n      <td>69°C</td>\n      <td>Yes</td>\n      <td>Yes</td>\n      <td>Yes</td>\n      <td>64-bit</td>\n      <td>SSE4.1/4.2</td>\n      <td>NaN</td>\n      <td>Yes</td>\n      <td>NaN</td>\n      <td>Yes</td>\n    </tr>\n    <tr>\n      <th>2</th>\n      <td>Intel® Pentium® Processor D Series</td>\n      <td>Server</td>\n      <td>D1508</td>\n      <td>Launched</td>\n      <td>Q4'15</td>\n      <td>14 nm</td>\n      <td>$129.00</td>\n      <td>2</td>\n      <td>4.0</td>\n      <td>2.20 GHz</td>\n      <td>...</td>\n      <td>NaN</td>\n      <td>Yes</td>\n      <td>Yes</td>\n      <td>Yes</td>\n      <td>64-bit</td>\n      <td>AVX 2.0</td>\n      <td>Yes</td>\n      <td>Yes</td>\n      <td>Yes</td>\n      <td>Yes</td>\n    </tr>\n    <tr>\n      <th>3</th>\n      <td>Legacy Intel® Celeron® Processor</td>\n      <td>Desktop</td>\n      <td>NaN</td>\n      <td>End of Interactive Support</td>\n      <td>Q1'00</td>\n      <td>180 nm</td>\n      <td>NaN</td>\n      <td>1</td>\n      <td>NaN</td>\n      <td>850 MHz</td>\n      <td>...</td>\n      <td>80°C</td>\n      <td>No</td>\n      <td>No</td>\n      <td>No</td>\n      <td>32-bit</td>\n      <td>NaN</td>\n      <td>No</td>\n      <td>NaN</td>\n      <td>NaN</td>\n      <td>No</td>\n    </tr>\n    <tr>\n      <th>4</th>\n      <td>Intel® Celeron® Processor G Series</td>\n      <td>Desktop</td>\n      <td>G3930</td>\n      <td>Launched</td>\n      <td>Q1'17</td>\n      <td>14 nm</td>\n      <td>$42.00</td>\n      <td>2</td>\n      <td>2.0</td>\n      <td>2.90 GHz</td>\n      <td>...</td>\n      <td>100°C</td>\n      <td>No</td>\n      <td>Yes</td>\n      <td>Yes</td>\n      <td>64-bit</td>\n      <td>SSE4.1/4.2</td>\n      <td>Yes</td>\n      <td>Yes</td>\n      <td>Yes</td>\n      <td>Yes</td>\n    </tr>\n  </tbody>\n</table>\n<p>5 rows × 45 columns</p>\n</div>"
     },
     "execution_count": 408,
     "metadata": {},
     "output_type": "execute_result"
    }
   ],
   "source": [
    "train = pd.read_csv('data/train.csv')\n",
    "train.head()"
   ],
   "metadata": {
    "collapsed": false,
    "ExecuteTime": {
     "end_time": "2024-04-18T12:02:34.809899Z",
     "start_time": "2024-04-18T12:02:34.766808Z"
    }
   },
   "id": "f7670e7cbca98bd7",
   "execution_count": 408
  },
  {
   "cell_type": "code",
   "outputs": [
    {
     "name": "stdout",
     "output_type": "stream",
     "text": [
      "<class 'pandas.core.frame.DataFrame'>\n",
      "RangeIndex: 1826 entries, 0 to 1825\n",
      "Data columns (total 45 columns):\n",
      " #   Column                                    Non-Null Count  Dtype  \n",
      "---  ------                                    --------------  -----  \n",
      " 0   Product_Collection                        1826 non-null   object \n",
      " 1   Vertical_Segment                          1826 non-null   object \n",
      " 2   Processor_Number                          1558 non-null   object \n",
      " 3   Status                                    1826 non-null   object \n",
      " 4   Launch_Date                               1506 non-null   object \n",
      " 5   Lithography                               1775 non-null   object \n",
      " 6   Recommended_Customer_Price                1038 non-null   object \n",
      " 7   nb_of_Cores                               1826 non-null   int64  \n",
      " 8   nb_of_Threads                             1152 non-null   float64\n",
      " 9   Processor_Base_Frequency                  1811 non-null   object \n",
      " 10  Max_Turbo_Frequency                       737 non-null    object \n",
      " 11  Cache                                     1817 non-null   object \n",
      " 12  Bus_Speed                                 1598 non-null   object \n",
      " 13  TDP                                       1771 non-null   object \n",
      " 14  Embedded_Options_Available                1825 non-null   object \n",
      " 15  Conflict_Free                             961 non-null    object \n",
      " 16  Max_Memory_Size                           1128 non-null   object \n",
      " 17  Memory_Types                              1127 non-null   object \n",
      " 18  Max_nb_of_Memory_Channels                 1137 non-null   float64\n",
      " 19  Max_Memory_Bandwidth                      944 non-null    object \n",
      " 20  ECC_Memory_Supported                      1205 non-null   object \n",
      " 21  Processor_Graphics_                       0 non-null      float64\n",
      " 22  Graphics_Base_Frequency                   673 non-null    object \n",
      " 23  Graphics_Max_Dynamic_Frequency            589 non-null    object \n",
      " 24  Graphics_Video_Max_Memory                 324 non-null    object \n",
      " 25  Graphics_Output                           445 non-null    object \n",
      " 26  Support_4k                                0 non-null      float64\n",
      " 27  Max_Resolution_HDMI                       293 non-null    object \n",
      " 28  Max_Resolution_DP                         287 non-null    object \n",
      " 29  Max_Resolution_eDP_Integrated_Flat_Panel  207 non-null    object \n",
      " 30  DirectX_Support                           313 non-null    object \n",
      " 31  OpenGL_Support                            0 non-null      float64\n",
      " 32  PCI_Express_Revision                      1011 non-null   object \n",
      " 33  PCI_Express_Configurations_               847 non-null    object \n",
      " 34  Max_nb_of_PCI_Express_Lanes               944 non-null    float64\n",
      " 35  T                                         1616 non-null   object \n",
      " 36  Intel_Hyper_Threading_Technology_         1617 non-null   object \n",
      " 37  Intel_Virtualization_Technology_VTx_      1758 non-null   object \n",
      " 38  Intel_64_                                 1585 non-null   object \n",
      " 39  Instruction_Set                           1723 non-null   object \n",
      " 40  Instruction_Set_Extensions                992 non-null    object \n",
      " 41  Idle_States                               1410 non-null   object \n",
      " 42  Thermal_Monitoring_Technologies           1118 non-null   object \n",
      " 43  Secure_Key                                621 non-null    object \n",
      " 44  Execute_Disable_Bit                       1593 non-null   object \n",
      "dtypes: float64(6), int64(1), object(38)\n",
      "memory usage: 642.1+ KB\n"
     ]
    }
   ],
   "source": [
    "train.info()"
   ],
   "metadata": {
    "collapsed": false,
    "ExecuteTime": {
     "end_time": "2024-04-18T12:02:36.025497Z",
     "start_time": "2024-04-18T12:02:36.004005Z"
    }
   },
   "id": "d3d1f32660f746d0",
   "execution_count": 409
  },
  {
   "cell_type": "code",
   "outputs": [
    {
     "data": {
      "text/plain": "       nb_of_Cores  nb_of_Threads  Max_nb_of_Memory_Channels  \\\ncount  1826.000000    1152.000000                1137.000000   \nmean      4.027930       8.631076                   2.595427   \nstd       6.152918       8.935049                   1.411065   \nmin       1.000000       1.000000                   1.000000   \n25%       2.000000       4.000000                   2.000000   \n50%       2.000000       4.000000                   2.000000   \n75%       4.000000       8.000000                   3.000000   \nmax      72.000000      56.000000                  16.000000   \n\n       Processor_Graphics_  Support_4k  OpenGL_Support  \\\ncount                  0.0         0.0             0.0   \nmean                   NaN         NaN             NaN   \nstd                    NaN         NaN             NaN   \nmin                    NaN         NaN             NaN   \n25%                    NaN         NaN             NaN   \n50%                    NaN         NaN             NaN   \n75%                    NaN         NaN             NaN   \nmax                    NaN         NaN             NaN   \n\n       Max_nb_of_PCI_Express_Lanes  \ncount                   944.000000  \nmean                     20.311441  \nstd                      12.711266  \nmin                       0.000000  \n25%                      16.000000  \n50%                      16.000000  \n75%                      32.000000  \nmax                      48.000000  ",
      "text/html": "<div>\n<style scoped>\n    .dataframe tbody tr th:only-of-type {\n        vertical-align: middle;\n    }\n\n    .dataframe tbody tr th {\n        vertical-align: top;\n    }\n\n    .dataframe thead th {\n        text-align: right;\n    }\n</style>\n<table border=\"1\" class=\"dataframe\">\n  <thead>\n    <tr style=\"text-align: right;\">\n      <th></th>\n      <th>nb_of_Cores</th>\n      <th>nb_of_Threads</th>\n      <th>Max_nb_of_Memory_Channels</th>\n      <th>Processor_Graphics_</th>\n      <th>Support_4k</th>\n      <th>OpenGL_Support</th>\n      <th>Max_nb_of_PCI_Express_Lanes</th>\n    </tr>\n  </thead>\n  <tbody>\n    <tr>\n      <th>count</th>\n      <td>1826.000000</td>\n      <td>1152.000000</td>\n      <td>1137.000000</td>\n      <td>0.0</td>\n      <td>0.0</td>\n      <td>0.0</td>\n      <td>944.000000</td>\n    </tr>\n    <tr>\n      <th>mean</th>\n      <td>4.027930</td>\n      <td>8.631076</td>\n      <td>2.595427</td>\n      <td>NaN</td>\n      <td>NaN</td>\n      <td>NaN</td>\n      <td>20.311441</td>\n    </tr>\n    <tr>\n      <th>std</th>\n      <td>6.152918</td>\n      <td>8.935049</td>\n      <td>1.411065</td>\n      <td>NaN</td>\n      <td>NaN</td>\n      <td>NaN</td>\n      <td>12.711266</td>\n    </tr>\n    <tr>\n      <th>min</th>\n      <td>1.000000</td>\n      <td>1.000000</td>\n      <td>1.000000</td>\n      <td>NaN</td>\n      <td>NaN</td>\n      <td>NaN</td>\n      <td>0.000000</td>\n    </tr>\n    <tr>\n      <th>25%</th>\n      <td>2.000000</td>\n      <td>4.000000</td>\n      <td>2.000000</td>\n      <td>NaN</td>\n      <td>NaN</td>\n      <td>NaN</td>\n      <td>16.000000</td>\n    </tr>\n    <tr>\n      <th>50%</th>\n      <td>2.000000</td>\n      <td>4.000000</td>\n      <td>2.000000</td>\n      <td>NaN</td>\n      <td>NaN</td>\n      <td>NaN</td>\n      <td>16.000000</td>\n    </tr>\n    <tr>\n      <th>75%</th>\n      <td>4.000000</td>\n      <td>8.000000</td>\n      <td>3.000000</td>\n      <td>NaN</td>\n      <td>NaN</td>\n      <td>NaN</td>\n      <td>32.000000</td>\n    </tr>\n    <tr>\n      <th>max</th>\n      <td>72.000000</td>\n      <td>56.000000</td>\n      <td>16.000000</td>\n      <td>NaN</td>\n      <td>NaN</td>\n      <td>NaN</td>\n      <td>48.000000</td>\n    </tr>\n  </tbody>\n</table>\n</div>"
     },
     "execution_count": 410,
     "metadata": {},
     "output_type": "execute_result"
    }
   ],
   "source": [
    "train.describe()"
   ],
   "metadata": {
    "collapsed": false,
    "ExecuteTime": {
     "end_time": "2024-04-18T12:02:36.156875Z",
     "start_time": "2024-04-18T12:02:36.121969Z"
    }
   },
   "id": "9ec9cb44b7af337d",
   "execution_count": 410
  },
  {
   "cell_type": "code",
   "outputs": [
    {
     "data": {
      "text/plain": "Index(['Product_Collection', 'Vertical_Segment', 'Processor_Number', 'Status',\n       'Launch_Date', 'Lithography', 'Recommended_Customer_Price',\n       'nb_of_Cores', 'nb_of_Threads', 'Processor_Base_Frequency',\n       'Max_Turbo_Frequency', 'Cache', 'Bus_Speed', 'TDP',\n       'Embedded_Options_Available', 'Conflict_Free', 'Max_Memory_Size',\n       'Memory_Types', 'Max_nb_of_Memory_Channels', 'Max_Memory_Bandwidth',\n       'ECC_Memory_Supported', 'Processor_Graphics_',\n       'Graphics_Base_Frequency', 'Graphics_Max_Dynamic_Frequency',\n       'Graphics_Video_Max_Memory', 'Graphics_Output', 'Support_4k',\n       'Max_Resolution_HDMI', 'Max_Resolution_DP',\n       'Max_Resolution_eDP_Integrated_Flat_Panel', 'DirectX_Support',\n       'OpenGL_Support', 'PCI_Express_Revision', 'PCI_Express_Configurations_',\n       'Max_nb_of_PCI_Express_Lanes', 'T', 'Intel_Hyper_Threading_Technology_',\n       'Intel_Virtualization_Technology_VTx_', 'Intel_64_', 'Instruction_Set',\n       'Instruction_Set_Extensions', 'Idle_States',\n       'Thermal_Monitoring_Technologies', 'Secure_Key', 'Execute_Disable_Bit'],\n      dtype='object')"
     },
     "execution_count": 411,
     "metadata": {},
     "output_type": "execute_result"
    }
   ],
   "source": [
    "train.columns"
   ],
   "metadata": {
    "collapsed": false,
    "ExecuteTime": {
     "end_time": "2024-04-18T12:02:36.280298Z",
     "start_time": "2024-04-18T12:02:36.270779Z"
    }
   },
   "id": "b5f5b548d3195ae8",
   "execution_count": 411
  },
  {
   "cell_type": "code",
   "outputs": [
    {
     "name": "stdout",
     "output_type": "stream",
     "text": [
      "Max_Turbo_Frequency\n",
      "Processor_Graphics_\n",
      "Graphics_Base_Frequency\n",
      "Graphics_Max_Dynamic_Frequency\n",
      "Graphics_Video_Max_Memory\n",
      "Graphics_Output\n",
      "Support_4k\n",
      "Max_Resolution_HDMI\n",
      "Max_Resolution_DP\n",
      "Max_Resolution_eDP_Integrated_Flat_Panel\n",
      "DirectX_Support\n",
      "OpenGL_Support\n",
      "PCI_Express_Configurations_\n",
      "Secure_Key\n"
     ]
    }
   ],
   "source": [
    "for column in train.columns:\n",
    "    if train[column].isnull().sum() > train.shape[0] * 0.5:\n",
    "        print(column)"
   ],
   "metadata": {
    "collapsed": false,
    "ExecuteTime": {
     "end_time": "2024-04-18T12:02:36.513094Z",
     "start_time": "2024-04-18T12:02:36.489606Z"
    }
   },
   "id": "9d5e49cfb84b5c89",
   "execution_count": 412
  },
  {
   "cell_type": "code",
   "outputs": [
    {
     "data": {
      "text/plain": "                   Product_Collection Vertical_Segment Processor_Number  \\\n0      Legacy Intel® Core™ Processors          Desktop            E8200   \n1    Intel® Xeon® Processor E7 Family           Server          E7-2850   \n2  Intel® Pentium® Processor D Series           Server            D1508   \n3    Legacy Intel® Celeron® Processor          Desktop              NaN   \n4  Intel® Celeron® Processor G Series          Desktop            G3930   \n\n                       Status Launch_Date Lithography  \\\n0  End of Interactive Support       Q1'08       45 nm   \n1                 End of Life       Q2'11       32 nm   \n2                    Launched       Q4'15       14 nm   \n3  End of Interactive Support       Q1'00      180 nm   \n4                    Launched       Q1'17       14 nm   \n\n  Recommended_Customer_Price  nb_of_Cores  nb_of_Threads  \\\n0                        NaN            2            NaN   \n1                  $2,558.00           10           20.0   \n2                    $129.00            2            4.0   \n3                        NaN            1            NaN   \n4                     $42.00            2            2.0   \n\n  Processor_Base_Frequency  ...       T Intel_Hyper_Threading_Technology_  \\\n0                 2.66 GHz  ...  72.4°C                                No   \n1                 2.00 GHz  ...    69°C                               Yes   \n2                 2.20 GHz  ...     NaN                               Yes   \n3                  850 MHz  ...    80°C                                No   \n4                 2.90 GHz  ...   100°C                                No   \n\n  Intel_Virtualization_Technology_VTx_ Intel_64_ Instruction_Set  \\\n0                                  Yes       Yes          64-bit   \n1                                  Yes       Yes          64-bit   \n2                                  Yes       Yes          64-bit   \n3                                   No        No          32-bit   \n4                                  Yes       Yes          64-bit   \n\n  Instruction_Set_Extensions Idle_States Thermal_Monitoring_Technologies  \\\n0                        NaN         Yes                             Yes   \n1                 SSE4.1/4.2         NaN                             Yes   \n2                    AVX 2.0         Yes                             Yes   \n3                        NaN          No                             NaN   \n4                 SSE4.1/4.2         Yes                             Yes   \n\n   Secure_Key Execute_Disable_Bit  \n0         NaN                 Yes  \n1         NaN                 Yes  \n2         Yes                 Yes  \n3         NaN                  No  \n4         Yes                 Yes  \n\n[5 rows x 45 columns]",
      "text/html": "<div>\n<style scoped>\n    .dataframe tbody tr th:only-of-type {\n        vertical-align: middle;\n    }\n\n    .dataframe tbody tr th {\n        vertical-align: top;\n    }\n\n    .dataframe thead th {\n        text-align: right;\n    }\n</style>\n<table border=\"1\" class=\"dataframe\">\n  <thead>\n    <tr style=\"text-align: right;\">\n      <th></th>\n      <th>Product_Collection</th>\n      <th>Vertical_Segment</th>\n      <th>Processor_Number</th>\n      <th>Status</th>\n      <th>Launch_Date</th>\n      <th>Lithography</th>\n      <th>Recommended_Customer_Price</th>\n      <th>nb_of_Cores</th>\n      <th>nb_of_Threads</th>\n      <th>Processor_Base_Frequency</th>\n      <th>...</th>\n      <th>T</th>\n      <th>Intel_Hyper_Threading_Technology_</th>\n      <th>Intel_Virtualization_Technology_VTx_</th>\n      <th>Intel_64_</th>\n      <th>Instruction_Set</th>\n      <th>Instruction_Set_Extensions</th>\n      <th>Idle_States</th>\n      <th>Thermal_Monitoring_Technologies</th>\n      <th>Secure_Key</th>\n      <th>Execute_Disable_Bit</th>\n    </tr>\n  </thead>\n  <tbody>\n    <tr>\n      <th>0</th>\n      <td>Legacy Intel® Core™ Processors</td>\n      <td>Desktop</td>\n      <td>E8200</td>\n      <td>End of Interactive Support</td>\n      <td>Q1'08</td>\n      <td>45 nm</td>\n      <td>NaN</td>\n      <td>2</td>\n      <td>NaN</td>\n      <td>2.66 GHz</td>\n      <td>...</td>\n      <td>72.4°C</td>\n      <td>No</td>\n      <td>Yes</td>\n      <td>Yes</td>\n      <td>64-bit</td>\n      <td>NaN</td>\n      <td>Yes</td>\n      <td>Yes</td>\n      <td>NaN</td>\n      <td>Yes</td>\n    </tr>\n    <tr>\n      <th>1</th>\n      <td>Intel® Xeon® Processor E7 Family</td>\n      <td>Server</td>\n      <td>E7-2850</td>\n      <td>End of Life</td>\n      <td>Q2'11</td>\n      <td>32 nm</td>\n      <td>$2,558.00</td>\n      <td>10</td>\n      <td>20.0</td>\n      <td>2.00 GHz</td>\n      <td>...</td>\n      <td>69°C</td>\n      <td>Yes</td>\n      <td>Yes</td>\n      <td>Yes</td>\n      <td>64-bit</td>\n      <td>SSE4.1/4.2</td>\n      <td>NaN</td>\n      <td>Yes</td>\n      <td>NaN</td>\n      <td>Yes</td>\n    </tr>\n    <tr>\n      <th>2</th>\n      <td>Intel® Pentium® Processor D Series</td>\n      <td>Server</td>\n      <td>D1508</td>\n      <td>Launched</td>\n      <td>Q4'15</td>\n      <td>14 nm</td>\n      <td>$129.00</td>\n      <td>2</td>\n      <td>4.0</td>\n      <td>2.20 GHz</td>\n      <td>...</td>\n      <td>NaN</td>\n      <td>Yes</td>\n      <td>Yes</td>\n      <td>Yes</td>\n      <td>64-bit</td>\n      <td>AVX 2.0</td>\n      <td>Yes</td>\n      <td>Yes</td>\n      <td>Yes</td>\n      <td>Yes</td>\n    </tr>\n    <tr>\n      <th>3</th>\n      <td>Legacy Intel® Celeron® Processor</td>\n      <td>Desktop</td>\n      <td>NaN</td>\n      <td>End of Interactive Support</td>\n      <td>Q1'00</td>\n      <td>180 nm</td>\n      <td>NaN</td>\n      <td>1</td>\n      <td>NaN</td>\n      <td>850 MHz</td>\n      <td>...</td>\n      <td>80°C</td>\n      <td>No</td>\n      <td>No</td>\n      <td>No</td>\n      <td>32-bit</td>\n      <td>NaN</td>\n      <td>No</td>\n      <td>NaN</td>\n      <td>NaN</td>\n      <td>No</td>\n    </tr>\n    <tr>\n      <th>4</th>\n      <td>Intel® Celeron® Processor G Series</td>\n      <td>Desktop</td>\n      <td>G3930</td>\n      <td>Launched</td>\n      <td>Q1'17</td>\n      <td>14 nm</td>\n      <td>$42.00</td>\n      <td>2</td>\n      <td>2.0</td>\n      <td>2.90 GHz</td>\n      <td>...</td>\n      <td>100°C</td>\n      <td>No</td>\n      <td>Yes</td>\n      <td>Yes</td>\n      <td>64-bit</td>\n      <td>SSE4.1/4.2</td>\n      <td>Yes</td>\n      <td>Yes</td>\n      <td>Yes</td>\n      <td>Yes</td>\n    </tr>\n  </tbody>\n</table>\n<p>5 rows × 45 columns</p>\n</div>"
     },
     "execution_count": 413,
     "metadata": {},
     "output_type": "execute_result"
    }
   ],
   "source": [
    "train.head()"
   ],
   "metadata": {
    "collapsed": false,
    "ExecuteTime": {
     "end_time": "2024-04-18T12:02:36.744019Z",
     "start_time": "2024-04-18T12:02:36.715500Z"
    }
   },
   "id": "4dea51913a6aed51",
   "execution_count": 413
  },
  {
   "cell_type": "code",
   "outputs": [
    {
     "name": "stdout",
     "output_type": "stream",
     "text": [
      "<class 'pandas.core.frame.DataFrame'>\n",
      "RangeIndex: 1826 entries, 0 to 1825\n",
      "Data columns (total 29 columns):\n",
      " #   Column                                Non-Null Count  Dtype  \n",
      "---  ------                                --------------  -----  \n",
      " 0   Product_Collection                    1826 non-null   object \n",
      " 1   Vertical_Segment                      1826 non-null   object \n",
      " 2   Status                                1826 non-null   object \n",
      " 3   Lithography                           1775 non-null   object \n",
      " 4   Recommended_Customer_Price            1038 non-null   object \n",
      " 5   nb_of_Cores                           1826 non-null   int64  \n",
      " 6   nb_of_Threads                         1152 non-null   float64\n",
      " 7   Processor_Base_Frequency              1811 non-null   object \n",
      " 8   Cache                                 1817 non-null   object \n",
      " 9   Bus_Speed                             1598 non-null   object \n",
      " 10  TDP                                   1771 non-null   object \n",
      " 11  Embedded_Options_Available            1825 non-null   object \n",
      " 12  Conflict_Free                         961 non-null    object \n",
      " 13  Max_Memory_Size                       1128 non-null   object \n",
      " 14  Memory_Types                          1127 non-null   object \n",
      " 15  Max_nb_of_Memory_Channels             1137 non-null   float64\n",
      " 16  Max_Memory_Bandwidth                  944 non-null    object \n",
      " 17  ECC_Memory_Supported                  1205 non-null   object \n",
      " 18  PCI_Express_Revision                  1011 non-null   object \n",
      " 19  Max_nb_of_PCI_Express_Lanes           944 non-null    float64\n",
      " 20  T                                     1616 non-null   object \n",
      " 21  Intel_Hyper_Threading_Technology_     1617 non-null   object \n",
      " 22  Intel_Virtualization_Technology_VTx_  1758 non-null   object \n",
      " 23  Intel_64_                             1585 non-null   object \n",
      " 24  Instruction_Set                       1723 non-null   object \n",
      " 25  Instruction_Set_Extensions            992 non-null    object \n",
      " 26  Idle_States                           1410 non-null   object \n",
      " 27  Thermal_Monitoring_Technologies       1118 non-null   object \n",
      " 28  Execute_Disable_Bit                   1593 non-null   object \n",
      "dtypes: float64(3), int64(1), object(25)\n",
      "memory usage: 413.8+ KB\n"
     ]
    }
   ],
   "source": [
    "drop_elements = ['Processor_Number', 'Launch_Date']\n",
    "for column in train.columns:\n",
    "    if train[column].isnull().sum() > train.shape[0] * 0.5:\n",
    "        drop_elements.append(column)\n",
    "train = train.drop(drop_elements, axis=1)\n",
    "train.info()"
   ],
   "metadata": {
    "collapsed": false,
    "ExecuteTime": {
     "end_time": "2024-04-18T12:02:36.990740Z",
     "start_time": "2024-04-18T12:02:36.961737Z"
    }
   },
   "id": "cfb29f3f55a2974",
   "execution_count": 414
  },
  {
   "cell_type": "code",
   "outputs": [
    {
     "data": {
      "text/plain": "                   Product_Collection Vertical_Segment  \\\n0      Legacy Intel® Core™ Processors          Desktop   \n1    Intel® Xeon® Processor E7 Family           Server   \n2  Intel® Pentium® Processor D Series           Server   \n3    Legacy Intel® Celeron® Processor          Desktop   \n4  Intel® Celeron® Processor G Series          Desktop   \n\n                       Status Lithography Recommended_Customer_Price  \\\n0  End of Interactive Support       45 nm                        NaN   \n1                 End of Life       32 nm                  $2,558.00   \n2                    Launched       14 nm                    $129.00   \n3  End of Interactive Support      180 nm                        NaN   \n4                    Launched       14 nm                     $42.00   \n\n   nb_of_Cores  nb_of_Threads Processor_Base_Frequency             Cache  \\\n0            2            NaN                 2.66 GHz           6 MB L2   \n1           10           20.0                 2.00 GHz  24 MB SmartCache   \n2            2            4.0                 2.20 GHz              3 MB   \n3            1            NaN                  850 MHz         128 KB L2   \n4            2            2.0                 2.90 GHz              2 MB   \n\n      Bus_Speed  ... Max_nb_of_PCI_Express_Lanes       T  \\\n0  1333 MHz FSB  ...                         NaN  72.4°C   \n1  6.4 GT/s QPI  ...                         NaN    69°C   \n2           NaN  ...                        32.0     NaN   \n3   100 MHz FSB  ...                         NaN    80°C   \n4   8 GT/s DMI3  ...                        16.0   100°C   \n\n  Intel_Hyper_Threading_Technology_ Intel_Virtualization_Technology_VTx_  \\\n0                                No                                  Yes   \n1                               Yes                                  Yes   \n2                               Yes                                  Yes   \n3                                No                                   No   \n4                                No                                  Yes   \n\n  Intel_64_  Instruction_Set Instruction_Set_Extensions Idle_States  \\\n0       Yes           64-bit                        NaN         Yes   \n1       Yes           64-bit                 SSE4.1/4.2         NaN   \n2       Yes           64-bit                    AVX 2.0         Yes   \n3        No           32-bit                        NaN          No   \n4       Yes           64-bit                 SSE4.1/4.2         Yes   \n\n  Thermal_Monitoring_Technologies  Execute_Disable_Bit  \n0                             Yes                  Yes  \n1                             Yes                  Yes  \n2                             Yes                  Yes  \n3                             NaN                   No  \n4                             Yes                  Yes  \n\n[5 rows x 29 columns]",
      "text/html": "<div>\n<style scoped>\n    .dataframe tbody tr th:only-of-type {\n        vertical-align: middle;\n    }\n\n    .dataframe tbody tr th {\n        vertical-align: top;\n    }\n\n    .dataframe thead th {\n        text-align: right;\n    }\n</style>\n<table border=\"1\" class=\"dataframe\">\n  <thead>\n    <tr style=\"text-align: right;\">\n      <th></th>\n      <th>Product_Collection</th>\n      <th>Vertical_Segment</th>\n      <th>Status</th>\n      <th>Lithography</th>\n      <th>Recommended_Customer_Price</th>\n      <th>nb_of_Cores</th>\n      <th>nb_of_Threads</th>\n      <th>Processor_Base_Frequency</th>\n      <th>Cache</th>\n      <th>Bus_Speed</th>\n      <th>...</th>\n      <th>Max_nb_of_PCI_Express_Lanes</th>\n      <th>T</th>\n      <th>Intel_Hyper_Threading_Technology_</th>\n      <th>Intel_Virtualization_Technology_VTx_</th>\n      <th>Intel_64_</th>\n      <th>Instruction_Set</th>\n      <th>Instruction_Set_Extensions</th>\n      <th>Idle_States</th>\n      <th>Thermal_Monitoring_Technologies</th>\n      <th>Execute_Disable_Bit</th>\n    </tr>\n  </thead>\n  <tbody>\n    <tr>\n      <th>0</th>\n      <td>Legacy Intel® Core™ Processors</td>\n      <td>Desktop</td>\n      <td>End of Interactive Support</td>\n      <td>45 nm</td>\n      <td>NaN</td>\n      <td>2</td>\n      <td>NaN</td>\n      <td>2.66 GHz</td>\n      <td>6 MB L2</td>\n      <td>1333 MHz FSB</td>\n      <td>...</td>\n      <td>NaN</td>\n      <td>72.4°C</td>\n      <td>No</td>\n      <td>Yes</td>\n      <td>Yes</td>\n      <td>64-bit</td>\n      <td>NaN</td>\n      <td>Yes</td>\n      <td>Yes</td>\n      <td>Yes</td>\n    </tr>\n    <tr>\n      <th>1</th>\n      <td>Intel® Xeon® Processor E7 Family</td>\n      <td>Server</td>\n      <td>End of Life</td>\n      <td>32 nm</td>\n      <td>$2,558.00</td>\n      <td>10</td>\n      <td>20.0</td>\n      <td>2.00 GHz</td>\n      <td>24 MB SmartCache</td>\n      <td>6.4 GT/s QPI</td>\n      <td>...</td>\n      <td>NaN</td>\n      <td>69°C</td>\n      <td>Yes</td>\n      <td>Yes</td>\n      <td>Yes</td>\n      <td>64-bit</td>\n      <td>SSE4.1/4.2</td>\n      <td>NaN</td>\n      <td>Yes</td>\n      <td>Yes</td>\n    </tr>\n    <tr>\n      <th>2</th>\n      <td>Intel® Pentium® Processor D Series</td>\n      <td>Server</td>\n      <td>Launched</td>\n      <td>14 nm</td>\n      <td>$129.00</td>\n      <td>2</td>\n      <td>4.0</td>\n      <td>2.20 GHz</td>\n      <td>3 MB</td>\n      <td>NaN</td>\n      <td>...</td>\n      <td>32.0</td>\n      <td>NaN</td>\n      <td>Yes</td>\n      <td>Yes</td>\n      <td>Yes</td>\n      <td>64-bit</td>\n      <td>AVX 2.0</td>\n      <td>Yes</td>\n      <td>Yes</td>\n      <td>Yes</td>\n    </tr>\n    <tr>\n      <th>3</th>\n      <td>Legacy Intel® Celeron® Processor</td>\n      <td>Desktop</td>\n      <td>End of Interactive Support</td>\n      <td>180 nm</td>\n      <td>NaN</td>\n      <td>1</td>\n      <td>NaN</td>\n      <td>850 MHz</td>\n      <td>128 KB L2</td>\n      <td>100 MHz FSB</td>\n      <td>...</td>\n      <td>NaN</td>\n      <td>80°C</td>\n      <td>No</td>\n      <td>No</td>\n      <td>No</td>\n      <td>32-bit</td>\n      <td>NaN</td>\n      <td>No</td>\n      <td>NaN</td>\n      <td>No</td>\n    </tr>\n    <tr>\n      <th>4</th>\n      <td>Intel® Celeron® Processor G Series</td>\n      <td>Desktop</td>\n      <td>Launched</td>\n      <td>14 nm</td>\n      <td>$42.00</td>\n      <td>2</td>\n      <td>2.0</td>\n      <td>2.90 GHz</td>\n      <td>2 MB</td>\n      <td>8 GT/s DMI3</td>\n      <td>...</td>\n      <td>16.0</td>\n      <td>100°C</td>\n      <td>No</td>\n      <td>Yes</td>\n      <td>Yes</td>\n      <td>64-bit</td>\n      <td>SSE4.1/4.2</td>\n      <td>Yes</td>\n      <td>Yes</td>\n      <td>Yes</td>\n    </tr>\n  </tbody>\n</table>\n<p>5 rows × 29 columns</p>\n</div>"
     },
     "execution_count": 415,
     "metadata": {},
     "output_type": "execute_result"
    }
   ],
   "source": [
    "train.head()"
   ],
   "metadata": {
    "collapsed": false,
    "ExecuteTime": {
     "end_time": "2024-04-18T12:02:37.144840Z",
     "start_time": "2024-04-18T12:02:37.119477Z"
    }
   },
   "id": "82d5bdab814dfcc8",
   "execution_count": 415
  },
  {
   "cell_type": "code",
   "outputs": [
    {
     "data": {
      "text/plain": "array(['End of Interactive Support', 'End of Life', 'Launched',\n       'Announced'], dtype=object)"
     },
     "execution_count": 416,
     "metadata": {},
     "output_type": "execute_result"
    }
   ],
   "source": [
    "train['Status'].unique()"
   ],
   "metadata": {
    "collapsed": false,
    "ExecuteTime": {
     "end_time": "2024-04-18T12:02:37.237666Z",
     "start_time": "2024-04-18T12:02:37.224498Z"
    }
   },
   "id": "1a7adf31fcf88883",
   "execution_count": 416
  },
  {
   "cell_type": "code",
   "outputs": [],
   "source": [
    "train['Status'] = train['Status'].map(\n",
    "    {'End of Interactive Support': 0, 'End of Life': 0, 'Launched': 1, 'Announced': 1})"
   ],
   "metadata": {
    "collapsed": false,
    "ExecuteTime": {
     "end_time": "2024-04-18T12:02:37.514681Z",
     "start_time": "2024-04-18T12:02:37.505098Z"
    }
   },
   "id": "dbcf04ab956906f9",
   "execution_count": 417
  },
  {
   "cell_type": "code",
   "outputs": [
    {
     "data": {
      "text/plain": "                   Product_Collection Vertical_Segment  Status Lithography  \\\n0      Legacy Intel® Core™ Processors          Desktop       0       45 nm   \n1    Intel® Xeon® Processor E7 Family           Server       0       32 nm   \n2  Intel® Pentium® Processor D Series           Server       1       14 nm   \n3    Legacy Intel® Celeron® Processor          Desktop       0      180 nm   \n4  Intel® Celeron® Processor G Series          Desktop       1       14 nm   \n\n  Recommended_Customer_Price  nb_of_Cores  nb_of_Threads  \\\n0                        NaN            2            NaN   \n1                  $2,558.00           10           20.0   \n2                    $129.00            2            4.0   \n3                        NaN            1            NaN   \n4                     $42.00            2            2.0   \n\n  Processor_Base_Frequency             Cache     Bus_Speed  ...  \\\n0                 2.66 GHz           6 MB L2  1333 MHz FSB  ...   \n1                 2.00 GHz  24 MB SmartCache  6.4 GT/s QPI  ...   \n2                 2.20 GHz              3 MB           NaN  ...   \n3                  850 MHz         128 KB L2   100 MHz FSB  ...   \n4                 2.90 GHz              2 MB   8 GT/s DMI3  ...   \n\n  Max_nb_of_PCI_Express_Lanes       T Intel_Hyper_Threading_Technology_  \\\n0                         NaN  72.4°C                                No   \n1                         NaN    69°C                               Yes   \n2                        32.0     NaN                               Yes   \n3                         NaN    80°C                                No   \n4                        16.0   100°C                                No   \n\n  Intel_Virtualization_Technology_VTx_ Intel_64_  Instruction_Set  \\\n0                                  Yes       Yes           64-bit   \n1                                  Yes       Yes           64-bit   \n2                                  Yes       Yes           64-bit   \n3                                   No        No           32-bit   \n4                                  Yes       Yes           64-bit   \n\n  Instruction_Set_Extensions Idle_States Thermal_Monitoring_Technologies  \\\n0                        NaN         Yes                             Yes   \n1                 SSE4.1/4.2         NaN                             Yes   \n2                    AVX 2.0         Yes                             Yes   \n3                        NaN          No                             NaN   \n4                 SSE4.1/4.2         Yes                             Yes   \n\n   Execute_Disable_Bit  \n0                  Yes  \n1                  Yes  \n2                  Yes  \n3                   No  \n4                  Yes  \n\n[5 rows x 29 columns]",
      "text/html": "<div>\n<style scoped>\n    .dataframe tbody tr th:only-of-type {\n        vertical-align: middle;\n    }\n\n    .dataframe tbody tr th {\n        vertical-align: top;\n    }\n\n    .dataframe thead th {\n        text-align: right;\n    }\n</style>\n<table border=\"1\" class=\"dataframe\">\n  <thead>\n    <tr style=\"text-align: right;\">\n      <th></th>\n      <th>Product_Collection</th>\n      <th>Vertical_Segment</th>\n      <th>Status</th>\n      <th>Lithography</th>\n      <th>Recommended_Customer_Price</th>\n      <th>nb_of_Cores</th>\n      <th>nb_of_Threads</th>\n      <th>Processor_Base_Frequency</th>\n      <th>Cache</th>\n      <th>Bus_Speed</th>\n      <th>...</th>\n      <th>Max_nb_of_PCI_Express_Lanes</th>\n      <th>T</th>\n      <th>Intel_Hyper_Threading_Technology_</th>\n      <th>Intel_Virtualization_Technology_VTx_</th>\n      <th>Intel_64_</th>\n      <th>Instruction_Set</th>\n      <th>Instruction_Set_Extensions</th>\n      <th>Idle_States</th>\n      <th>Thermal_Monitoring_Technologies</th>\n      <th>Execute_Disable_Bit</th>\n    </tr>\n  </thead>\n  <tbody>\n    <tr>\n      <th>0</th>\n      <td>Legacy Intel® Core™ Processors</td>\n      <td>Desktop</td>\n      <td>0</td>\n      <td>45 nm</td>\n      <td>NaN</td>\n      <td>2</td>\n      <td>NaN</td>\n      <td>2.66 GHz</td>\n      <td>6 MB L2</td>\n      <td>1333 MHz FSB</td>\n      <td>...</td>\n      <td>NaN</td>\n      <td>72.4°C</td>\n      <td>No</td>\n      <td>Yes</td>\n      <td>Yes</td>\n      <td>64-bit</td>\n      <td>NaN</td>\n      <td>Yes</td>\n      <td>Yes</td>\n      <td>Yes</td>\n    </tr>\n    <tr>\n      <th>1</th>\n      <td>Intel® Xeon® Processor E7 Family</td>\n      <td>Server</td>\n      <td>0</td>\n      <td>32 nm</td>\n      <td>$2,558.00</td>\n      <td>10</td>\n      <td>20.0</td>\n      <td>2.00 GHz</td>\n      <td>24 MB SmartCache</td>\n      <td>6.4 GT/s QPI</td>\n      <td>...</td>\n      <td>NaN</td>\n      <td>69°C</td>\n      <td>Yes</td>\n      <td>Yes</td>\n      <td>Yes</td>\n      <td>64-bit</td>\n      <td>SSE4.1/4.2</td>\n      <td>NaN</td>\n      <td>Yes</td>\n      <td>Yes</td>\n    </tr>\n    <tr>\n      <th>2</th>\n      <td>Intel® Pentium® Processor D Series</td>\n      <td>Server</td>\n      <td>1</td>\n      <td>14 nm</td>\n      <td>$129.00</td>\n      <td>2</td>\n      <td>4.0</td>\n      <td>2.20 GHz</td>\n      <td>3 MB</td>\n      <td>NaN</td>\n      <td>...</td>\n      <td>32.0</td>\n      <td>NaN</td>\n      <td>Yes</td>\n      <td>Yes</td>\n      <td>Yes</td>\n      <td>64-bit</td>\n      <td>AVX 2.0</td>\n      <td>Yes</td>\n      <td>Yes</td>\n      <td>Yes</td>\n    </tr>\n    <tr>\n      <th>3</th>\n      <td>Legacy Intel® Celeron® Processor</td>\n      <td>Desktop</td>\n      <td>0</td>\n      <td>180 nm</td>\n      <td>NaN</td>\n      <td>1</td>\n      <td>NaN</td>\n      <td>850 MHz</td>\n      <td>128 KB L2</td>\n      <td>100 MHz FSB</td>\n      <td>...</td>\n      <td>NaN</td>\n      <td>80°C</td>\n      <td>No</td>\n      <td>No</td>\n      <td>No</td>\n      <td>32-bit</td>\n      <td>NaN</td>\n      <td>No</td>\n      <td>NaN</td>\n      <td>No</td>\n    </tr>\n    <tr>\n      <th>4</th>\n      <td>Intel® Celeron® Processor G Series</td>\n      <td>Desktop</td>\n      <td>1</td>\n      <td>14 nm</td>\n      <td>$42.00</td>\n      <td>2</td>\n      <td>2.0</td>\n      <td>2.90 GHz</td>\n      <td>2 MB</td>\n      <td>8 GT/s DMI3</td>\n      <td>...</td>\n      <td>16.0</td>\n      <td>100°C</td>\n      <td>No</td>\n      <td>Yes</td>\n      <td>Yes</td>\n      <td>64-bit</td>\n      <td>SSE4.1/4.2</td>\n      <td>Yes</td>\n      <td>Yes</td>\n      <td>Yes</td>\n    </tr>\n  </tbody>\n</table>\n<p>5 rows × 29 columns</p>\n</div>"
     },
     "execution_count": 418,
     "metadata": {},
     "output_type": "execute_result"
    }
   ],
   "source": [
    "train.head()"
   ],
   "metadata": {
    "collapsed": false,
    "ExecuteTime": {
     "end_time": "2024-04-18T12:02:37.749405Z",
     "start_time": "2024-04-18T12:02:37.724542Z"
    }
   },
   "id": "6f90d83a9a2ca336",
   "execution_count": 418
  },
  {
   "cell_type": "code",
   "outputs": [
    {
     "data": {
      "text/plain": "array(['45 nm', '32 nm', '14 nm', '180 nm', '65 nm', '130 nm', '90 nm',\n       '22 nm', nan, '250 nm', '28 nm'], dtype=object)"
     },
     "execution_count": 419,
     "metadata": {},
     "output_type": "execute_result"
    }
   ],
   "source": [
    "train['Lithography'].unique()"
   ],
   "metadata": {
    "collapsed": false,
    "ExecuteTime": {
     "end_time": "2024-04-18T12:02:37.843382Z",
     "start_time": "2024-04-18T12:02:37.829507Z"
    }
   },
   "id": "43190a6d44d6308c",
   "execution_count": 419
  },
  {
   "cell_type": "code",
   "outputs": [
    {
     "data": {
      "text/plain": "Lithography\n22 nm     448\n14 nm     338\n32 nm     272\n45 nm     213\n65 nm     165\n90 nm     137\n130 nm    113\n180 nm     65\n250 nm     15\n28 nm       9\nName: count, dtype: int64"
     },
     "execution_count": 420,
     "metadata": {},
     "output_type": "execute_result"
    }
   ],
   "source": [
    "train['Lithography'].value_counts()"
   ],
   "metadata": {
    "collapsed": false,
    "ExecuteTime": {
     "end_time": "2024-04-18T12:02:37.956164Z",
     "start_time": "2024-04-18T12:02:37.939215Z"
    }
   },
   "id": "81a4a00f940d54c2",
   "execution_count": 420
  },
  {
   "cell_type": "code",
   "outputs": [
    {
     "data": {
      "text/plain": "0    22 nm\nName: Lithography, dtype: object"
     },
     "execution_count": 421,
     "metadata": {},
     "output_type": "execute_result"
    }
   ],
   "source": [
    "train['Lithography'].mode()"
   ],
   "metadata": {
    "collapsed": false,
    "ExecuteTime": {
     "end_time": "2024-04-18T12:02:38.157571Z",
     "start_time": "2024-04-18T12:02:38.137192Z"
    }
   },
   "id": "7f690f5eb1fabf0",
   "execution_count": 421
  },
  {
   "cell_type": "code",
   "outputs": [],
   "source": [
    "train['Lithography'] = train['Lithography'].fillna(train['Lithography'].mode()[0])"
   ],
   "metadata": {
    "collapsed": false,
    "ExecuteTime": {
     "end_time": "2024-04-18T12:02:38.297029Z",
     "start_time": "2024-04-18T12:02:38.283241Z"
    }
   },
   "id": "3ddf76306d383f5a",
   "execution_count": 422
  },
  {
   "cell_type": "code",
   "outputs": [
    {
     "data": {
      "text/plain": "array(['45 nm', '32 nm', '14 nm', '180 nm', '65 nm', '130 nm', '90 nm',\n       '22 nm', '250 nm', '28 nm'], dtype=object)"
     },
     "execution_count": 423,
     "metadata": {},
     "output_type": "execute_result"
    }
   ],
   "source": [
    "train['Lithography'].unique()"
   ],
   "metadata": {
    "collapsed": false,
    "ExecuteTime": {
     "end_time": "2024-04-18T12:02:38.407563Z",
     "start_time": "2024-04-18T12:02:38.400831Z"
    }
   },
   "id": "c2ea8e03e144c0b7",
   "execution_count": 423
  },
  {
   "cell_type": "code",
   "outputs": [
    {
     "data": {
      "text/plain": "array([7, 6, 1, 2, 8, 0, 9, 3, 4, 5])"
     },
     "execution_count": 424,
     "metadata": {},
     "output_type": "execute_result"
    }
   ],
   "source": [
    "from sklearn.preprocessing import LabelEncoder\n",
    "\n",
    "label_encoder = LabelEncoder()\n",
    "train['Lithography'] = label_encoder.fit_transform(train['Lithography'])\n",
    "train['Lithography'].unique()"
   ],
   "metadata": {
    "collapsed": false,
    "ExecuteTime": {
     "end_time": "2024-04-18T12:02:38.501499Z",
     "start_time": "2024-04-18T12:02:38.488933Z"
    }
   },
   "id": "d41de05ab5cfff7a",
   "execution_count": 424
  },
  {
   "cell_type": "code",
   "outputs": [
    {
     "data": {
      "text/plain": "                   Product_Collection Vertical_Segment  Status  Lithography  \\\n0      Legacy Intel® Core™ Processors          Desktop       0            7   \n1    Intel® Xeon® Processor E7 Family           Server       0            6   \n2  Intel® Pentium® Processor D Series           Server       1            1   \n3    Legacy Intel® Celeron® Processor          Desktop       0            2   \n4  Intel® Celeron® Processor G Series          Desktop       1            1   \n\n  Recommended_Customer_Price  nb_of_Cores  nb_of_Threads  \\\n0                        NaN            2            NaN   \n1                  $2,558.00           10           20.0   \n2                    $129.00            2            4.0   \n3                        NaN            1            NaN   \n4                     $42.00            2            2.0   \n\n  Processor_Base_Frequency             Cache     Bus_Speed  ...  \\\n0                 2.66 GHz           6 MB L2  1333 MHz FSB  ...   \n1                 2.00 GHz  24 MB SmartCache  6.4 GT/s QPI  ...   \n2                 2.20 GHz              3 MB           NaN  ...   \n3                  850 MHz         128 KB L2   100 MHz FSB  ...   \n4                 2.90 GHz              2 MB   8 GT/s DMI3  ...   \n\n  Max_nb_of_PCI_Express_Lanes       T Intel_Hyper_Threading_Technology_  \\\n0                         NaN  72.4°C                                No   \n1                         NaN    69°C                               Yes   \n2                        32.0     NaN                               Yes   \n3                         NaN    80°C                                No   \n4                        16.0   100°C                                No   \n\n  Intel_Virtualization_Technology_VTx_ Intel_64_  Instruction_Set  \\\n0                                  Yes       Yes           64-bit   \n1                                  Yes       Yes           64-bit   \n2                                  Yes       Yes           64-bit   \n3                                   No        No           32-bit   \n4                                  Yes       Yes           64-bit   \n\n  Instruction_Set_Extensions Idle_States Thermal_Monitoring_Technologies  \\\n0                        NaN         Yes                             Yes   \n1                 SSE4.1/4.2         NaN                             Yes   \n2                    AVX 2.0         Yes                             Yes   \n3                        NaN          No                             NaN   \n4                 SSE4.1/4.2         Yes                             Yes   \n\n   Execute_Disable_Bit  \n0                  Yes  \n1                  Yes  \n2                  Yes  \n3                   No  \n4                  Yes  \n\n[5 rows x 29 columns]",
      "text/html": "<div>\n<style scoped>\n    .dataframe tbody tr th:only-of-type {\n        vertical-align: middle;\n    }\n\n    .dataframe tbody tr th {\n        vertical-align: top;\n    }\n\n    .dataframe thead th {\n        text-align: right;\n    }\n</style>\n<table border=\"1\" class=\"dataframe\">\n  <thead>\n    <tr style=\"text-align: right;\">\n      <th></th>\n      <th>Product_Collection</th>\n      <th>Vertical_Segment</th>\n      <th>Status</th>\n      <th>Lithography</th>\n      <th>Recommended_Customer_Price</th>\n      <th>nb_of_Cores</th>\n      <th>nb_of_Threads</th>\n      <th>Processor_Base_Frequency</th>\n      <th>Cache</th>\n      <th>Bus_Speed</th>\n      <th>...</th>\n      <th>Max_nb_of_PCI_Express_Lanes</th>\n      <th>T</th>\n      <th>Intel_Hyper_Threading_Technology_</th>\n      <th>Intel_Virtualization_Technology_VTx_</th>\n      <th>Intel_64_</th>\n      <th>Instruction_Set</th>\n      <th>Instruction_Set_Extensions</th>\n      <th>Idle_States</th>\n      <th>Thermal_Monitoring_Technologies</th>\n      <th>Execute_Disable_Bit</th>\n    </tr>\n  </thead>\n  <tbody>\n    <tr>\n      <th>0</th>\n      <td>Legacy Intel® Core™ Processors</td>\n      <td>Desktop</td>\n      <td>0</td>\n      <td>7</td>\n      <td>NaN</td>\n      <td>2</td>\n      <td>NaN</td>\n      <td>2.66 GHz</td>\n      <td>6 MB L2</td>\n      <td>1333 MHz FSB</td>\n      <td>...</td>\n      <td>NaN</td>\n      <td>72.4°C</td>\n      <td>No</td>\n      <td>Yes</td>\n      <td>Yes</td>\n      <td>64-bit</td>\n      <td>NaN</td>\n      <td>Yes</td>\n      <td>Yes</td>\n      <td>Yes</td>\n    </tr>\n    <tr>\n      <th>1</th>\n      <td>Intel® Xeon® Processor E7 Family</td>\n      <td>Server</td>\n      <td>0</td>\n      <td>6</td>\n      <td>$2,558.00</td>\n      <td>10</td>\n      <td>20.0</td>\n      <td>2.00 GHz</td>\n      <td>24 MB SmartCache</td>\n      <td>6.4 GT/s QPI</td>\n      <td>...</td>\n      <td>NaN</td>\n      <td>69°C</td>\n      <td>Yes</td>\n      <td>Yes</td>\n      <td>Yes</td>\n      <td>64-bit</td>\n      <td>SSE4.1/4.2</td>\n      <td>NaN</td>\n      <td>Yes</td>\n      <td>Yes</td>\n    </tr>\n    <tr>\n      <th>2</th>\n      <td>Intel® Pentium® Processor D Series</td>\n      <td>Server</td>\n      <td>1</td>\n      <td>1</td>\n      <td>$129.00</td>\n      <td>2</td>\n      <td>4.0</td>\n      <td>2.20 GHz</td>\n      <td>3 MB</td>\n      <td>NaN</td>\n      <td>...</td>\n      <td>32.0</td>\n      <td>NaN</td>\n      <td>Yes</td>\n      <td>Yes</td>\n      <td>Yes</td>\n      <td>64-bit</td>\n      <td>AVX 2.0</td>\n      <td>Yes</td>\n      <td>Yes</td>\n      <td>Yes</td>\n    </tr>\n    <tr>\n      <th>3</th>\n      <td>Legacy Intel® Celeron® Processor</td>\n      <td>Desktop</td>\n      <td>0</td>\n      <td>2</td>\n      <td>NaN</td>\n      <td>1</td>\n      <td>NaN</td>\n      <td>850 MHz</td>\n      <td>128 KB L2</td>\n      <td>100 MHz FSB</td>\n      <td>...</td>\n      <td>NaN</td>\n      <td>80°C</td>\n      <td>No</td>\n      <td>No</td>\n      <td>No</td>\n      <td>32-bit</td>\n      <td>NaN</td>\n      <td>No</td>\n      <td>NaN</td>\n      <td>No</td>\n    </tr>\n    <tr>\n      <th>4</th>\n      <td>Intel® Celeron® Processor G Series</td>\n      <td>Desktop</td>\n      <td>1</td>\n      <td>1</td>\n      <td>$42.00</td>\n      <td>2</td>\n      <td>2.0</td>\n      <td>2.90 GHz</td>\n      <td>2 MB</td>\n      <td>8 GT/s DMI3</td>\n      <td>...</td>\n      <td>16.0</td>\n      <td>100°C</td>\n      <td>No</td>\n      <td>Yes</td>\n      <td>Yes</td>\n      <td>64-bit</td>\n      <td>SSE4.1/4.2</td>\n      <td>Yes</td>\n      <td>Yes</td>\n      <td>Yes</td>\n    </tr>\n  </tbody>\n</table>\n<p>5 rows × 29 columns</p>\n</div>"
     },
     "execution_count": 425,
     "metadata": {},
     "output_type": "execute_result"
    }
   ],
   "source": [
    "train.head()"
   ],
   "metadata": {
    "collapsed": false,
    "ExecuteTime": {
     "end_time": "2024-04-18T12:02:38.564682Z",
     "start_time": "2024-04-18T12:02:38.540499Z"
    }
   },
   "id": "85442de32e842239",
   "execution_count": 425
  },
  {
   "cell_type": "code",
   "outputs": [
    {
     "data": {
      "text/plain": "array([nan, '$2,558.00', '$129.00', '$42.00', '$692.00', '$232.00',\n       '$117.00', '$81.00', '$2,725.00', '$64.00', '$192.00', '$209.00',\n       '$3655.00 - $3661.00', '$389.00 - $396.00', '$149.00 - $179.00',\n       '$65.00', '$250.00', '$103.00', '$328.00 - $339.00', '$187.00',\n       '$107.00', '$225.00', '$110.00 - $125.00', '$1,555.00',\n       '$225.00 - $227.00', '$7,007.00', '$3,692.00', '$319.00 - $350.00',\n       '$294.00', '$434.00', '$294.00 - $297.00', '$326.00', '$179.00',\n       '$86.00', '$110.00 - $120.00', '$138.00', '$2,591.00', '$305.00',\n       '$314.00 - $320.00', '$230.00', '$208.00', '$5,895.00',\n       '$774.00 - $777.00', '$662.00', '$54.00 - $64.00', '$281.00',\n       '$161.00', '$2,405.00', '$76.00', '$30.00', '$568.00', '$275.00',\n       '$18.00', '$304.00', '$213.00 - $224.00', '$3,838.00',\n       '$339.00 - $350.00', '$134.00', '$3,616.00', '$52.00', '$1,177.00',\n       '$1894.00 - $1900.00', '$2,059.00', '$6,841.00', '$84.00',\n       '$387.00 - $391.00', '$1,013.00', '$1,299.00', '$182.00',\n       '$612.00', '$594.00', '$3616.00 - $3620.00', '$1555.00 - $1561.00',\n       '$262.00 - $273.00', '$2336.00 - $2340.00', '$1,207.00', '$22.00',\n       '$86.00 - $93.00', '$192.00 - $202.00', '$37.00',\n       '$1745.00 - $1749.00', '$1,865.00', '$2,535.00',\n       '$250.00 - $261.00', '$406.00', '$215.00 - $230.00', '$649.00',\n       '$885.00 - $889.00', '$1,544.00', '$266.00', '$434.00 - $441.00',\n       '$20.00', '$72.00', '$364.00', '$1,223.00', '$205.00',\n       '$1189.00 - $1199.00', '$2,170.00', '$5,729.00', '$177.00',\n       '$93.00', '$27.00', '$3,750.00', '$339.00', '$1723.00 - $1727.00',\n       '$278.00', '$5,890.00', '$4,394.00', '$393.00', '$774.00',\n       '$2108.00 - $2112.00', '$198.00 - $207.00', '$1,980.00',\n       '$2141.00 - $2145.00', '$1,245.00', '$237.00 - $261.00',\n       '$2445.00 - $2451.00', '$272.00 - $282.00', '$62.00', '$105.00',\n       '$138.00 - $147.00', '$109.00 - $117.00', '$244.00',\n       '$1219.00 - $1222.00', '$174.00', '$75.00', '$493.00', '$409.00',\n       '$21.00', '$601.00', '$378.00', '$242.00 - $243.00', '$358.00',\n       '$612.00 - $616.00', '$1,446.00', '$68.00 - $75.00', '$1,479.00',\n       '$178.00', '$75.00 - $82.00', '$362.00', '$7,174.00', '$303.00',\n       '$171.00', '$82.00', '$194.00', '$202.00', '$77.00 - $96.00',\n       '$623.00', '$205.00 - $213.00', '$519.00 - $554.00',\n       '$417.00 - $422.00', '$525.00 - $554.00', '$1,219.00', '$256.00',\n       '$855.00', '$4,115.00', '$7.75', '$773.00', '$2,049.00',\n       '$1,988.00', '$346.00', '$568.00 - $570.00', '$221.00',\n       '$1,502.00', '$306.00', '$210.00 - $227.00', '$494.00',\n       '$5,217.00', '$4702.00 - $4708.00', '$276.00 - $287.00', '$67.00',\n       '$946.00', '$1,611.00', '$1691.00 - $1697.00', '$612.00 - $623.00',\n       '$3,003.00', '$2.54', '$426.00', '$200.00', '$501.00', '$999.00',\n       '$1,846.00', '$2946.00 - $2952.00', '$243.00', '$996.00',\n       '$1,552.00', '$2090.00 - $2094.00', '$39.00', '$41.00', '$255.00',\n       '$545.00', '$525.00', '$6,619.00', '$4,227.00', '$50.00', '$47.00',\n       '$213.00', '$193.00 - $213.00', '$1,931.00', '$4,616.00', '$32.00',\n       '$235.00', '$340.00', '$2,891.00', '$1,668.00', '$4,672.00',\n       '$2214.00 - $2220.00', '$2,057.00', '$295.00', '$583.00 - $594.00',\n       '$570.00', '$1,096.00', '$415.00', '$1,750.00', '$2,837.00',\n       '$265.00', '$168.00', '$437.00', '$276.00 - $277.00', '$317.00',\n       '$188.00 - $195.00', '$213.00 - $217.00', '$324.00', '$54.00',\n       '$247.00', '$211.00', '$219.00 - $227.00', '$303.00 - $305.00',\n       '$4,061.00', '$250.00 - $331.00', '$294.00 - $305.00', '$459.00',\n       '$562.00', '$175.00 - $209.00', '$11.77', '$380.00', '$1,107.00',\n       '$1166.00 - $1171.00', '$182.00 - $187.00', '$417.00',\n       '$996.00 - $999.00', '$1,723.00', '$440.00', '$306.00 - $316.00',\n       '$315.00', '$1663.00 - $1666.00', '$4,938.00', '$1,663.00',\n       '$192.00 - $195.00', '$583.00', '$450.00', '$389.00', '$189.00',\n       '$3,286.00', '$1329.00 - $1333.00', '$3,368.00', '$122.00',\n       '$406.00 - $410.00', '$269.00', '$119.00', '$377.00',\n       '$240.00 - $250.00', '$360.00 - $410.00', '$91.00', '$441.00',\n       '$3,115.00', '$177.00 - $193.00', '$2,225.00', '$199.00',\n       '$2,280.00', '$297.00', '$504.00', '$323.00', '$503.00', '$280.00',\n       '$1611.00 - $1616.00', '$1,059.00', '$9.62', '$74.00', '$197.00',\n       '$667.00 - $671.00', '$98.00', '$1,881.00', '$940.00', '$150.00',\n       '$779.00', '$43.00', '$29.00', '$632.00', '$403.00', '$90.00',\n       '$70.00', '$104.00', '$1440.00 - $1443.00', '$378.00 - $380.00',\n       '$428.00', '$67.00 - $75.00', '$272.00 - $305.00', '$332.00',\n       '$245.00', '$1,832.00', '$3,227.00', '$472.00', '$231.00',\n       '$193.00 - $203.00', '$435.00', '$266.00 - $269.00',\n       '$2614.00 - $2618.00', '$2057.00 - $2061.00', '$353.00', '$121.00',\n       '$70.00 - $77.00', '$3,670.00', '$444.00', '$1440.00 - $1444.00',\n       '$851.00', '$250.00 - $251.00', '$213.00 - $223.00', '$248.00',\n       '$3,226.00', '$433.00', '$186.00 - $224.00', '$2424.00 - $2428.00',\n       '$10,409.00', '$989.00 - $999.00', '$652.00',\n       '$1445.00 - $1449.00', '$1,440.00', '$2,436.00', '$1,992.00',\n       '$3,543.00', '$679.00', '$835.00', '$551.00', '$111.00', '$519.00',\n       '$1,266.00', '$556.00', '$303.00 - $312.00', '$63.00', '$285.00',\n       '$284.00 - $294.00', '$1,776.00', '$134.00 - $144.00', '$77.00',\n       '$234.00', '$2,036.00', '$328.00', '$470.00', '$856.00', '$11.23',\n       '$939.00 - $944.00', '$189.00 - $203.00', '$560.00', '$445.00',\n       '$293.00', '$316.00', '$294.00 - $299.00', '$617.00 - $628.00',\n       '$2,650.00', '$1,850.00', '$11,722.00', '$184.00 - $195.00',\n       '$147.00', '$1,350.00', '$5,448.00', '$3,059.00', '$287.00',\n       '$1723.00 - $1743.00', '$1,334.00', '$1,364.00', '$253.00',\n       '$885.00', '$555.00', '$276.00 - $279.00', '$480.00', '$1,080.00',\n       '$1,614.00', '$413.00', '$10,009.00', '$261.00',\n       '$1219.00 - $1223.00', '$608.00', '$4,727.00', '$332.00 - $342.00',\n       '$581.00', '$335.00', '$156.00', '$1,329.00', '$912.00', '$832.00',\n       '$4,650.00', '$1,467.00', '$6114.00 - $6120.00', '$2,391.00',\n       '$1080.00 - $1083.00', '$2,767.00', '$10.70', '$501.00 - $511.00',\n       '$13.39', '$2,111.00', '$1107.00 - $1112.00', '$489.00',\n       '$1552.00 - $1556.00', '$1,391.00', '$4,936.00', '$40.00',\n       '$1,113.00', '$369.00 - $391.00', '$68.00', '$363.00', '$5,339.00',\n       '$449.00', '$201.00', '$307.00', '$31.00', '$844.00',\n       '$306.00 - $310.00', '$4,172.00', '$120.00', '$225.00 - $235.00',\n       '$94.00', '$266.00 - $273.00', '$64.00 - $72.00',\n       '$551.00 - $554.00', '$696.00', '$276.00', '$12.31',\n       '$694.00 - $704.00', '$675.00', '$1,216.00', '$6,063.00',\n       '$2,859.00', '$571.00', '$3,358.00', '$279.00', '$224.00',\n       '$149.00 - $157.00', '$95.00', '$999.00 - $1059.00',\n       '$168.00 - $179.00', '$6,451.00', '$10.16', '$35.00',\n       '$832.00 - $837.00', '$210.00', '$1,445.00', '$1,779.00',\n       '$4,560.00', '$289.00', '$351.00 - $393.00', '$2,108.00',\n       '$1,100.00', '$89.00', '$3,587.00', '$80.00', '$383.00',\n       '$366.00 - $377.00', '$883.00', '$8,898.00', '$607.00', '$910.00',\n       '$890.00', '$1,221.00', '$369.00', '$969.00',\n       '$1089.00 - $1109.00', '$1885.00 - $1890.00', '$183.00',\n       '$1389.00 - $1393.00', '$153.00', '$17.00', '$383.00 - $389.00',\n       '$590.00', '$3,157.00', '$13,011.00', '$203.00 - $224.00'],\n      dtype=object)"
     },
     "execution_count": 426,
     "metadata": {},
     "output_type": "execute_result"
    }
   ],
   "source": [
    "train['Recommended_Customer_Price'].unique()"
   ],
   "metadata": {
    "collapsed": false,
    "ExecuteTime": {
     "end_time": "2024-04-18T12:02:38.657739Z",
     "start_time": "2024-04-18T12:02:38.645441Z"
    }
   },
   "id": "8cd68887fd8edd01",
   "execution_count": 426
  },
  {
   "cell_type": "code",
   "outputs": [],
   "source": [
    "train['Recommended_Customer_Price'] = train['Recommended_Customer_Price'].str.replace('$', '')\n",
    "train['Recommended_Customer_Price'] = train['Recommended_Customer_Price'].str.replace(',', '')"
   ],
   "metadata": {
    "collapsed": false,
    "ExecuteTime": {
     "end_time": "2024-04-18T12:02:38.767388Z",
     "start_time": "2024-04-18T12:02:38.752161Z"
    }
   },
   "id": "e84231bed1208a58",
   "execution_count": 427
  },
  {
   "cell_type": "code",
   "outputs": [],
   "source": [
    "def calculate_mean_price(price):\n",
    "    price = str(price)\n",
    "    if ' - ' in price:\n",
    "        lower, upper = price.split('-')\n",
    "        print(lower, upper)\n",
    "        return round((float(lower) + float(upper)) / 2)\n",
    "    return float(price)"
   ],
   "metadata": {
    "collapsed": false,
    "ExecuteTime": {
     "end_time": "2024-04-18T12:02:38.917198Z",
     "start_time": "2024-04-18T12:02:38.898510Z"
    }
   },
   "id": "6496d6a7732eccf5",
   "execution_count": 428
  },
  {
   "cell_type": "code",
   "outputs": [
    {
     "name": "stdout",
     "output_type": "stream",
     "text": [
      "3655.00   3661.00\n",
      "389.00   396.00\n",
      "149.00   179.00\n",
      "328.00   339.00\n",
      "110.00   125.00\n",
      "225.00   227.00\n",
      "319.00   350.00\n",
      "294.00   297.00\n",
      "110.00   120.00\n",
      "314.00   320.00\n",
      "774.00   777.00\n",
      "774.00   777.00\n",
      "54.00   64.00\n",
      "213.00   224.00\n",
      "339.00   350.00\n",
      "1894.00   1900.00\n",
      "225.00   227.00\n",
      "387.00   391.00\n",
      "3616.00   3620.00\n",
      "1555.00   1561.00\n",
      "262.00   273.00\n",
      "2336.00   2340.00\n",
      "86.00   93.00\n",
      "192.00   202.00\n",
      "1745.00   1749.00\n",
      "250.00   261.00\n",
      "215.00   230.00\n",
      "885.00   889.00\n",
      "434.00   441.00\n",
      "1189.00   1199.00\n",
      "1723.00   1727.00\n",
      "2108.00   2112.00\n",
      "198.00   207.00\n",
      "328.00   339.00\n",
      "2141.00   2145.00\n",
      "237.00   261.00\n",
      "2445.00   2451.00\n",
      "272.00   282.00\n",
      "138.00   147.00\n",
      "109.00   117.00\n",
      "1219.00   1222.00\n",
      "213.00   224.00\n",
      "242.00   243.00\n",
      "612.00   616.00\n",
      "68.00   75.00\n",
      "75.00   82.00\n",
      "339.00   350.00\n",
      "77.00   96.00\n",
      "205.00   213.00\n",
      "519.00   554.00\n",
      "417.00   422.00\n",
      "525.00   554.00\n",
      "568.00   570.00\n",
      "210.00   227.00\n",
      "4702.00   4708.00\n",
      "276.00   287.00\n",
      "1723.00   1727.00\n",
      "339.00   350.00\n",
      "242.00   243.00\n",
      "1691.00   1697.00\n",
      "612.00   623.00\n",
      "2946.00   2952.00\n",
      "2090.00   2094.00\n",
      "1745.00   1749.00\n",
      "276.00   287.00\n",
      "2090.00   2094.00\n",
      "138.00   147.00\n",
      "193.00   213.00\n",
      "262.00   273.00\n",
      "339.00   350.00\n",
      "2214.00   2220.00\n",
      "328.00   339.00\n",
      "328.00   339.00\n",
      "583.00   594.00\n",
      "3616.00   3620.00\n",
      "276.00   277.00\n",
      "188.00   195.00\n",
      "213.00   217.00\n",
      "219.00   227.00\n",
      "303.00   305.00\n",
      "250.00   331.00\n",
      "294.00   305.00\n",
      "250.00   261.00\n",
      "175.00   209.00\n",
      "1166.00   1171.00\n",
      "182.00   187.00\n",
      "996.00   999.00\n",
      "86.00   93.00\n",
      "306.00   316.00\n",
      "1663.00   1666.00\n",
      "75.00   82.00\n",
      "250.00   261.00\n",
      "192.00   195.00\n",
      "192.00   202.00\n",
      "1329.00   1333.00\n",
      "406.00   410.00\n",
      "213.00   224.00\n",
      "240.00   250.00\n",
      "360.00   410.00\n",
      "177.00   193.00\n",
      "182.00   187.00\n",
      "213.00   224.00\n",
      "1611.00   1616.00\n",
      "667.00   671.00\n",
      "242.00   243.00\n",
      "213.00   224.00\n",
      "182.00   187.00\n",
      "192.00   202.00\n",
      "612.00   616.00\n",
      "1440.00   1443.00\n",
      "378.00   380.00\n",
      "67.00   75.00\n",
      "272.00   305.00\n",
      "240.00   250.00\n",
      "250.00   261.00\n",
      "193.00   203.00\n",
      "266.00   269.00\n",
      "2614.00   2618.00\n",
      "86.00   93.00\n",
      "2057.00   2061.00\n",
      "70.00   77.00\n",
      "1440.00   1444.00\n",
      "250.00   251.00\n",
      "213.00   223.00\n",
      "186.00   224.00\n",
      "2424.00   2428.00\n",
      "989.00   999.00\n",
      "1445.00   1449.00\n",
      "1166.00   1171.00\n",
      "266.00   269.00\n",
      "182.00   187.00\n",
      "193.00   203.00\n",
      "294.00   305.00\n",
      "182.00   187.00\n",
      "192.00   202.00\n",
      "885.00   889.00\n",
      "303.00   312.00\n",
      "284.00   294.00\n",
      "182.00   187.00\n",
      "134.00   144.00\n",
      "939.00   944.00\n",
      "138.00   147.00\n",
      "189.00   203.00\n",
      "1440.00   1443.00\n",
      "294.00   299.00\n",
      "1166.00   1171.00\n",
      "617.00   628.00\n",
      "184.00   195.00\n",
      "272.00   282.00\n",
      "213.00   224.00\n",
      "1723.00   1743.00\n",
      "2057.00   2061.00\n",
      "276.00   279.00\n",
      "1219.00   1223.00\n",
      "332.00   342.00\n",
      "182.00   187.00\n",
      "303.00   312.00\n",
      "328.00   339.00\n",
      "303.00   312.00\n",
      "2141.00   2145.00\n",
      "6114.00   6120.00\n",
      "1080.00   1083.00\n",
      "138.00   147.00\n",
      "501.00   511.00\n",
      "1107.00   1112.00\n",
      "182.00   187.00\n",
      "1552.00   1556.00\n",
      "1080.00   1083.00\n",
      "417.00   422.00\n",
      "369.00   391.00\n",
      "75.00   82.00\n",
      "262.00   273.00\n",
      "303.00   312.00\n",
      "54.00   64.00\n",
      "885.00   889.00\n",
      "306.00   310.00\n",
      "225.00   235.00\n",
      "266.00   273.00\n",
      "64.00   72.00\n",
      "551.00   554.00\n",
      "182.00   187.00\n",
      "694.00   704.00\n",
      "138.00   147.00\n",
      "213.00   224.00\n",
      "182.00   187.00\n",
      "192.00   195.00\n",
      "213.00   224.00\n",
      "149.00   157.00\n",
      "999.00   1059.00\n",
      "168.00   179.00\n",
      "75.00   82.00\n",
      "225.00   227.00\n",
      "832.00   837.00\n",
      "138.00   147.00\n",
      "188.00   195.00\n",
      "138.00   147.00\n",
      "351.00   393.00\n",
      "213.00   224.00\n",
      "366.00   377.00\n",
      "184.00   195.00\n",
      "138.00   147.00\n",
      "294.00   297.00\n",
      "328.00   339.00\n",
      "1089.00   1109.00\n",
      "1885.00   1890.00\n",
      "149.00   157.00\n",
      "996.00   999.00\n",
      "1389.00   1393.00\n",
      "192.00   202.00\n",
      "339.00   350.00\n",
      "383.00   389.00\n",
      "203.00   224.00\n",
      "284.00   294.00\n"
     ]
    }
   ],
   "source": [
    "train['Recommended_Customer_Price'] = train['Recommended_Customer_Price'].apply(calculate_mean_price)"
   ],
   "metadata": {
    "collapsed": false,
    "ExecuteTime": {
     "end_time": "2024-04-18T12:02:39.059766Z",
     "start_time": "2024-04-18T12:02:39.041824Z"
    }
   },
   "id": "d3c8cfb4d86cdc31",
   "execution_count": 429
  },
  {
   "cell_type": "code",
   "outputs": [],
   "source": [
    "train['Recommended_Customer_Price'] = train['Recommended_Customer_Price'].astype(float)"
   ],
   "metadata": {
    "collapsed": false,
    "ExecuteTime": {
     "end_time": "2024-04-18T12:02:39.152603Z",
     "start_time": "2024-04-18T12:02:39.142242Z"
    }
   },
   "id": "53e8d1064219bc34",
   "execution_count": 430
  },
  {
   "cell_type": "code",
   "outputs": [
    {
     "data": {
      "text/plain": "0        NaN\n1     2558.0\n2      129.0\n3        NaN\n4       42.0\n5      692.0\n6        NaN\n7        NaN\n8        NaN\n9      232.0\n10       NaN\n11       NaN\n12     117.0\n13       NaN\n14      81.0\n15       NaN\n16       NaN\n17    2725.0\n18      64.0\n19       NaN\n20       NaN\n21     192.0\n22      42.0\n23     209.0\n24    3658.0\n25     392.0\n26       NaN\n27     164.0\n28      65.0\n29       NaN\nName: Recommended_Customer_Price, dtype: float64"
     },
     "execution_count": 431,
     "metadata": {},
     "output_type": "execute_result"
    }
   ],
   "source": [
    "train['Recommended_Customer_Price'].head(30)"
   ],
   "metadata": {
    "collapsed": false,
    "ExecuteTime": {
     "end_time": "2024-04-18T12:02:39.293197Z",
     "start_time": "2024-04-18T12:02:39.273344Z"
    }
   },
   "id": "555b4818f213f4fb",
   "execution_count": 431
  },
  {
   "cell_type": "code",
   "outputs": [],
   "source": [
    "train['Recommended_Customer_Price'].interpolate(method='linear', inplace=True)"
   ],
   "metadata": {
    "collapsed": false,
    "ExecuteTime": {
     "end_time": "2024-04-18T12:02:39.339542Z",
     "start_time": "2024-04-18T12:02:39.329270Z"
    }
   },
   "id": "f6bc26b55b4a374c",
   "execution_count": 432
  },
  {
   "cell_type": "code",
   "outputs": [
    {
     "data": {
      "text/plain": "1"
     },
     "execution_count": 433,
     "metadata": {},
     "output_type": "execute_result"
    }
   ],
   "source": [
    "train['Recommended_Customer_Price'].isnull().sum()"
   ],
   "metadata": {
    "collapsed": false,
    "ExecuteTime": {
     "end_time": "2024-04-18T12:02:39.415997Z",
     "start_time": "2024-04-18T12:02:39.408467Z"
    }
   },
   "id": "24803fee3dd59291",
   "execution_count": 433
  },
  {
   "cell_type": "code",
   "outputs": [],
   "source": [
    "train = train.dropna(subset=['Recommended_Customer_Price'])"
   ],
   "metadata": {
    "collapsed": false,
    "ExecuteTime": {
     "end_time": "2024-04-18T12:02:39.517579Z",
     "start_time": "2024-04-18T12:02:39.501776Z"
    }
   },
   "id": "63c95757219d54b3",
   "execution_count": 434
  },
  {
   "cell_type": "code",
   "outputs": [
    {
     "data": {
      "text/plain": "array([ 2558. ,   129. ,    85.5, ..., 13011. ,   214. ,   247.5])"
     },
     "execution_count": 435,
     "metadata": {},
     "output_type": "execute_result"
    }
   ],
   "source": [
    "train['Recommended_Customer_Price'].unique()"
   ],
   "metadata": {
    "collapsed": false,
    "ExecuteTime": {
     "end_time": "2024-04-18T12:02:39.563664Z",
     "start_time": "2024-04-18T12:02:39.550557Z"
    }
   },
   "id": "d93ee0e67416eee1",
   "execution_count": 435
  },
  {
   "cell_type": "code",
   "outputs": [
    {
     "data": {
      "text/plain": "array([10,  2,  1,  6,  4, 22,  8, 28, 12, 68, 16, 14, 15, 24, 18, 61, 72,\n       64, 57, 20, 26, 60], dtype=int64)"
     },
     "execution_count": 436,
     "metadata": {},
     "output_type": "execute_result"
    }
   ],
   "source": [
    "train['nb_of_Cores'].unique()"
   ],
   "metadata": {
    "collapsed": false,
    "ExecuteTime": {
     "end_time": "2024-04-18T12:02:39.659601Z",
     "start_time": "2024-04-18T12:02:39.645558Z"
    }
   },
   "id": "ef73fcfd62760549",
   "execution_count": 436
  },
  {
   "cell_type": "code",
   "outputs": [],
   "source": [
    "train['nb_of_Threads'].interpolate(method='linear', inplace=True)"
   ],
   "metadata": {
    "collapsed": false,
    "ExecuteTime": {
     "end_time": "2024-04-18T12:02:39.706249Z",
     "start_time": "2024-04-18T12:02:39.695106Z"
    }
   },
   "id": "d2bae0341e28350b",
   "execution_count": 437
  },
  {
   "cell_type": "code",
   "outputs": [],
   "source": [
    "train['nb_of_Threads'] = train['nb_of_Threads'].astype(int)"
   ],
   "metadata": {
    "collapsed": false,
    "ExecuteTime": {
     "end_time": "2024-04-18T12:02:39.785907Z",
     "start_time": "2024-04-18T12:02:39.776373Z"
    }
   },
   "id": "25081bcbb2f1e5a",
   "execution_count": 438
  },
  {
   "cell_type": "code",
   "outputs": [
    {
     "data": {
      "text/plain": "                   Product_Collection Vertical_Segment  Status  Lithography  \\\n1    Intel® Xeon® Processor E7 Family           Server       0            6   \n2  Intel® Pentium® Processor D Series           Server       1            1   \n3    Legacy Intel® Celeron® Processor          Desktop       0            2   \n4  Intel® Celeron® Processor G Series          Desktop       1            1   \n5    Intel® Xeon® Processor E5 Family         Embedded       1            6   \n\n   Recommended_Customer_Price  nb_of_Cores  nb_of_Threads  \\\n1                      2558.0           10             20   \n2                       129.0            2              4   \n3                        85.5            1              3   \n4                        42.0            2              2   \n5                       692.0            6             12   \n\n  Processor_Base_Frequency             Cache     Bus_Speed  ...  \\\n1                 2.00 GHz  24 MB SmartCache  6.4 GT/s QPI  ...   \n2                 2.20 GHz              3 MB           NaN  ...   \n3                  850 MHz         128 KB L2   100 MHz FSB  ...   \n4                 2.90 GHz              2 MB   8 GT/s DMI3  ...   \n5                 1.80 GHz  15 MB SmartCache  7.2 GT/s QPI  ...   \n\n  Max_nb_of_PCI_Express_Lanes      T Intel_Hyper_Threading_Technology_  \\\n1                         NaN   69°C                               Yes   \n2                        32.0    NaN                               Yes   \n3                         NaN   80°C                                No   \n4                        16.0  100°C                                No   \n5                        24.0   89°C                               Yes   \n\n  Intel_Virtualization_Technology_VTx_ Intel_64_  Instruction_Set  \\\n1                                  Yes       Yes           64-bit   \n2                                  Yes       Yes           64-bit   \n3                                   No        No           32-bit   \n4                                  Yes       Yes           64-bit   \n5                                  Yes       Yes           64-bit   \n\n  Instruction_Set_Extensions Idle_States Thermal_Monitoring_Technologies  \\\n1                 SSE4.1/4.2         NaN                             Yes   \n2                    AVX 2.0         Yes                             Yes   \n3                        NaN          No                             NaN   \n4                 SSE4.1/4.2         Yes                             Yes   \n5                        Yes         NaN                             NaN   \n\n   Execute_Disable_Bit  \n1                  Yes  \n2                  Yes  \n3                   No  \n4                  Yes  \n5                  Yes  \n\n[5 rows x 29 columns]",
      "text/html": "<div>\n<style scoped>\n    .dataframe tbody tr th:only-of-type {\n        vertical-align: middle;\n    }\n\n    .dataframe tbody tr th {\n        vertical-align: top;\n    }\n\n    .dataframe thead th {\n        text-align: right;\n    }\n</style>\n<table border=\"1\" class=\"dataframe\">\n  <thead>\n    <tr style=\"text-align: right;\">\n      <th></th>\n      <th>Product_Collection</th>\n      <th>Vertical_Segment</th>\n      <th>Status</th>\n      <th>Lithography</th>\n      <th>Recommended_Customer_Price</th>\n      <th>nb_of_Cores</th>\n      <th>nb_of_Threads</th>\n      <th>Processor_Base_Frequency</th>\n      <th>Cache</th>\n      <th>Bus_Speed</th>\n      <th>...</th>\n      <th>Max_nb_of_PCI_Express_Lanes</th>\n      <th>T</th>\n      <th>Intel_Hyper_Threading_Technology_</th>\n      <th>Intel_Virtualization_Technology_VTx_</th>\n      <th>Intel_64_</th>\n      <th>Instruction_Set</th>\n      <th>Instruction_Set_Extensions</th>\n      <th>Idle_States</th>\n      <th>Thermal_Monitoring_Technologies</th>\n      <th>Execute_Disable_Bit</th>\n    </tr>\n  </thead>\n  <tbody>\n    <tr>\n      <th>1</th>\n      <td>Intel® Xeon® Processor E7 Family</td>\n      <td>Server</td>\n      <td>0</td>\n      <td>6</td>\n      <td>2558.0</td>\n      <td>10</td>\n      <td>20</td>\n      <td>2.00 GHz</td>\n      <td>24 MB SmartCache</td>\n      <td>6.4 GT/s QPI</td>\n      <td>...</td>\n      <td>NaN</td>\n      <td>69°C</td>\n      <td>Yes</td>\n      <td>Yes</td>\n      <td>Yes</td>\n      <td>64-bit</td>\n      <td>SSE4.1/4.2</td>\n      <td>NaN</td>\n      <td>Yes</td>\n      <td>Yes</td>\n    </tr>\n    <tr>\n      <th>2</th>\n      <td>Intel® Pentium® Processor D Series</td>\n      <td>Server</td>\n      <td>1</td>\n      <td>1</td>\n      <td>129.0</td>\n      <td>2</td>\n      <td>4</td>\n      <td>2.20 GHz</td>\n      <td>3 MB</td>\n      <td>NaN</td>\n      <td>...</td>\n      <td>32.0</td>\n      <td>NaN</td>\n      <td>Yes</td>\n      <td>Yes</td>\n      <td>Yes</td>\n      <td>64-bit</td>\n      <td>AVX 2.0</td>\n      <td>Yes</td>\n      <td>Yes</td>\n      <td>Yes</td>\n    </tr>\n    <tr>\n      <th>3</th>\n      <td>Legacy Intel® Celeron® Processor</td>\n      <td>Desktop</td>\n      <td>0</td>\n      <td>2</td>\n      <td>85.5</td>\n      <td>1</td>\n      <td>3</td>\n      <td>850 MHz</td>\n      <td>128 KB L2</td>\n      <td>100 MHz FSB</td>\n      <td>...</td>\n      <td>NaN</td>\n      <td>80°C</td>\n      <td>No</td>\n      <td>No</td>\n      <td>No</td>\n      <td>32-bit</td>\n      <td>NaN</td>\n      <td>No</td>\n      <td>NaN</td>\n      <td>No</td>\n    </tr>\n    <tr>\n      <th>4</th>\n      <td>Intel® Celeron® Processor G Series</td>\n      <td>Desktop</td>\n      <td>1</td>\n      <td>1</td>\n      <td>42.0</td>\n      <td>2</td>\n      <td>2</td>\n      <td>2.90 GHz</td>\n      <td>2 MB</td>\n      <td>8 GT/s DMI3</td>\n      <td>...</td>\n      <td>16.0</td>\n      <td>100°C</td>\n      <td>No</td>\n      <td>Yes</td>\n      <td>Yes</td>\n      <td>64-bit</td>\n      <td>SSE4.1/4.2</td>\n      <td>Yes</td>\n      <td>Yes</td>\n      <td>Yes</td>\n    </tr>\n    <tr>\n      <th>5</th>\n      <td>Intel® Xeon® Processor E5 Family</td>\n      <td>Embedded</td>\n      <td>1</td>\n      <td>6</td>\n      <td>692.0</td>\n      <td>6</td>\n      <td>12</td>\n      <td>1.80 GHz</td>\n      <td>15 MB SmartCache</td>\n      <td>7.2 GT/s QPI</td>\n      <td>...</td>\n      <td>24.0</td>\n      <td>89°C</td>\n      <td>Yes</td>\n      <td>Yes</td>\n      <td>Yes</td>\n      <td>64-bit</td>\n      <td>Yes</td>\n      <td>NaN</td>\n      <td>NaN</td>\n      <td>Yes</td>\n    </tr>\n  </tbody>\n</table>\n<p>5 rows × 29 columns</p>\n</div>"
     },
     "execution_count": 439,
     "metadata": {},
     "output_type": "execute_result"
    }
   ],
   "source": [
    "train.head()"
   ],
   "metadata": {
    "collapsed": false,
    "ExecuteTime": {
     "end_time": "2024-04-18T12:02:39.851861Z",
     "start_time": "2024-04-18T12:02:39.835481Z"
    }
   },
   "id": "9e6ceb74aa0bc208",
   "execution_count": 439
  },
  {
   "cell_type": "code",
   "outputs": [
    {
     "data": {
      "text/plain": "array(['2.00 GHz', '2.20 GHz', '850 MHz', '2.90 GHz', '1.80 GHz',\n       '3.10 GHz', '1.60 GHz', '2.16 GHz', '2.33 GHz', '1.33 GHz',\n       '1.30 GHz', '3.40 GHz', '900 MHz', '2.80 GHz', '1.86 GHz',\n       '2.60 GHz', '2.10 GHz', '3.30 GHz', '3.73 GHz', '3.00 GHz',\n       '2.50 GHz', '2.26 GHz', '3.80 GHz', '300 MHz', '1.20 GHz',\n       '3.33 GHz', '1.66 GHz', '3.50 GHz', '1.90 GHz', '2.70 GHz',\n       '1.00 GHz', '1.49 GHz', '3.60 GHz', '3.20 GHz', '1.40 GHz',\n       '2.13 GHz', '2.66 GHz', '2.40 GHz', '450 MHz', '2.93 GHz',\n       '2.53 GHz', '400 MHz', '500 MHz', '1.70 GHz', '3.06 GHz',\n       '600 MHz', '1.46 GHz', '1.50 GHz', '3.70 GHz', '2.30 GHz',\n       '4.30 GHz', '333 MHz', '2.83 GHz', nan, '1.06 GHz', '1.87 GHz',\n       '550 MHz', '1.73 GHz', '2.41 GHz', '180 MHz', '100 MHz', '266 MHz',\n       '1.44 GHz', '3.16 GHz', '1.24 GHz', '800 MHz', '1.04 GHz',\n       '750 MHz', '866 MHz', '1.10 GHz', '350 MHz', '32 MHz', '533 MHz',\n       '4.00 GHz', '700 MHz', '1.83 GHz', '1.13 GHz', '1.75 GHz',\n       '3.46 GHz', '133 MHz', '2.27 GHz', '233 MHz', '4.10 GHz',\n       '200 MHz', '150 MHz', '1.91 GHz', '33 MHz', '933 MHz', '766 MHz',\n       '1.07 GHz', '166 MHz', '733 MHz', '950 MHz', '366 MHz', '1.42 GHz',\n       '650 MHz', '1.58 GHz', '3.90 GHz', '2.17 GHz', '90 MHz',\n       '1.59 GHz', '930 MHz', '667 MHz', '1.05 GHz', '633 MHz',\n       '4.20 GHz', '120 MHz'], dtype=object)"
     },
     "execution_count": 440,
     "metadata": {},
     "output_type": "execute_result"
    }
   ],
   "source": [
    "train['Processor_Base_Frequency'].unique()"
   ],
   "metadata": {
    "collapsed": false,
    "ExecuteTime": {
     "end_time": "2024-04-18T12:02:39.915254Z",
     "start_time": "2024-04-18T12:02:39.903256Z"
    }
   },
   "id": "de0d499dee4f3bd7",
   "execution_count": 440
  },
  {
   "cell_type": "code",
   "outputs": [
    {
     "data": {
      "text/plain": "15"
     },
     "execution_count": 441,
     "metadata": {},
     "output_type": "execute_result"
    }
   ],
   "source": [
    "train['Processor_Base_Frequency'].isnull().sum()"
   ],
   "metadata": {
    "collapsed": false,
    "ExecuteTime": {
     "end_time": "2024-04-18T12:02:39.930525Z",
     "start_time": "2024-04-18T12:02:39.916359Z"
    }
   },
   "id": "2f29bb29fc2566a2",
   "execution_count": 441
  },
  {
   "cell_type": "code",
   "outputs": [
    {
     "name": "stdout",
     "output_type": "stream",
     "text": [
      "<class 'pandas.core.frame.DataFrame'>\n",
      "Index: 1810 entries, 1 to 1825\n",
      "Data columns (total 29 columns):\n",
      " #   Column                                Non-Null Count  Dtype  \n",
      "---  ------                                --------------  -----  \n",
      " 0   Product_Collection                    1810 non-null   object \n",
      " 1   Vertical_Segment                      1810 non-null   object \n",
      " 2   Status                                1810 non-null   int64  \n",
      " 3   Lithography                           1810 non-null   int32  \n",
      " 4   Recommended_Customer_Price            1810 non-null   float64\n",
      " 5   nb_of_Cores                           1810 non-null   int64  \n",
      " 6   nb_of_Threads                         1810 non-null   int32  \n",
      " 7   Processor_Base_Frequency              1810 non-null   object \n",
      " 8   Cache                                 1801 non-null   object \n",
      " 9   Bus_Speed                             1597 non-null   object \n",
      " 10  TDP                                   1770 non-null   object \n",
      " 11  Embedded_Options_Available            1809 non-null   object \n",
      " 12  Conflict_Free                         947 non-null    object \n",
      " 13  Max_Memory_Size                       1113 non-null   object \n",
      " 14  Memory_Types                          1112 non-null   object \n",
      " 15  Max_nb_of_Memory_Channels             1122 non-null   float64\n",
      " 16  Max_Memory_Bandwidth                  929 non-null    object \n",
      " 17  ECC_Memory_Supported                  1205 non-null   object \n",
      " 18  PCI_Express_Revision                  1011 non-null   object \n",
      " 19  Max_nb_of_PCI_Express_Lanes           944 non-null    float64\n",
      " 20  T                                     1606 non-null   object \n",
      " 21  Intel_Hyper_Threading_Technology_     1612 non-null   object \n",
      " 22  Intel_Virtualization_Technology_VTx_  1750 non-null   object \n",
      " 23  Intel_64_                             1579 non-null   object \n",
      " 24  Instruction_Set                       1707 non-null   object \n",
      " 25  Instruction_Set_Extensions            983 non-null    object \n",
      " 26  Idle_States                           1400 non-null   object \n",
      " 27  Thermal_Monitoring_Technologies       1108 non-null   object \n",
      " 28  Execute_Disable_Bit                   1585 non-null   object \n",
      "dtypes: float64(3), int32(2), int64(2), object(22)\n",
      "memory usage: 410.1+ KB\n"
     ]
    }
   ],
   "source": [
    "train = train.dropna(subset=['Processor_Base_Frequency'])\n",
    "train.info()"
   ],
   "metadata": {
    "collapsed": false,
    "ExecuteTime": {
     "end_time": "2024-04-18T12:02:39.976122Z",
     "start_time": "2024-04-18T12:02:39.962950Z"
    }
   },
   "id": "25e58021e26aab3",
   "execution_count": 442
  },
  {
   "cell_type": "code",
   "outputs": [],
   "source": [
    "def frequency_units(frequency):\n",
    "    frequency = str(frequency)\n",
    "    value, unit = frequency.split(' ')\n",
    "    unit_map = {'GHz': 1, 'MHz': 0.001}\n",
    "    multiplier = unit_map[unit]\n",
    "    value = float(value) * multiplier\n",
    "    return value"
   ],
   "metadata": {
    "collapsed": false,
    "ExecuteTime": {
     "end_time": "2024-04-18T12:02:40.055168Z",
     "start_time": "2024-04-18T12:02:40.047575Z"
    }
   },
   "id": "2cfc2664561ea016",
   "execution_count": 443
  },
  {
   "cell_type": "code",
   "outputs": [
    {
     "name": "stdout",
     "output_type": "stream",
     "text": [
      "0.65\n"
     ]
    }
   ],
   "source": [
    "test_frequency = '650 MHz'\n",
    "print(frequency_units(test_frequency))"
   ],
   "metadata": {
    "collapsed": false,
    "ExecuteTime": {
     "end_time": "2024-04-18T12:02:40.154550Z",
     "start_time": "2024-04-18T12:02:40.147852Z"
    }
   },
   "id": "fb80dd11ee14d464",
   "execution_count": 444
  },
  {
   "cell_type": "code",
   "outputs": [],
   "source": [
    "train['Processor_Base_Frequency'] = train['Processor_Base_Frequency'].apply(frequency_units)"
   ],
   "metadata": {
    "collapsed": false,
    "ExecuteTime": {
     "end_time": "2024-04-18T12:02:40.287380Z",
     "start_time": "2024-04-18T12:02:40.271153Z"
    }
   },
   "id": "56d51a22af3a4ae5",
   "execution_count": 445
  },
  {
   "cell_type": "code",
   "outputs": [
    {
     "data": {
      "text/plain": "1     2.00\n2     2.20\n3     0.85\n4     2.90\n5     1.80\n6     3.10\n7     1.60\n8     2.16\n9     2.33\n10    1.33\nName: Processor_Base_Frequency, dtype: float64"
     },
     "execution_count": 446,
     "metadata": {},
     "output_type": "execute_result"
    }
   ],
   "source": [
    "train['Processor_Base_Frequency'].head(10)"
   ],
   "metadata": {
    "collapsed": false,
    "ExecuteTime": {
     "end_time": "2024-04-18T12:02:40.348469Z",
     "start_time": "2024-04-18T12:02:40.336512Z"
    }
   },
   "id": "e77bbf572119bd36",
   "execution_count": 446
  },
  {
   "cell_type": "code",
   "outputs": [
    {
     "data": {
      "text/plain": "                   Product_Collection Vertical_Segment  Status  Lithography  \\\n1    Intel® Xeon® Processor E7 Family           Server       0            6   \n2  Intel® Pentium® Processor D Series           Server       1            1   \n3    Legacy Intel® Celeron® Processor          Desktop       0            2   \n4  Intel® Celeron® Processor G Series          Desktop       1            1   \n5    Intel® Xeon® Processor E5 Family         Embedded       1            6   \n\n   Recommended_Customer_Price  nb_of_Cores  nb_of_Threads  \\\n1                      2558.0           10             20   \n2                       129.0            2              4   \n3                        85.5            1              3   \n4                        42.0            2              2   \n5                       692.0            6             12   \n\n   Processor_Base_Frequency             Cache     Bus_Speed  ...  \\\n1                      2.00  24 MB SmartCache  6.4 GT/s QPI  ...   \n2                      2.20              3 MB           NaN  ...   \n3                      0.85         128 KB L2   100 MHz FSB  ...   \n4                      2.90              2 MB   8 GT/s DMI3  ...   \n5                      1.80  15 MB SmartCache  7.2 GT/s QPI  ...   \n\n  Max_nb_of_PCI_Express_Lanes      T Intel_Hyper_Threading_Technology_  \\\n1                         NaN   69°C                               Yes   \n2                        32.0    NaN                               Yes   \n3                         NaN   80°C                                No   \n4                        16.0  100°C                                No   \n5                        24.0   89°C                               Yes   \n\n  Intel_Virtualization_Technology_VTx_ Intel_64_  Instruction_Set  \\\n1                                  Yes       Yes           64-bit   \n2                                  Yes       Yes           64-bit   \n3                                   No        No           32-bit   \n4                                  Yes       Yes           64-bit   \n5                                  Yes       Yes           64-bit   \n\n  Instruction_Set_Extensions Idle_States Thermal_Monitoring_Technologies  \\\n1                 SSE4.1/4.2         NaN                             Yes   \n2                    AVX 2.0         Yes                             Yes   \n3                        NaN          No                             NaN   \n4                 SSE4.1/4.2         Yes                             Yes   \n5                        Yes         NaN                             NaN   \n\n   Execute_Disable_Bit  \n1                  Yes  \n2                  Yes  \n3                   No  \n4                  Yes  \n5                  Yes  \n\n[5 rows x 29 columns]",
      "text/html": "<div>\n<style scoped>\n    .dataframe tbody tr th:only-of-type {\n        vertical-align: middle;\n    }\n\n    .dataframe tbody tr th {\n        vertical-align: top;\n    }\n\n    .dataframe thead th {\n        text-align: right;\n    }\n</style>\n<table border=\"1\" class=\"dataframe\">\n  <thead>\n    <tr style=\"text-align: right;\">\n      <th></th>\n      <th>Product_Collection</th>\n      <th>Vertical_Segment</th>\n      <th>Status</th>\n      <th>Lithography</th>\n      <th>Recommended_Customer_Price</th>\n      <th>nb_of_Cores</th>\n      <th>nb_of_Threads</th>\n      <th>Processor_Base_Frequency</th>\n      <th>Cache</th>\n      <th>Bus_Speed</th>\n      <th>...</th>\n      <th>Max_nb_of_PCI_Express_Lanes</th>\n      <th>T</th>\n      <th>Intel_Hyper_Threading_Technology_</th>\n      <th>Intel_Virtualization_Technology_VTx_</th>\n      <th>Intel_64_</th>\n      <th>Instruction_Set</th>\n      <th>Instruction_Set_Extensions</th>\n      <th>Idle_States</th>\n      <th>Thermal_Monitoring_Technologies</th>\n      <th>Execute_Disable_Bit</th>\n    </tr>\n  </thead>\n  <tbody>\n    <tr>\n      <th>1</th>\n      <td>Intel® Xeon® Processor E7 Family</td>\n      <td>Server</td>\n      <td>0</td>\n      <td>6</td>\n      <td>2558.0</td>\n      <td>10</td>\n      <td>20</td>\n      <td>2.00</td>\n      <td>24 MB SmartCache</td>\n      <td>6.4 GT/s QPI</td>\n      <td>...</td>\n      <td>NaN</td>\n      <td>69°C</td>\n      <td>Yes</td>\n      <td>Yes</td>\n      <td>Yes</td>\n      <td>64-bit</td>\n      <td>SSE4.1/4.2</td>\n      <td>NaN</td>\n      <td>Yes</td>\n      <td>Yes</td>\n    </tr>\n    <tr>\n      <th>2</th>\n      <td>Intel® Pentium® Processor D Series</td>\n      <td>Server</td>\n      <td>1</td>\n      <td>1</td>\n      <td>129.0</td>\n      <td>2</td>\n      <td>4</td>\n      <td>2.20</td>\n      <td>3 MB</td>\n      <td>NaN</td>\n      <td>...</td>\n      <td>32.0</td>\n      <td>NaN</td>\n      <td>Yes</td>\n      <td>Yes</td>\n      <td>Yes</td>\n      <td>64-bit</td>\n      <td>AVX 2.0</td>\n      <td>Yes</td>\n      <td>Yes</td>\n      <td>Yes</td>\n    </tr>\n    <tr>\n      <th>3</th>\n      <td>Legacy Intel® Celeron® Processor</td>\n      <td>Desktop</td>\n      <td>0</td>\n      <td>2</td>\n      <td>85.5</td>\n      <td>1</td>\n      <td>3</td>\n      <td>0.85</td>\n      <td>128 KB L2</td>\n      <td>100 MHz FSB</td>\n      <td>...</td>\n      <td>NaN</td>\n      <td>80°C</td>\n      <td>No</td>\n      <td>No</td>\n      <td>No</td>\n      <td>32-bit</td>\n      <td>NaN</td>\n      <td>No</td>\n      <td>NaN</td>\n      <td>No</td>\n    </tr>\n    <tr>\n      <th>4</th>\n      <td>Intel® Celeron® Processor G Series</td>\n      <td>Desktop</td>\n      <td>1</td>\n      <td>1</td>\n      <td>42.0</td>\n      <td>2</td>\n      <td>2</td>\n      <td>2.90</td>\n      <td>2 MB</td>\n      <td>8 GT/s DMI3</td>\n      <td>...</td>\n      <td>16.0</td>\n      <td>100°C</td>\n      <td>No</td>\n      <td>Yes</td>\n      <td>Yes</td>\n      <td>64-bit</td>\n      <td>SSE4.1/4.2</td>\n      <td>Yes</td>\n      <td>Yes</td>\n      <td>Yes</td>\n    </tr>\n    <tr>\n      <th>5</th>\n      <td>Intel® Xeon® Processor E5 Family</td>\n      <td>Embedded</td>\n      <td>1</td>\n      <td>6</td>\n      <td>692.0</td>\n      <td>6</td>\n      <td>12</td>\n      <td>1.80</td>\n      <td>15 MB SmartCache</td>\n      <td>7.2 GT/s QPI</td>\n      <td>...</td>\n      <td>24.0</td>\n      <td>89°C</td>\n      <td>Yes</td>\n      <td>Yes</td>\n      <td>Yes</td>\n      <td>64-bit</td>\n      <td>Yes</td>\n      <td>NaN</td>\n      <td>NaN</td>\n      <td>Yes</td>\n    </tr>\n  </tbody>\n</table>\n<p>5 rows × 29 columns</p>\n</div>"
     },
     "execution_count": 447,
     "metadata": {},
     "output_type": "execute_result"
    }
   ],
   "source": [
    "train.head()"
   ],
   "metadata": {
    "collapsed": false,
    "ExecuteTime": {
     "end_time": "2024-04-18T12:02:40.408568Z",
     "start_time": "2024-04-18T12:02:40.380055Z"
    }
   },
   "id": "ae42f1c83a48114c",
   "execution_count": 447
  },
  {
   "cell_type": "code",
   "outputs": [
    {
     "data": {
      "text/plain": "array(['24 MB SmartCache', '3 MB', '128 KB L2', '2 MB',\n       '15 MB SmartCache', '3 MB SmartCache', '1.5 MB L3', '2 MB L2',\n       '4 MB L2', '4 MB SmartCache', '1 MB L2', '512 KB L2', '256 KB L2',\n       '20 MB SmartCache', '6 MB L2', '6 MB', '2 MB SmartCache',\n       '30.25 MB L3', '3 MB L2', '18 MB L3', nan, '8 MB SmartCache',\n       '6 MB SmartCache', '1 MB', '25 MB', '38.5 MB L3', '24.75 MB L3',\n       '24 MB L3', '10 MB SmartCache', '10 MB', '8 MB L3', '1.5 MB L2',\n       '34 MB L2', '8 MB L2', '4 MB', '55 MB', '12 MB SmartCache',\n       '9 MB L2', '30 MB', '16 MB', '12 MB L2', '2 MB L3', '8 MB',\n       '25 MB SmartCache', '22 MB L3', '20 MB', '60 MB',\n       '512 KB SmartCache', '18 MB', '19.25 MB L3', '30 MB SmartCache',\n       '4 MB L3', '1 MB SmartCache', '35 MB', '35 MB SmartCache', '15 MB',\n       '16.5 MB L3', '30 MB Last Level Cache', '37.5 MB', '32 MB',\n       '33 MB L3', '20 MB Last Level Cache', '12 MB', '30.5 MB L2',\n       '45 MB Last Level Cache', '55 MB SmartCache', '8 KB',\n       '13.75 MB L3', '24.75 MB', '25 MB Last Level Cache', '3 MB L3',\n       '10 MB L3', '20 MB L3', '35 MB Last Level Cache', '8.25 MB',\n       '11 MB L3', '16 MB SmartCache', '45 MB', '18 MB SmartCache',\n       '40 MB SmartCache', '24 MB L2', '512 KB', '16 MB L2',\n       '40 MB Last Level Cache', '16 KB', '9 MB', '36 MB L2', '32 MB L2',\n       '28.5 MB L2', '5 MB SmartCache', '27.5 MB L3', '1.5 MB SmartCache',\n       '24 MB', '8.25 MB L3', '50 MB SmartCache', '35.75 MB L3',\n       '15 MB L3', '16 MB L3', '50 MB', '256 KB', '12 MB L3', '18 MB L2',\n       '40 MB', '30 MB L2', '45 MB SmartCache'], dtype=object)"
     },
     "execution_count": 448,
     "metadata": {},
     "output_type": "execute_result"
    }
   ],
   "source": [
    "train['Cache'].unique()"
   ],
   "metadata": {
    "collapsed": false,
    "ExecuteTime": {
     "end_time": "2024-04-18T12:02:40.484859Z",
     "start_time": "2024-04-18T12:02:40.471878Z"
    }
   },
   "id": "55370800082ef35a",
   "execution_count": 448
  },
  {
   "cell_type": "code",
   "outputs": [],
   "source": [
    "import re\n",
    "\n",
    "\n",
    "def cache_type(cache):\n",
    "    if pd.isnull(cache):\n",
    "        return pd.NA, pd.NA\n",
    "    cache = str(cache)\n",
    "    if cache.count(' ') == 1:\n",
    "        cache += ' L3'\n",
    "    data = re.split(r'(\\d+\\.?\\d*)\\s([\\w\\\\/]+)\\s(.*)', cache)[1:-1]\n",
    "    value, unit, c_type = data\n",
    "    unit_map = {'MB': 1, 'KB': 0.001}\n",
    "    multiplier = unit_map[unit]\n",
    "    value = float(value) * multiplier\n",
    "    return value, c_type"
   ],
   "metadata": {
    "collapsed": false,
    "ExecuteTime": {
     "end_time": "2024-04-18T12:02:40.518868Z",
     "start_time": "2024-04-18T12:02:40.505003Z"
    }
   },
   "id": "5b338aa0bc83b359",
   "execution_count": 449
  },
  {
   "cell_type": "code",
   "outputs": [
    {
     "name": "stdout",
     "output_type": "stream",
     "text": [
      "(3.0, 'L3')\n"
     ]
    }
   ],
   "source": [
    "test_cache = '3 MB'\n",
    "print(cache_type(test_cache))"
   ],
   "metadata": {
    "collapsed": false,
    "ExecuteTime": {
     "end_time": "2024-04-18T12:02:40.612672Z",
     "start_time": "2024-04-18T12:02:40.598560Z"
    }
   },
   "id": "6f8f41bebc9793ca",
   "execution_count": 450
  },
  {
   "cell_type": "code",
   "outputs": [],
   "source": [
    "train['Cache_Size'] = train['Cache'].apply(lambda x: cache_type(x)[0])\n",
    "train['Cache_Type'] = train['Cache'].apply(lambda x: cache_type(x)[1])"
   ],
   "metadata": {
    "collapsed": false,
    "ExecuteTime": {
     "end_time": "2024-04-18T12:02:40.691501Z",
     "start_time": "2024-04-18T12:02:40.679808Z"
    }
   },
   "id": "f528e7c1cb084422",
   "execution_count": 451
  },
  {
   "cell_type": "code",
   "outputs": [
    {
     "data": {
      "text/plain": "1      24.0\n2       3.0\n3     0.128\n4       2.0\n5      15.0\n6       3.0\n7       1.5\n8       2.0\n9       4.0\n10      4.0\nName: Cache_Size, dtype: object"
     },
     "execution_count": 452,
     "metadata": {},
     "output_type": "execute_result"
    }
   ],
   "source": [
    "train['Cache_Size'].head(10)"
   ],
   "metadata": {
    "collapsed": false,
    "ExecuteTime": {
     "end_time": "2024-04-18T12:02:40.846798Z",
     "start_time": "2024-04-18T12:02:40.839243Z"
    }
   },
   "id": "f2a1e01e634af6f2",
   "execution_count": 452
  },
  {
   "cell_type": "code",
   "outputs": [
    {
     "data": {
      "text/plain": "1     SmartCache\n2             L3\n3             L2\n4             L3\n5     SmartCache\n6     SmartCache\n7             L3\n8             L2\n9             L2\n10    SmartCache\nName: Cache_Type, dtype: object"
     },
     "execution_count": 453,
     "metadata": {},
     "output_type": "execute_result"
    }
   ],
   "source": [
    "train['Cache_Type'].head(10)"
   ],
   "metadata": {
    "collapsed": false,
    "ExecuteTime": {
     "end_time": "2024-04-18T12:02:40.919250Z",
     "start_time": "2024-04-18T12:02:40.903773Z"
    }
   },
   "id": "1b251b8e1608a8e0",
   "execution_count": 453
  },
  {
   "cell_type": "code",
   "outputs": [],
   "source": [
    "train = train.drop('Cache', axis=1)"
   ],
   "metadata": {
    "collapsed": false,
    "ExecuteTime": {
     "end_time": "2024-04-18T12:02:41.013199Z",
     "start_time": "2024-04-18T12:02:40.999178Z"
    }
   },
   "id": "3148d9c989d75daa",
   "execution_count": 454
  },
  {
   "cell_type": "code",
   "outputs": [],
   "source": [
    "train['Cache_Size'].fillna(train['Cache_Size'].mode()[0], inplace=True)"
   ],
   "metadata": {
    "collapsed": false,
    "ExecuteTime": {
     "end_time": "2024-04-18T12:02:41.044314Z",
     "start_time": "2024-04-18T12:02:41.030901Z"
    }
   },
   "id": "83098282277f9494",
   "execution_count": 455
  },
  {
   "cell_type": "code",
   "outputs": [],
   "source": [
    "train['Cache_Type'].fillna(train['Cache_Type'].mode()[0], inplace=True)"
   ],
   "metadata": {
    "collapsed": false,
    "ExecuteTime": {
     "end_time": "2024-04-18T12:02:41.152199Z",
     "start_time": "2024-04-18T12:02:41.140107Z"
    }
   },
   "id": "e00cfd71cef7a723",
   "execution_count": 456
  },
  {
   "cell_type": "code",
   "outputs": [
    {
     "data": {
      "text/plain": "                   Product_Collection Vertical_Segment  Status  Lithography  \\\n1    Intel® Xeon® Processor E7 Family           Server       0            6   \n2  Intel® Pentium® Processor D Series           Server       1            1   \n3    Legacy Intel® Celeron® Processor          Desktop       0            2   \n4  Intel® Celeron® Processor G Series          Desktop       1            1   \n5    Intel® Xeon® Processor E5 Family         Embedded       1            6   \n\n   Recommended_Customer_Price  nb_of_Cores  nb_of_Threads  \\\n1                      2558.0           10             20   \n2                       129.0            2              4   \n3                        85.5            1              3   \n4                        42.0            2              2   \n5                       692.0            6             12   \n\n   Processor_Base_Frequency     Bus_Speed     TDP  ...  \\\n1                      2.00  6.4 GT/s QPI   130 W  ...   \n2                      2.20           NaN    25 W  ...   \n3                      0.85   100 MHz FSB  25.7 W  ...   \n4                      2.90   8 GT/s DMI3    51 W  ...   \n5                      1.80  7.2 GT/s QPI    60 W  ...   \n\n  Intel_Hyper_Threading_Technology_ Intel_Virtualization_Technology_VTx_  \\\n1                               Yes                                  Yes   \n2                               Yes                                  Yes   \n3                                No                                   No   \n4                                No                                  Yes   \n5                               Yes                                  Yes   \n\n  Intel_64_ Instruction_Set  Instruction_Set_Extensions Idle_States  \\\n1       Yes          64-bit                  SSE4.1/4.2         NaN   \n2       Yes          64-bit                     AVX 2.0         Yes   \n3        No          32-bit                         NaN          No   \n4       Yes          64-bit                  SSE4.1/4.2         Yes   \n5       Yes          64-bit                         Yes         NaN   \n\n  Thermal_Monitoring_Technologies Execute_Disable_Bit  Cache_Size  Cache_Type  \n1                             Yes                 Yes      24.000  SmartCache  \n2                             Yes                 Yes       3.000          L3  \n3                             NaN                  No       0.128          L2  \n4                             Yes                 Yes       2.000          L3  \n5                             NaN                 Yes      15.000  SmartCache  \n\n[5 rows x 30 columns]",
      "text/html": "<div>\n<style scoped>\n    .dataframe tbody tr th:only-of-type {\n        vertical-align: middle;\n    }\n\n    .dataframe tbody tr th {\n        vertical-align: top;\n    }\n\n    .dataframe thead th {\n        text-align: right;\n    }\n</style>\n<table border=\"1\" class=\"dataframe\">\n  <thead>\n    <tr style=\"text-align: right;\">\n      <th></th>\n      <th>Product_Collection</th>\n      <th>Vertical_Segment</th>\n      <th>Status</th>\n      <th>Lithography</th>\n      <th>Recommended_Customer_Price</th>\n      <th>nb_of_Cores</th>\n      <th>nb_of_Threads</th>\n      <th>Processor_Base_Frequency</th>\n      <th>Bus_Speed</th>\n      <th>TDP</th>\n      <th>...</th>\n      <th>Intel_Hyper_Threading_Technology_</th>\n      <th>Intel_Virtualization_Technology_VTx_</th>\n      <th>Intel_64_</th>\n      <th>Instruction_Set</th>\n      <th>Instruction_Set_Extensions</th>\n      <th>Idle_States</th>\n      <th>Thermal_Monitoring_Technologies</th>\n      <th>Execute_Disable_Bit</th>\n      <th>Cache_Size</th>\n      <th>Cache_Type</th>\n    </tr>\n  </thead>\n  <tbody>\n    <tr>\n      <th>1</th>\n      <td>Intel® Xeon® Processor E7 Family</td>\n      <td>Server</td>\n      <td>0</td>\n      <td>6</td>\n      <td>2558.0</td>\n      <td>10</td>\n      <td>20</td>\n      <td>2.00</td>\n      <td>6.4 GT/s QPI</td>\n      <td>130 W</td>\n      <td>...</td>\n      <td>Yes</td>\n      <td>Yes</td>\n      <td>Yes</td>\n      <td>64-bit</td>\n      <td>SSE4.1/4.2</td>\n      <td>NaN</td>\n      <td>Yes</td>\n      <td>Yes</td>\n      <td>24.000</td>\n      <td>SmartCache</td>\n    </tr>\n    <tr>\n      <th>2</th>\n      <td>Intel® Pentium® Processor D Series</td>\n      <td>Server</td>\n      <td>1</td>\n      <td>1</td>\n      <td>129.0</td>\n      <td>2</td>\n      <td>4</td>\n      <td>2.20</td>\n      <td>NaN</td>\n      <td>25 W</td>\n      <td>...</td>\n      <td>Yes</td>\n      <td>Yes</td>\n      <td>Yes</td>\n      <td>64-bit</td>\n      <td>AVX 2.0</td>\n      <td>Yes</td>\n      <td>Yes</td>\n      <td>Yes</td>\n      <td>3.000</td>\n      <td>L3</td>\n    </tr>\n    <tr>\n      <th>3</th>\n      <td>Legacy Intel® Celeron® Processor</td>\n      <td>Desktop</td>\n      <td>0</td>\n      <td>2</td>\n      <td>85.5</td>\n      <td>1</td>\n      <td>3</td>\n      <td>0.85</td>\n      <td>100 MHz FSB</td>\n      <td>25.7 W</td>\n      <td>...</td>\n      <td>No</td>\n      <td>No</td>\n      <td>No</td>\n      <td>32-bit</td>\n      <td>NaN</td>\n      <td>No</td>\n      <td>NaN</td>\n      <td>No</td>\n      <td>0.128</td>\n      <td>L2</td>\n    </tr>\n    <tr>\n      <th>4</th>\n      <td>Intel® Celeron® Processor G Series</td>\n      <td>Desktop</td>\n      <td>1</td>\n      <td>1</td>\n      <td>42.0</td>\n      <td>2</td>\n      <td>2</td>\n      <td>2.90</td>\n      <td>8 GT/s DMI3</td>\n      <td>51 W</td>\n      <td>...</td>\n      <td>No</td>\n      <td>Yes</td>\n      <td>Yes</td>\n      <td>64-bit</td>\n      <td>SSE4.1/4.2</td>\n      <td>Yes</td>\n      <td>Yes</td>\n      <td>Yes</td>\n      <td>2.000</td>\n      <td>L3</td>\n    </tr>\n    <tr>\n      <th>5</th>\n      <td>Intel® Xeon® Processor E5 Family</td>\n      <td>Embedded</td>\n      <td>1</td>\n      <td>6</td>\n      <td>692.0</td>\n      <td>6</td>\n      <td>12</td>\n      <td>1.80</td>\n      <td>7.2 GT/s QPI</td>\n      <td>60 W</td>\n      <td>...</td>\n      <td>Yes</td>\n      <td>Yes</td>\n      <td>Yes</td>\n      <td>64-bit</td>\n      <td>Yes</td>\n      <td>NaN</td>\n      <td>NaN</td>\n      <td>Yes</td>\n      <td>15.000</td>\n      <td>SmartCache</td>\n    </tr>\n  </tbody>\n</table>\n<p>5 rows × 30 columns</p>\n</div>"
     },
     "execution_count": 457,
     "metadata": {},
     "output_type": "execute_result"
    }
   ],
   "source": [
    "train.head()"
   ],
   "metadata": {
    "collapsed": false,
    "ExecuteTime": {
     "end_time": "2024-04-18T12:02:41.203741Z",
     "start_time": "2024-04-18T12:02:41.184339Z"
    }
   },
   "id": "2a5413f9fd3c1bd5",
   "execution_count": 457
  },
  {
   "cell_type": "code",
   "outputs": [
    {
     "name": "stdout",
     "output_type": "stream",
     "text": [
      "<class 'pandas.core.frame.DataFrame'>\n",
      "Index: 1810 entries, 1 to 1825\n",
      "Data columns (total 30 columns):\n",
      " #   Column                                Non-Null Count  Dtype  \n",
      "---  ------                                --------------  -----  \n",
      " 0   Product_Collection                    1810 non-null   object \n",
      " 1   Vertical_Segment                      1810 non-null   object \n",
      " 2   Status                                1810 non-null   int64  \n",
      " 3   Lithography                           1810 non-null   int32  \n",
      " 4   Recommended_Customer_Price            1810 non-null   float64\n",
      " 5   nb_of_Cores                           1810 non-null   int64  \n",
      " 6   nb_of_Threads                         1810 non-null   int32  \n",
      " 7   Processor_Base_Frequency              1810 non-null   float64\n",
      " 8   Bus_Speed                             1597 non-null   object \n",
      " 9   TDP                                   1770 non-null   object \n",
      " 10  Embedded_Options_Available            1809 non-null   object \n",
      " 11  Conflict_Free                         947 non-null    object \n",
      " 12  Max_Memory_Size                       1113 non-null   object \n",
      " 13  Memory_Types                          1112 non-null   object \n",
      " 14  Max_nb_of_Memory_Channels             1122 non-null   float64\n",
      " 15  Max_Memory_Bandwidth                  929 non-null    object \n",
      " 16  ECC_Memory_Supported                  1205 non-null   object \n",
      " 17  PCI_Express_Revision                  1011 non-null   object \n",
      " 18  Max_nb_of_PCI_Express_Lanes           944 non-null    float64\n",
      " 19  T                                     1606 non-null   object \n",
      " 20  Intel_Hyper_Threading_Technology_     1612 non-null   object \n",
      " 21  Intel_Virtualization_Technology_VTx_  1750 non-null   object \n",
      " 22  Intel_64_                             1579 non-null   object \n",
      " 23  Instruction_Set                       1707 non-null   object \n",
      " 24  Instruction_Set_Extensions            983 non-null    object \n",
      " 25  Idle_States                           1400 non-null   object \n",
      " 26  Thermal_Monitoring_Technologies       1108 non-null   object \n",
      " 27  Execute_Disable_Bit                   1585 non-null   object \n",
      " 28  Cache_Size                            1810 non-null   float64\n",
      " 29  Cache_Type                            1810 non-null   object \n",
      "dtypes: float64(5), int32(2), int64(2), object(21)\n",
      "memory usage: 424.2+ KB\n"
     ]
    }
   ],
   "source": [
    "train.info()"
   ],
   "metadata": {
    "collapsed": false,
    "ExecuteTime": {
     "end_time": "2024-04-18T12:02:41.267092Z",
     "start_time": "2024-04-18T12:02:41.242680Z"
    }
   },
   "id": "60b5e850b68f439c",
   "execution_count": 458
  },
  {
   "cell_type": "code",
   "outputs": [
    {
     "name": "stdout",
     "output_type": "stream",
     "text": [
      "<class 'pandas.core.series.Series'>\n",
      "Index: 1810 entries, 1 to 1825\n",
      "Series name: Bus_Speed\n",
      "Non-Null Count  Dtype \n",
      "--------------  ----- \n",
      "1597 non-null   object\n",
      "dtypes: object(1)\n",
      "memory usage: 28.3+ KB\n"
     ]
    }
   ],
   "source": [
    "train['Bus_Speed'].info()"
   ],
   "metadata": {
    "collapsed": false,
    "ExecuteTime": {
     "end_time": "2024-04-18T12:02:41.313777Z",
     "start_time": "2024-04-18T12:02:41.294775Z"
    }
   },
   "id": "20caa13d7a353f07",
   "execution_count": 459
  },
  {
   "cell_type": "code",
   "outputs": [
    {
     "data": {
      "text/plain": "array(['6.4 GT/s QPI', nan, '100 MHz FSB', '8 GT/s DMI3', '7.2 GT/s QPI',\n       '5 GT/s DMI', '667 MHz FSB', '1333 MHz FSB', '2.5 GT/s DMI',\n       '400 MHz FSB', '800 MHz FSB', '533 MHz FSB', '4.8 GT/s QPI',\n       '8 GT/s QPI', '2500 MHz PCIE', '0 GT/s', '1066 MHz FSB',\n       '5 GT/s DMI2', '66 MHz FSB', '2.5 GT/s PCIE', '0  QPI',\n       '0 GT/s QPI', '9.6 GT/s QPI', '5.86 GT/s QPI', '4 GT/s OPI',\n       '1600 MHz FSB', '133 MHz FSB', '400 MHz DMI', '60 MHz FSB',\n       '8 GT/s DMI', '50 MHz FSB', '5.87 GT/s QPI', '5 GT/s', '5  DMI',\n       '0'], dtype=object)"
     },
     "execution_count": 460,
     "metadata": {},
     "output_type": "execute_result"
    }
   ],
   "source": [
    "train['Bus_Speed'].unique()"
   ],
   "metadata": {
    "collapsed": false,
    "ExecuteTime": {
     "end_time": "2024-04-18T12:02:41.409573Z",
     "start_time": "2024-04-18T12:02:41.398674Z"
    }
   },
   "id": "26494e51a33c9102",
   "execution_count": 460
  },
  {
   "cell_type": "code",
   "outputs": [],
   "source": [
    "def bus_type(bus_frequency):\n",
    "    bus_frequency = str(bus_frequency)\n",
    "    types = ['QPI', 'DMI', 'FSB', 'DMI3', 'PCIE']\n",
    "    data = bus_frequency.split(' ')\n",
    "    if data[-1].strip() in types:\n",
    "        return data[-1]\n",
    "    return pd.NA"
   ],
   "metadata": {
    "collapsed": false,
    "ExecuteTime": {
     "end_time": "2024-04-18T12:02:41.527014Z",
     "start_time": "2024-04-18T12:02:41.513589Z"
    }
   },
   "id": "9b5fdb3d6e88a09a",
   "execution_count": 461
  },
  {
   "cell_type": "code",
   "outputs": [
    {
     "name": "stdout",
     "output_type": "stream",
     "text": [
      "<NA>\n"
     ]
    }
   ],
   "source": [
    "test_bus = '5 GT/s'\n",
    "print(bus_type(test_bus))"
   ],
   "metadata": {
    "collapsed": false,
    "ExecuteTime": {
     "end_time": "2024-04-18T12:02:41.636166Z",
     "start_time": "2024-04-18T12:02:41.622122Z"
    }
   },
   "id": "960256edc95c9d22",
   "execution_count": 462
  },
  {
   "cell_type": "code",
   "outputs": [],
   "source": [
    "train['Bus_Type'] = train['Bus_Speed'].apply(bus_type)\n",
    "train['Bus_Type'].fillna(train['Bus_Type'].mode()[0], inplace=True)"
   ],
   "metadata": {
    "collapsed": false,
    "ExecuteTime": {
     "end_time": "2024-04-18T12:02:41.721144Z",
     "start_time": "2024-04-18T12:02:41.708132Z"
    }
   },
   "id": "a0023bfdd157c7c8",
   "execution_count": 463
  },
  {
   "cell_type": "code",
   "outputs": [
    {
     "data": {
      "text/plain": "                   Product_Collection  Status  Lithography  \\\n1    Intel® Xeon® Processor E7 Family       0            6   \n2  Intel® Pentium® Processor D Series       1            1   \n3    Legacy Intel® Celeron® Processor       0            2   \n4  Intel® Celeron® Processor G Series       1            1   \n5    Intel® Xeon® Processor E5 Family       1            6   \n\n   Recommended_Customer_Price  nb_of_Cores  nb_of_Threads  \\\n1                      2558.0           10             20   \n2                       129.0            2              4   \n3                        85.5            1              3   \n4                        42.0            2              2   \n5                       692.0            6             12   \n\n   Processor_Base_Frequency     TDP Embedded_Options_Available Conflict_Free  \\\n1                      2.00   130 W                         No           NaN   \n2                      2.20    25 W                        Yes           Yes   \n3                      0.85  25.7 W                        Yes           NaN   \n4                      2.90    51 W                         No           Yes   \n5                      1.80    60 W                        Yes           NaN   \n\n   ... Intel_Virtualization_Technology_VTx_ Intel_64_  Instruction_Set  \\\n1  ...                                  Yes       Yes           64-bit   \n2  ...                                  Yes       Yes           64-bit   \n3  ...                                   No        No           32-bit   \n4  ...                                  Yes       Yes           64-bit   \n5  ...                                  Yes       Yes           64-bit   \n\n  Instruction_Set_Extensions Idle_States Thermal_Monitoring_Technologies  \\\n1                 SSE4.1/4.2         NaN                             Yes   \n2                    AVX 2.0         Yes                             Yes   \n3                        NaN          No                             NaN   \n4                 SSE4.1/4.2         Yes                             Yes   \n5                        Yes         NaN                             NaN   \n\n   Execute_Disable_Bit Cache_Size  Cache_Type Bus_Type  \n1                  Yes     24.000  SmartCache      QPI  \n2                  Yes      3.000          L3      FSB  \n3                   No      0.128          L2      FSB  \n4                  Yes      2.000          L3     DMI3  \n5                  Yes     15.000  SmartCache      QPI  \n\n[5 rows x 29 columns]",
      "text/html": "<div>\n<style scoped>\n    .dataframe tbody tr th:only-of-type {\n        vertical-align: middle;\n    }\n\n    .dataframe tbody tr th {\n        vertical-align: top;\n    }\n\n    .dataframe thead th {\n        text-align: right;\n    }\n</style>\n<table border=\"1\" class=\"dataframe\">\n  <thead>\n    <tr style=\"text-align: right;\">\n      <th></th>\n      <th>Product_Collection</th>\n      <th>Status</th>\n      <th>Lithography</th>\n      <th>Recommended_Customer_Price</th>\n      <th>nb_of_Cores</th>\n      <th>nb_of_Threads</th>\n      <th>Processor_Base_Frequency</th>\n      <th>TDP</th>\n      <th>Embedded_Options_Available</th>\n      <th>Conflict_Free</th>\n      <th>...</th>\n      <th>Intel_Virtualization_Technology_VTx_</th>\n      <th>Intel_64_</th>\n      <th>Instruction_Set</th>\n      <th>Instruction_Set_Extensions</th>\n      <th>Idle_States</th>\n      <th>Thermal_Monitoring_Technologies</th>\n      <th>Execute_Disable_Bit</th>\n      <th>Cache_Size</th>\n      <th>Cache_Type</th>\n      <th>Bus_Type</th>\n    </tr>\n  </thead>\n  <tbody>\n    <tr>\n      <th>1</th>\n      <td>Intel® Xeon® Processor E7 Family</td>\n      <td>0</td>\n      <td>6</td>\n      <td>2558.0</td>\n      <td>10</td>\n      <td>20</td>\n      <td>2.00</td>\n      <td>130 W</td>\n      <td>No</td>\n      <td>NaN</td>\n      <td>...</td>\n      <td>Yes</td>\n      <td>Yes</td>\n      <td>64-bit</td>\n      <td>SSE4.1/4.2</td>\n      <td>NaN</td>\n      <td>Yes</td>\n      <td>Yes</td>\n      <td>24.000</td>\n      <td>SmartCache</td>\n      <td>QPI</td>\n    </tr>\n    <tr>\n      <th>2</th>\n      <td>Intel® Pentium® Processor D Series</td>\n      <td>1</td>\n      <td>1</td>\n      <td>129.0</td>\n      <td>2</td>\n      <td>4</td>\n      <td>2.20</td>\n      <td>25 W</td>\n      <td>Yes</td>\n      <td>Yes</td>\n      <td>...</td>\n      <td>Yes</td>\n      <td>Yes</td>\n      <td>64-bit</td>\n      <td>AVX 2.0</td>\n      <td>Yes</td>\n      <td>Yes</td>\n      <td>Yes</td>\n      <td>3.000</td>\n      <td>L3</td>\n      <td>FSB</td>\n    </tr>\n    <tr>\n      <th>3</th>\n      <td>Legacy Intel® Celeron® Processor</td>\n      <td>0</td>\n      <td>2</td>\n      <td>85.5</td>\n      <td>1</td>\n      <td>3</td>\n      <td>0.85</td>\n      <td>25.7 W</td>\n      <td>Yes</td>\n      <td>NaN</td>\n      <td>...</td>\n      <td>No</td>\n      <td>No</td>\n      <td>32-bit</td>\n      <td>NaN</td>\n      <td>No</td>\n      <td>NaN</td>\n      <td>No</td>\n      <td>0.128</td>\n      <td>L2</td>\n      <td>FSB</td>\n    </tr>\n    <tr>\n      <th>4</th>\n      <td>Intel® Celeron® Processor G Series</td>\n      <td>1</td>\n      <td>1</td>\n      <td>42.0</td>\n      <td>2</td>\n      <td>2</td>\n      <td>2.90</td>\n      <td>51 W</td>\n      <td>No</td>\n      <td>Yes</td>\n      <td>...</td>\n      <td>Yes</td>\n      <td>Yes</td>\n      <td>64-bit</td>\n      <td>SSE4.1/4.2</td>\n      <td>Yes</td>\n      <td>Yes</td>\n      <td>Yes</td>\n      <td>2.000</td>\n      <td>L3</td>\n      <td>DMI3</td>\n    </tr>\n    <tr>\n      <th>5</th>\n      <td>Intel® Xeon® Processor E5 Family</td>\n      <td>1</td>\n      <td>6</td>\n      <td>692.0</td>\n      <td>6</td>\n      <td>12</td>\n      <td>1.80</td>\n      <td>60 W</td>\n      <td>Yes</td>\n      <td>NaN</td>\n      <td>...</td>\n      <td>Yes</td>\n      <td>Yes</td>\n      <td>64-bit</td>\n      <td>Yes</td>\n      <td>NaN</td>\n      <td>NaN</td>\n      <td>Yes</td>\n      <td>15.000</td>\n      <td>SmartCache</td>\n      <td>QPI</td>\n    </tr>\n  </tbody>\n</table>\n<p>5 rows × 29 columns</p>\n</div>"
     },
     "execution_count": 464,
     "metadata": {},
     "output_type": "execute_result"
    }
   ],
   "source": [
    "train = train.drop('Bus_Speed', axis=1)\n",
    "train = train.drop('Vertical_Segment', axis=1)\n",
    "train.head()"
   ],
   "metadata": {
    "collapsed": false,
    "ExecuteTime": {
     "end_time": "2024-04-18T12:02:41.799292Z",
     "start_time": "2024-04-18T12:02:41.767062Z"
    }
   },
   "id": "16230eb840bc7170",
   "execution_count": 464
  },
  {
   "cell_type": "code",
   "outputs": [
    {
     "name": "stdout",
     "output_type": "stream",
     "text": [
      "0\n",
      "1\n",
      "0\n",
      "0\n",
      "0\n",
      "0\n",
      "1\n",
      "0\n",
      "0\n"
     ]
    },
    {
     "data": {
      "text/plain": "                   Product_Collection  Status  Lithography  \\\n2  Intel® Pentium® Processor D Series       1            1   \n3    Legacy Intel® Celeron® Processor       0            2   \n4  Intel® Celeron® Processor G Series       1            1   \n5    Intel® Xeon® Processor E5 Family       1            6   \n6      Legacy Intel® Core™ Processors       0            6   \n\n   Recommended_Customer_Price  nb_of_Cores  nb_of_Threads  \\\n2                       129.0            2              4   \n3                        85.5            1              3   \n4                        42.0            2              2   \n5                       692.0            6             12   \n6                       577.0            2              4   \n\n   Processor_Base_Frequency     TDP  Embedded_Options_Available  \\\n2                      2.20    25 W                         1.0   \n3                      0.85  25.7 W                         1.0   \n4                      2.90    51 W                         0.0   \n5                      1.80    60 W                         1.0   \n6                      3.10    65 W                         0.0   \n\n   Conflict_Free  ... Intel_Virtualization_Technology_VTx_ Intel_64_  \\\n2            1.0  ...                                  1.0       1.0   \n3            1.0  ...                                  0.0       0.0   \n4            1.0  ...                                  1.0       1.0   \n5            1.0  ...                                  1.0       1.0   \n6            1.0  ...                                  1.0       1.0   \n\n   Instruction_Set Instruction_Set_Extensions  Idle_States  \\\n2           64-bit                    AVX 2.0          1.0   \n3           32-bit                        NaN          0.0   \n4           64-bit                 SSE4.1/4.2          1.0   \n5           64-bit                        Yes          1.0   \n6           64-bit            SSE4.1/4.2, AVX          1.0   \n\n  Thermal_Monitoring_Technologies  Execute_Disable_Bit Cache_Size  Cache_Type  \\\n2                             1.0                  1.0      3.000          L3   \n3                             1.0                  0.0      0.128          L2   \n4                             1.0                  1.0      2.000          L3   \n5                             1.0                  1.0     15.000  SmartCache   \n6                             1.0                  1.0      3.000  SmartCache   \n\n   Bus_Type  \n2       FSB  \n3       FSB  \n4      DMI3  \n5       QPI  \n6       DMI  \n\n[5 rows x 29 columns]",
      "text/html": "<div>\n<style scoped>\n    .dataframe tbody tr th:only-of-type {\n        vertical-align: middle;\n    }\n\n    .dataframe tbody tr th {\n        vertical-align: top;\n    }\n\n    .dataframe thead th {\n        text-align: right;\n    }\n</style>\n<table border=\"1\" class=\"dataframe\">\n  <thead>\n    <tr style=\"text-align: right;\">\n      <th></th>\n      <th>Product_Collection</th>\n      <th>Status</th>\n      <th>Lithography</th>\n      <th>Recommended_Customer_Price</th>\n      <th>nb_of_Cores</th>\n      <th>nb_of_Threads</th>\n      <th>Processor_Base_Frequency</th>\n      <th>TDP</th>\n      <th>Embedded_Options_Available</th>\n      <th>Conflict_Free</th>\n      <th>...</th>\n      <th>Intel_Virtualization_Technology_VTx_</th>\n      <th>Intel_64_</th>\n      <th>Instruction_Set</th>\n      <th>Instruction_Set_Extensions</th>\n      <th>Idle_States</th>\n      <th>Thermal_Monitoring_Technologies</th>\n      <th>Execute_Disable_Bit</th>\n      <th>Cache_Size</th>\n      <th>Cache_Type</th>\n      <th>Bus_Type</th>\n    </tr>\n  </thead>\n  <tbody>\n    <tr>\n      <th>2</th>\n      <td>Intel® Pentium® Processor D Series</td>\n      <td>1</td>\n      <td>1</td>\n      <td>129.0</td>\n      <td>2</td>\n      <td>4</td>\n      <td>2.20</td>\n      <td>25 W</td>\n      <td>1.0</td>\n      <td>1.0</td>\n      <td>...</td>\n      <td>1.0</td>\n      <td>1.0</td>\n      <td>64-bit</td>\n      <td>AVX 2.0</td>\n      <td>1.0</td>\n      <td>1.0</td>\n      <td>1.0</td>\n      <td>3.000</td>\n      <td>L3</td>\n      <td>FSB</td>\n    </tr>\n    <tr>\n      <th>3</th>\n      <td>Legacy Intel® Celeron® Processor</td>\n      <td>0</td>\n      <td>2</td>\n      <td>85.5</td>\n      <td>1</td>\n      <td>3</td>\n      <td>0.85</td>\n      <td>25.7 W</td>\n      <td>1.0</td>\n      <td>1.0</td>\n      <td>...</td>\n      <td>0.0</td>\n      <td>0.0</td>\n      <td>32-bit</td>\n      <td>NaN</td>\n      <td>0.0</td>\n      <td>1.0</td>\n      <td>0.0</td>\n      <td>0.128</td>\n      <td>L2</td>\n      <td>FSB</td>\n    </tr>\n    <tr>\n      <th>4</th>\n      <td>Intel® Celeron® Processor G Series</td>\n      <td>1</td>\n      <td>1</td>\n      <td>42.0</td>\n      <td>2</td>\n      <td>2</td>\n      <td>2.90</td>\n      <td>51 W</td>\n      <td>0.0</td>\n      <td>1.0</td>\n      <td>...</td>\n      <td>1.0</td>\n      <td>1.0</td>\n      <td>64-bit</td>\n      <td>SSE4.1/4.2</td>\n      <td>1.0</td>\n      <td>1.0</td>\n      <td>1.0</td>\n      <td>2.000</td>\n      <td>L3</td>\n      <td>DMI3</td>\n    </tr>\n    <tr>\n      <th>5</th>\n      <td>Intel® Xeon® Processor E5 Family</td>\n      <td>1</td>\n      <td>6</td>\n      <td>692.0</td>\n      <td>6</td>\n      <td>12</td>\n      <td>1.80</td>\n      <td>60 W</td>\n      <td>1.0</td>\n      <td>1.0</td>\n      <td>...</td>\n      <td>1.0</td>\n      <td>1.0</td>\n      <td>64-bit</td>\n      <td>Yes</td>\n      <td>1.0</td>\n      <td>1.0</td>\n      <td>1.0</td>\n      <td>15.000</td>\n      <td>SmartCache</td>\n      <td>QPI</td>\n    </tr>\n    <tr>\n      <th>6</th>\n      <td>Legacy Intel® Core™ Processors</td>\n      <td>0</td>\n      <td>6</td>\n      <td>577.0</td>\n      <td>2</td>\n      <td>4</td>\n      <td>3.10</td>\n      <td>65 W</td>\n      <td>0.0</td>\n      <td>1.0</td>\n      <td>...</td>\n      <td>1.0</td>\n      <td>1.0</td>\n      <td>64-bit</td>\n      <td>SSE4.1/4.2, AVX</td>\n      <td>1.0</td>\n      <td>1.0</td>\n      <td>1.0</td>\n      <td>3.000</td>\n      <td>SmartCache</td>\n      <td>DMI</td>\n    </tr>\n  </tbody>\n</table>\n<p>5 rows × 29 columns</p>\n</div>"
     },
     "execution_count": 465,
     "metadata": {},
     "output_type": "execute_result"
    }
   ],
   "source": [
    "yes_no_columns = ['Embedded_Options_Available', 'Conflict_Free', 'ECC_Memory_Supported', 'Intel_Hyper_Threading_Technology_', 'Intel_Virtualization_Technology_VTx_', 'Intel_64_', 'Idle_States', 'Thermal_Monitoring_Technologies', 'Execute_Disable_Bit']\n",
    "for column in yes_no_columns:\n",
    "    train[column] = train[column].map({'Yes': 1, 'No': 0})\n",
    "    train[column].interpolate(method='linear', inplace=True)\n",
    "    print(train[column].isnull().sum())\n",
    "\n",
    "train = train.dropna(subset=yes_no_columns)\n",
    "\n",
    "train.head()"
   ],
   "metadata": {
    "collapsed": false,
    "ExecuteTime": {
     "end_time": "2024-04-18T12:02:41.879431Z",
     "start_time": "2024-04-18T12:02:41.849223Z"
    }
   },
   "id": "7195c3e25b8fbf2f",
   "execution_count": 465
  },
  {
   "cell_type": "code",
   "outputs": [
    {
     "data": {
      "text/plain": "array(['25 W', '25.7 W', '51 W', '60 W', '65 W', '35 W', '31 W', '18 W',\n       '22 W', '5 W', '86 W', '73 W', '80 W', '95 W', '3.6 W', '104 W',\n       nan, '55 W', '17 W', '140 W', '115 W', '2 W', '7 W', '45 W',\n       '130 W', '20 W', '84 W', '27 W', '69 W', '15 W', '70 W', '37 W',\n       '173 W', '150 W', '77 W', '103 W', '54 W', '47 W', '90 W',\n       '62.6 W', '105 W', '46.7 W', '230 W', '120 W', '122 W', '10.1 W',\n       '44 W', '64 W', '72 W', '24.5 W', '34.5 W', '53 W', '11.5 W',\n       '6 W', '32 W', '59.8 W', '28 W', '27.1 W', '112 W', '12.1 W',\n       '19.7 W', '129 W', '125 W', '136 W', '92 W', '5.5 W', '165 W',\n       '2.2 W', '34 W', '82 W', '9 W', '7.5 W', '10 W', '19.2 W',\n       '81.8 W', '15.5 W', '75 W', '31.7 W', '30 W', '4.5 W', '54.7 W',\n       '10.3 W', '170 W', '205 W', '160 W', '13 W', '12 W', '88 W',\n       '300 W', '50 W', '9.8 W', '91 W', '21.5 W', '66.8 W', '4 W',\n       '55.5 W', '135 W', '29 W', '20.5 W', '24.6 W', '19.5 W', '15.8 W',\n       '0.65 W', '52.8 W', '13.2 W', '85 W', '107 W', '36.2 W', '145 W',\n       '57.8 W', '2.5 W', '14 W', '40 W', '21 W', '54.3 W', '18.3 W',\n       '66 W', '23.3 W', '110 W', '185 W', '27.4 W', '29.1 W', '57.1 W',\n       '68.4 W', '8 W', '25.9 W', '155 W', '48 W', '9.5 W', '23 W',\n       '27.5 W', '4.3 W', '81.9 W', '20.8 W', '32.1 W', '8.1 W', '29.6 W',\n       '23.2 W', '27.8 W', '43 W', '33 W', '92.1 W', '34.8 W', '36 W',\n       '79 W', '16.8 W', '13.1 W', '260 W', '26.9 W', '89 W', '52 W',\n       '2.4 W', '16 W', '38 W', '1.4 W', '61.5 W', '30.8 W', '215 W',\n       '0.025 W', '77.5 W', '61 W', '11.6 W', '11.1 W', '6.5 W', '26.7 W',\n       '11.61 W', '19 W', '69.2 W', '22.5 W', '23.8 W', '57 W', '26.1 W',\n       '9.7 W', '18.8 W', '29.9 W', '58.3 W', '74 W', '31.2 W', '24 W',\n       '23.6 W', '200 W', '58 W', '18.48 W', '30.7 W', '66.7 W', '17.8 W',\n       '32.2 W', '17.6 W', '87 W', '23.7 W', '97 W', '8.3 W', '270 W',\n       '25.4 W', '63.5 W', '3 W', '68.1 W', '20.6 W', '14.1 W', '17.5 W',\n       '69.7 W', '29.7 W', '24.3 W', '245 W', '18.6 W', '16.5 W',\n       '16.59 W', '25.8 W', '66.1 W', '3.5 W', '102.9 W', '8.5 W',\n       '11.8 W', '11.7 W', '21.7 W', '59.2 W', '28.7 W', '28.3 W'],\n      dtype=object)"
     },
     "execution_count": 466,
     "metadata": {},
     "output_type": "execute_result"
    }
   ],
   "source": [
    "train['TDP'].unique()"
   ],
   "metadata": {
    "collapsed": false,
    "ExecuteTime": {
     "end_time": "2024-04-18T12:02:41.909949Z",
     "start_time": "2024-04-18T12:02:41.895961Z"
    }
   },
   "id": "7099a9660adda3ad",
   "execution_count": 466
  },
  {
   "cell_type": "code",
   "outputs": [],
   "source": [
    "train['TDP'] = train['TDP'].str.replace('W', '').astype(float)"
   ],
   "metadata": {
    "collapsed": false,
    "ExecuteTime": {
     "end_time": "2024-04-18T12:02:42.031932Z",
     "start_time": "2024-04-18T12:02:42.017415Z"
    }
   },
   "id": "fabda2c0568d9e50",
   "execution_count": 467
  },
  {
   "cell_type": "code",
   "outputs": [],
   "source": [
    "train['TDP'].fillna(train['TDP'].mode()[0], inplace=True)"
   ],
   "metadata": {
    "collapsed": false,
    "ExecuteTime": {
     "end_time": "2024-04-18T12:02:42.185165Z",
     "start_time": "2024-04-18T12:02:42.175550Z"
    }
   },
   "id": "8ae121f957099d03",
   "execution_count": 468
  },
  {
   "cell_type": "code",
   "outputs": [
    {
     "data": {
      "text/plain": "                   Product_Collection  Status  Lithography  \\\n2  Intel® Pentium® Processor D Series       1            1   \n3    Legacy Intel® Celeron® Processor       0            2   \n4  Intel® Celeron® Processor G Series       1            1   \n5    Intel® Xeon® Processor E5 Family       1            6   \n6      Legacy Intel® Core™ Processors       0            6   \n\n   Recommended_Customer_Price  nb_of_Cores  nb_of_Threads  \\\n2                       129.0            2              4   \n3                        85.5            1              3   \n4                        42.0            2              2   \n5                       692.0            6             12   \n6                       577.0            2              4   \n\n   Processor_Base_Frequency   TDP  Embedded_Options_Available  Conflict_Free  \\\n2                      2.20  25.0                         1.0            1.0   \n3                      0.85  25.7                         1.0            1.0   \n4                      2.90  51.0                         0.0            1.0   \n5                      1.80  60.0                         1.0            1.0   \n6                      3.10  65.0                         0.0            1.0   \n\n   ... Intel_Virtualization_Technology_VTx_ Intel_64_  Instruction_Set  \\\n2  ...                                  1.0       1.0           64-bit   \n3  ...                                  0.0       0.0           32-bit   \n4  ...                                  1.0       1.0           64-bit   \n5  ...                                  1.0       1.0           64-bit   \n6  ...                                  1.0       1.0           64-bit   \n\n  Instruction_Set_Extensions  Idle_States Thermal_Monitoring_Technologies  \\\n2                    AVX 2.0          1.0                             1.0   \n3                        NaN          0.0                             1.0   \n4                 SSE4.1/4.2          1.0                             1.0   \n5                        Yes          1.0                             1.0   \n6            SSE4.1/4.2, AVX          1.0                             1.0   \n\n   Execute_Disable_Bit Cache_Size  Cache_Type  Bus_Type  \n2                  1.0      3.000          L3       FSB  \n3                  0.0      0.128          L2       FSB  \n4                  1.0      2.000          L3      DMI3  \n5                  1.0     15.000  SmartCache       QPI  \n6                  1.0      3.000  SmartCache       DMI  \n\n[5 rows x 29 columns]",
      "text/html": "<div>\n<style scoped>\n    .dataframe tbody tr th:only-of-type {\n        vertical-align: middle;\n    }\n\n    .dataframe tbody tr th {\n        vertical-align: top;\n    }\n\n    .dataframe thead th {\n        text-align: right;\n    }\n</style>\n<table border=\"1\" class=\"dataframe\">\n  <thead>\n    <tr style=\"text-align: right;\">\n      <th></th>\n      <th>Product_Collection</th>\n      <th>Status</th>\n      <th>Lithography</th>\n      <th>Recommended_Customer_Price</th>\n      <th>nb_of_Cores</th>\n      <th>nb_of_Threads</th>\n      <th>Processor_Base_Frequency</th>\n      <th>TDP</th>\n      <th>Embedded_Options_Available</th>\n      <th>Conflict_Free</th>\n      <th>...</th>\n      <th>Intel_Virtualization_Technology_VTx_</th>\n      <th>Intel_64_</th>\n      <th>Instruction_Set</th>\n      <th>Instruction_Set_Extensions</th>\n      <th>Idle_States</th>\n      <th>Thermal_Monitoring_Technologies</th>\n      <th>Execute_Disable_Bit</th>\n      <th>Cache_Size</th>\n      <th>Cache_Type</th>\n      <th>Bus_Type</th>\n    </tr>\n  </thead>\n  <tbody>\n    <tr>\n      <th>2</th>\n      <td>Intel® Pentium® Processor D Series</td>\n      <td>1</td>\n      <td>1</td>\n      <td>129.0</td>\n      <td>2</td>\n      <td>4</td>\n      <td>2.20</td>\n      <td>25.0</td>\n      <td>1.0</td>\n      <td>1.0</td>\n      <td>...</td>\n      <td>1.0</td>\n      <td>1.0</td>\n      <td>64-bit</td>\n      <td>AVX 2.0</td>\n      <td>1.0</td>\n      <td>1.0</td>\n      <td>1.0</td>\n      <td>3.000</td>\n      <td>L3</td>\n      <td>FSB</td>\n    </tr>\n    <tr>\n      <th>3</th>\n      <td>Legacy Intel® Celeron® Processor</td>\n      <td>0</td>\n      <td>2</td>\n      <td>85.5</td>\n      <td>1</td>\n      <td>3</td>\n      <td>0.85</td>\n      <td>25.7</td>\n      <td>1.0</td>\n      <td>1.0</td>\n      <td>...</td>\n      <td>0.0</td>\n      <td>0.0</td>\n      <td>32-bit</td>\n      <td>NaN</td>\n      <td>0.0</td>\n      <td>1.0</td>\n      <td>0.0</td>\n      <td>0.128</td>\n      <td>L2</td>\n      <td>FSB</td>\n    </tr>\n    <tr>\n      <th>4</th>\n      <td>Intel® Celeron® Processor G Series</td>\n      <td>1</td>\n      <td>1</td>\n      <td>42.0</td>\n      <td>2</td>\n      <td>2</td>\n      <td>2.90</td>\n      <td>51.0</td>\n      <td>0.0</td>\n      <td>1.0</td>\n      <td>...</td>\n      <td>1.0</td>\n      <td>1.0</td>\n      <td>64-bit</td>\n      <td>SSE4.1/4.2</td>\n      <td>1.0</td>\n      <td>1.0</td>\n      <td>1.0</td>\n      <td>2.000</td>\n      <td>L3</td>\n      <td>DMI3</td>\n    </tr>\n    <tr>\n      <th>5</th>\n      <td>Intel® Xeon® Processor E5 Family</td>\n      <td>1</td>\n      <td>6</td>\n      <td>692.0</td>\n      <td>6</td>\n      <td>12</td>\n      <td>1.80</td>\n      <td>60.0</td>\n      <td>1.0</td>\n      <td>1.0</td>\n      <td>...</td>\n      <td>1.0</td>\n      <td>1.0</td>\n      <td>64-bit</td>\n      <td>Yes</td>\n      <td>1.0</td>\n      <td>1.0</td>\n      <td>1.0</td>\n      <td>15.000</td>\n      <td>SmartCache</td>\n      <td>QPI</td>\n    </tr>\n    <tr>\n      <th>6</th>\n      <td>Legacy Intel® Core™ Processors</td>\n      <td>0</td>\n      <td>6</td>\n      <td>577.0</td>\n      <td>2</td>\n      <td>4</td>\n      <td>3.10</td>\n      <td>65.0</td>\n      <td>0.0</td>\n      <td>1.0</td>\n      <td>...</td>\n      <td>1.0</td>\n      <td>1.0</td>\n      <td>64-bit</td>\n      <td>SSE4.1/4.2, AVX</td>\n      <td>1.0</td>\n      <td>1.0</td>\n      <td>1.0</td>\n      <td>3.000</td>\n      <td>SmartCache</td>\n      <td>DMI</td>\n    </tr>\n  </tbody>\n</table>\n<p>5 rows × 29 columns</p>\n</div>"
     },
     "execution_count": 469,
     "metadata": {},
     "output_type": "execute_result"
    }
   ],
   "source": [
    "train.head()"
   ],
   "metadata": {
    "collapsed": false,
    "ExecuteTime": {
     "end_time": "2024-04-18T12:02:42.307560Z",
     "start_time": "2024-04-18T12:02:42.282451Z"
    }
   },
   "id": "fa07a61e25c68fd6",
   "execution_count": 469
  },
  {
   "cell_type": "code",
   "outputs": [
    {
     "data": {
      "text/plain": "array(['128 GB', nan, '64 GB', '384 GB', '32 GB', '16 GB', '8 GB',\n       '144 GB', '768 GB', '2 GB', '16.6 GB', '32.77 GB', '2.93 GB',\n       '4 GB', '375 GB', '1.54 TB', '3.07 TB', '288 GB', '256 GB',\n       '24 GB', '16.38 GB', '8.01 GB', '8.3 GB', '1.5 TB', '512 GB',\n       '1.02 TB', '2.4 GB', '1 GB', '32.23 GB', '2.05 TB', '4.1 TB',\n       '64.23 GB', '4.88 GB', '6 GB', '8.79 GB', '64.45 GB', '16.11 GB',\n       '2.44 GB'], dtype=object)"
     },
     "execution_count": 470,
     "metadata": {},
     "output_type": "execute_result"
    }
   ],
   "source": [
    "train['Max_Memory_Size'].unique()"
   ],
   "metadata": {
    "collapsed": false,
    "ExecuteTime": {
     "end_time": "2024-04-18T12:02:42.370381Z",
     "start_time": "2024-04-18T12:02:42.354758Z"
    }
   },
   "id": "cdc02d40c6d868ad",
   "execution_count": 470
  },
  {
   "cell_type": "code",
   "outputs": [],
   "source": [
    "def memory_size(memory):\n",
    "    if pd.isnull(memory):\n",
    "        return pd.NA\n",
    "    memory = str(memory)\n",
    "    value, unit = memory.split(' ')\n",
    "    unit_map = {'GB': 1, 'TB': 1024}\n",
    "    multiplier = unit_map[unit]\n",
    "    value = float(value) * multiplier\n",
    "    return value"
   ],
   "metadata": {
    "collapsed": false,
    "ExecuteTime": {
     "end_time": "2024-04-18T12:02:42.432676Z",
     "start_time": "2024-04-18T12:02:42.417257Z"
    }
   },
   "id": "2d2d3c6875469964",
   "execution_count": 471
  },
  {
   "cell_type": "code",
   "outputs": [
    {
     "name": "stdout",
     "output_type": "stream",
     "text": [
      "64.0\n"
     ]
    }
   ],
   "source": [
    "test_memory = '64 GB'\n",
    "print(memory_size(test_memory))"
   ],
   "metadata": {
    "collapsed": false,
    "ExecuteTime": {
     "end_time": "2024-04-18T12:02:42.556800Z",
     "start_time": "2024-04-18T12:02:42.543255Z"
    }
   },
   "id": "51ca5fa18f00cb0b",
   "execution_count": 472
  },
  {
   "cell_type": "code",
   "outputs": [],
   "source": [
    "train['Max_Memory_Size'] = train['Max_Memory_Size'].apply(memory_size)\n",
    "train['Max_Memory_Size'].fillna(train['Max_Memory_Size'].mode()[0], inplace=True)"
   ],
   "metadata": {
    "collapsed": false,
    "ExecuteTime": {
     "end_time": "2024-04-18T12:02:42.682989Z",
     "start_time": "2024-04-18T12:02:42.669162Z"
    }
   },
   "id": "2472de18956acaf3",
   "execution_count": 473
  },
  {
   "cell_type": "code",
   "outputs": [
    {
     "data": {
      "text/plain": "                   Product_Collection  Status  Lithography  \\\n2  Intel® Pentium® Processor D Series       1            1   \n3    Legacy Intel® Celeron® Processor       0            2   \n4  Intel® Celeron® Processor G Series       1            1   \n5    Intel® Xeon® Processor E5 Family       1            6   \n6      Legacy Intel® Core™ Processors       0            6   \n\n   Recommended_Customer_Price  nb_of_Cores  nb_of_Threads  \\\n2                       129.0            2              4   \n3                        85.5            1              3   \n4                        42.0            2              2   \n5                       692.0            6             12   \n6                       577.0            2              4   \n\n   Processor_Base_Frequency   TDP  Embedded_Options_Available  Conflict_Free  \\\n2                      2.20  25.0                         1.0            1.0   \n3                      0.85  25.7                         1.0            1.0   \n4                      2.90  51.0                         0.0            1.0   \n5                      1.80  60.0                         1.0            1.0   \n6                      3.10  65.0                         0.0            1.0   \n\n   ...  Intel_Virtualization_Technology_VTx_ Intel_64_  Instruction_Set  \\\n2  ...                                   1.0       1.0           64-bit   \n3  ...                                   0.0       0.0           32-bit   \n4  ...                                   1.0       1.0           64-bit   \n5  ...                                   1.0       1.0           64-bit   \n6  ...                                   1.0       1.0           64-bit   \n\n  Instruction_Set_Extensions  Idle_States Thermal_Monitoring_Technologies  \\\n2                    AVX 2.0          1.0                             1.0   \n3                        NaN          0.0                             1.0   \n4                 SSE4.1/4.2          1.0                             1.0   \n5                        Yes          1.0                             1.0   \n6            SSE4.1/4.2, AVX          1.0                             1.0   \n\n   Execute_Disable_Bit Cache_Size  Cache_Type  Bus_Type  \n2                  1.0      3.000          L3       FSB  \n3                  0.0      0.128          L2       FSB  \n4                  1.0      2.000          L3      DMI3  \n5                  1.0     15.000  SmartCache       QPI  \n6                  1.0      3.000  SmartCache       DMI  \n\n[5 rows x 29 columns]",
      "text/html": "<div>\n<style scoped>\n    .dataframe tbody tr th:only-of-type {\n        vertical-align: middle;\n    }\n\n    .dataframe tbody tr th {\n        vertical-align: top;\n    }\n\n    .dataframe thead th {\n        text-align: right;\n    }\n</style>\n<table border=\"1\" class=\"dataframe\">\n  <thead>\n    <tr style=\"text-align: right;\">\n      <th></th>\n      <th>Product_Collection</th>\n      <th>Status</th>\n      <th>Lithography</th>\n      <th>Recommended_Customer_Price</th>\n      <th>nb_of_Cores</th>\n      <th>nb_of_Threads</th>\n      <th>Processor_Base_Frequency</th>\n      <th>TDP</th>\n      <th>Embedded_Options_Available</th>\n      <th>Conflict_Free</th>\n      <th>...</th>\n      <th>Intel_Virtualization_Technology_VTx_</th>\n      <th>Intel_64_</th>\n      <th>Instruction_Set</th>\n      <th>Instruction_Set_Extensions</th>\n      <th>Idle_States</th>\n      <th>Thermal_Monitoring_Technologies</th>\n      <th>Execute_Disable_Bit</th>\n      <th>Cache_Size</th>\n      <th>Cache_Type</th>\n      <th>Bus_Type</th>\n    </tr>\n  </thead>\n  <tbody>\n    <tr>\n      <th>2</th>\n      <td>Intel® Pentium® Processor D Series</td>\n      <td>1</td>\n      <td>1</td>\n      <td>129.0</td>\n      <td>2</td>\n      <td>4</td>\n      <td>2.20</td>\n      <td>25.0</td>\n      <td>1.0</td>\n      <td>1.0</td>\n      <td>...</td>\n      <td>1.0</td>\n      <td>1.0</td>\n      <td>64-bit</td>\n      <td>AVX 2.0</td>\n      <td>1.0</td>\n      <td>1.0</td>\n      <td>1.0</td>\n      <td>3.000</td>\n      <td>L3</td>\n      <td>FSB</td>\n    </tr>\n    <tr>\n      <th>3</th>\n      <td>Legacy Intel® Celeron® Processor</td>\n      <td>0</td>\n      <td>2</td>\n      <td>85.5</td>\n      <td>1</td>\n      <td>3</td>\n      <td>0.85</td>\n      <td>25.7</td>\n      <td>1.0</td>\n      <td>1.0</td>\n      <td>...</td>\n      <td>0.0</td>\n      <td>0.0</td>\n      <td>32-bit</td>\n      <td>NaN</td>\n      <td>0.0</td>\n      <td>1.0</td>\n      <td>0.0</td>\n      <td>0.128</td>\n      <td>L2</td>\n      <td>FSB</td>\n    </tr>\n    <tr>\n      <th>4</th>\n      <td>Intel® Celeron® Processor G Series</td>\n      <td>1</td>\n      <td>1</td>\n      <td>42.0</td>\n      <td>2</td>\n      <td>2</td>\n      <td>2.90</td>\n      <td>51.0</td>\n      <td>0.0</td>\n      <td>1.0</td>\n      <td>...</td>\n      <td>1.0</td>\n      <td>1.0</td>\n      <td>64-bit</td>\n      <td>SSE4.1/4.2</td>\n      <td>1.0</td>\n      <td>1.0</td>\n      <td>1.0</td>\n      <td>2.000</td>\n      <td>L3</td>\n      <td>DMI3</td>\n    </tr>\n    <tr>\n      <th>5</th>\n      <td>Intel® Xeon® Processor E5 Family</td>\n      <td>1</td>\n      <td>6</td>\n      <td>692.0</td>\n      <td>6</td>\n      <td>12</td>\n      <td>1.80</td>\n      <td>60.0</td>\n      <td>1.0</td>\n      <td>1.0</td>\n      <td>...</td>\n      <td>1.0</td>\n      <td>1.0</td>\n      <td>64-bit</td>\n      <td>Yes</td>\n      <td>1.0</td>\n      <td>1.0</td>\n      <td>1.0</td>\n      <td>15.000</td>\n      <td>SmartCache</td>\n      <td>QPI</td>\n    </tr>\n    <tr>\n      <th>6</th>\n      <td>Legacy Intel® Core™ Processors</td>\n      <td>0</td>\n      <td>6</td>\n      <td>577.0</td>\n      <td>2</td>\n      <td>4</td>\n      <td>3.10</td>\n      <td>65.0</td>\n      <td>0.0</td>\n      <td>1.0</td>\n      <td>...</td>\n      <td>1.0</td>\n      <td>1.0</td>\n      <td>64-bit</td>\n      <td>SSE4.1/4.2, AVX</td>\n      <td>1.0</td>\n      <td>1.0</td>\n      <td>1.0</td>\n      <td>3.000</td>\n      <td>SmartCache</td>\n      <td>DMI</td>\n    </tr>\n  </tbody>\n</table>\n<p>5 rows × 29 columns</p>\n</div>"
     },
     "execution_count": 474,
     "metadata": {},
     "output_type": "execute_result"
    }
   ],
   "source": [
    "train.head()"
   ],
   "metadata": {
    "collapsed": false,
    "ExecuteTime": {
     "end_time": "2024-04-18T12:02:42.811951Z",
     "start_time": "2024-04-18T12:02:42.791782Z"
    }
   },
   "id": "43cf952f0709ceed",
   "execution_count": 474
  },
  {
   "cell_type": "code",
   "outputs": [
    {
     "data": {
      "text/plain": "2    2.0\n3    NaN\n4    2.0\n5    3.0\n6    2.0\nName: Max_nb_of_Memory_Channels, dtype: float64"
     },
     "execution_count": 475,
     "metadata": {},
     "output_type": "execute_result"
    }
   ],
   "source": [
    "train['Max_nb_of_Memory_Channels'].head()"
   ],
   "metadata": {
    "collapsed": false,
    "ExecuteTime": {
     "end_time": "2024-04-18T12:02:42.843031Z",
     "start_time": "2024-04-18T12:02:42.829254Z"
    }
   },
   "id": "c31c0568699de88c",
   "execution_count": 475
  },
  {
   "cell_type": "code",
   "outputs": [
    {
     "data": {
      "text/plain": "array([ 2., nan,  3.,  4.,  1.,  6., 16., 12.])"
     },
     "execution_count": 476,
     "metadata": {},
     "output_type": "execute_result"
    }
   ],
   "source": [
    "train['Max_nb_of_Memory_Channels'].unique()"
   ],
   "metadata": {
    "collapsed": false,
    "ExecuteTime": {
     "end_time": "2024-04-18T12:02:42.950359Z",
     "start_time": "2024-04-18T12:02:42.934210Z"
    }
   },
   "id": "6ddd7a97d28c84ae",
   "execution_count": 476
  },
  {
   "cell_type": "code",
   "outputs": [
    {
     "data": {
      "text/plain": "688"
     },
     "execution_count": 477,
     "metadata": {},
     "output_type": "execute_result"
    }
   ],
   "source": [
    "train['Max_nb_of_Memory_Channels'].isnull().sum()"
   ],
   "metadata": {
    "collapsed": false,
    "ExecuteTime": {
     "end_time": "2024-04-18T12:02:43.104749Z",
     "start_time": "2024-04-18T12:02:43.091169Z"
    }
   },
   "id": "3a7a929479513bf9",
   "execution_count": 477
  },
  {
   "cell_type": "code",
   "outputs": [],
   "source": [
    "train['Max_nb_of_Memory_Channels'].fillna(train['Max_nb_of_Memory_Channels'].mode()[0], inplace=True)"
   ],
   "metadata": {
    "collapsed": false,
    "ExecuteTime": {
     "end_time": "2024-04-18T12:02:43.181057Z",
     "start_time": "2024-04-18T12:02:43.168279Z"
    }
   },
   "id": "c071a591d2cd94d",
   "execution_count": 478
  },
  {
   "cell_type": "code",
   "outputs": [
    {
     "data": {
      "text/plain": "array([ 2.,  3.,  4.,  1.,  6., 16., 12.])"
     },
     "execution_count": 479,
     "metadata": {},
     "output_type": "execute_result"
    }
   ],
   "source": [
    "train['Max_nb_of_Memory_Channels'].unique()"
   ],
   "metadata": {
    "collapsed": false,
    "ExecuteTime": {
     "end_time": "2024-04-18T12:02:43.321619Z",
     "start_time": "2024-04-18T12:02:43.302383Z"
    }
   },
   "id": "fad3f449aec32670",
   "execution_count": 479
  },
  {
   "cell_type": "code",
   "outputs": [
    {
     "data": {
      "text/plain": "array([nan, '21 GB/s', '21.3 GB/s', '12.8 GB/s', '19.2 GB/s', '59.7 GB/s',\n       '68 GB/s', '34.1 GB/s', '25.6 GB/s', '17 GB/s', '51.2 GB/s',\n       '76.8 GB/s', '17.1 GB/s', '115.2 GB/s', '85 GB/s', '32 GB/s',\n       '10.6 GB/s', '37.5 GB/s', '3.2 GB/s', '38.4 GB/s', '29.8 GB/s',\n       '29.86 GB/s', '352 GB/s', '42.6 GB/s', '68.3 GB/s', '85.3 GB/s',\n       '21.32 GB/s', '59 GB/s', '6.4 GB/s', '51 GB/s', '1.6 GB/s',\n       '5.3 GB/s', '4.2 GB/s', '102 GB/s', '240 GB/s', '25 GB/s',\n       '10.66 GB/s', '10.7 GB/s', '8.5 GB/s'], dtype=object)"
     },
     "execution_count": 480,
     "metadata": {},
     "output_type": "execute_result"
    }
   ],
   "source": [
    "train['Max_Memory_Bandwidth'].unique()"
   ],
   "metadata": {
    "collapsed": false,
    "ExecuteTime": {
     "end_time": "2024-04-18T12:02:43.368748Z",
     "start_time": "2024-04-18T12:02:43.355454Z"
    }
   },
   "id": "cded5cfcff2f36e1",
   "execution_count": 480
  },
  {
   "cell_type": "code",
   "outputs": [],
   "source": [
    "train['Max_Memory_Bandwidth'] = train['Max_Memory_Bandwidth'].str.replace('GB/s', '').astype(float)"
   ],
   "metadata": {
    "collapsed": false,
    "ExecuteTime": {
     "end_time": "2024-04-18T12:02:43.442019Z",
     "start_time": "2024-04-18T12:02:43.431767Z"
    }
   },
   "id": "8a1ed9a9ecff954e",
   "execution_count": 481
  },
  {
   "cell_type": "code",
   "outputs": [],
   "source": [
    "train['Max_Memory_Bandwidth'].fillna(round(train['Max_Memory_Bandwidth'].mean(), 2), inplace=True)"
   ],
   "metadata": {
    "collapsed": false,
    "ExecuteTime": {
     "end_time": "2024-04-18T12:02:43.572138Z",
     "start_time": "2024-04-18T12:02:43.558885Z"
    }
   },
   "id": "ffa6298c9801be6e",
   "execution_count": 482
  },
  {
   "cell_type": "code",
   "outputs": [
    {
     "data": {
      "text/plain": "array([ 35.23,  21.  ,  21.3 ,  12.8 ,  19.2 ,  59.7 ,  68.  ,  34.1 ,\n        25.6 ,  17.  ,  51.2 ,  76.8 ,  17.1 , 115.2 ,  85.  ,  32.  ,\n        10.6 ,  37.5 ,   3.2 ,  38.4 ,  29.8 ,  29.86, 352.  ,  42.6 ,\n        68.3 ,  85.3 ,  21.32,  59.  ,   6.4 ,  51.  ,   1.6 ,   5.3 ,\n         4.2 , 102.  , 240.  ,  25.  ,  10.66,  10.7 ,   8.5 ])"
     },
     "execution_count": 483,
     "metadata": {},
     "output_type": "execute_result"
    }
   ],
   "source": [
    "train['Max_Memory_Bandwidth'].unique()"
   ],
   "metadata": {
    "collapsed": false,
    "ExecuteTime": {
     "end_time": "2024-04-18T12:02:43.618202Z",
     "start_time": "2024-04-18T12:02:43.606665Z"
    }
   },
   "id": "eba54ea6ae6d3592",
   "execution_count": 483
  },
  {
   "cell_type": "code",
   "outputs": [
    {
     "data": {
      "text/plain": "                   Product_Collection  Status  Lithography  \\\n2  Intel® Pentium® Processor D Series       1            1   \n3    Legacy Intel® Celeron® Processor       0            2   \n4  Intel® Celeron® Processor G Series       1            1   \n5    Intel® Xeon® Processor E5 Family       1            6   \n6      Legacy Intel® Core™ Processors       0            6   \n\n   Recommended_Customer_Price  nb_of_Cores  nb_of_Threads  \\\n2                       129.0            2              4   \n3                        85.5            1              3   \n4                        42.0            2              2   \n5                       692.0            6             12   \n6                       577.0            2              4   \n\n   Processor_Base_Frequency   TDP  Embedded_Options_Available  Conflict_Free  \\\n2                      2.20  25.0                         1.0            1.0   \n3                      0.85  25.7                         1.0            1.0   \n4                      2.90  51.0                         0.0            1.0   \n5                      1.80  60.0                         1.0            1.0   \n6                      3.10  65.0                         0.0            1.0   \n\n   ...  Intel_Virtualization_Technology_VTx_ Intel_64_  Instruction_Set  \\\n2  ...                                   1.0       1.0           64-bit   \n3  ...                                   0.0       0.0           32-bit   \n4  ...                                   1.0       1.0           64-bit   \n5  ...                                   1.0       1.0           64-bit   \n6  ...                                   1.0       1.0           64-bit   \n\n   Instruction_Set_Extensions  Idle_States Thermal_Monitoring_Technologies  \\\n2                     AVX 2.0          1.0                             1.0   \n3                         NaN          0.0                             1.0   \n4                  SSE4.1/4.2          1.0                             1.0   \n5                         Yes          1.0                             1.0   \n6             SSE4.1/4.2, AVX          1.0                             1.0   \n\n   Execute_Disable_Bit Cache_Size  Cache_Type  Bus_Type  \n2                  1.0      3.000          L3       FSB  \n3                  0.0      0.128          L2       FSB  \n4                  1.0      2.000          L3      DMI3  \n5                  1.0     15.000  SmartCache       QPI  \n6                  1.0      3.000  SmartCache       DMI  \n\n[5 rows x 29 columns]",
      "text/html": "<div>\n<style scoped>\n    .dataframe tbody tr th:only-of-type {\n        vertical-align: middle;\n    }\n\n    .dataframe tbody tr th {\n        vertical-align: top;\n    }\n\n    .dataframe thead th {\n        text-align: right;\n    }\n</style>\n<table border=\"1\" class=\"dataframe\">\n  <thead>\n    <tr style=\"text-align: right;\">\n      <th></th>\n      <th>Product_Collection</th>\n      <th>Status</th>\n      <th>Lithography</th>\n      <th>Recommended_Customer_Price</th>\n      <th>nb_of_Cores</th>\n      <th>nb_of_Threads</th>\n      <th>Processor_Base_Frequency</th>\n      <th>TDP</th>\n      <th>Embedded_Options_Available</th>\n      <th>Conflict_Free</th>\n      <th>...</th>\n      <th>Intel_Virtualization_Technology_VTx_</th>\n      <th>Intel_64_</th>\n      <th>Instruction_Set</th>\n      <th>Instruction_Set_Extensions</th>\n      <th>Idle_States</th>\n      <th>Thermal_Monitoring_Technologies</th>\n      <th>Execute_Disable_Bit</th>\n      <th>Cache_Size</th>\n      <th>Cache_Type</th>\n      <th>Bus_Type</th>\n    </tr>\n  </thead>\n  <tbody>\n    <tr>\n      <th>2</th>\n      <td>Intel® Pentium® Processor D Series</td>\n      <td>1</td>\n      <td>1</td>\n      <td>129.0</td>\n      <td>2</td>\n      <td>4</td>\n      <td>2.20</td>\n      <td>25.0</td>\n      <td>1.0</td>\n      <td>1.0</td>\n      <td>...</td>\n      <td>1.0</td>\n      <td>1.0</td>\n      <td>64-bit</td>\n      <td>AVX 2.0</td>\n      <td>1.0</td>\n      <td>1.0</td>\n      <td>1.0</td>\n      <td>3.000</td>\n      <td>L3</td>\n      <td>FSB</td>\n    </tr>\n    <tr>\n      <th>3</th>\n      <td>Legacy Intel® Celeron® Processor</td>\n      <td>0</td>\n      <td>2</td>\n      <td>85.5</td>\n      <td>1</td>\n      <td>3</td>\n      <td>0.85</td>\n      <td>25.7</td>\n      <td>1.0</td>\n      <td>1.0</td>\n      <td>...</td>\n      <td>0.0</td>\n      <td>0.0</td>\n      <td>32-bit</td>\n      <td>NaN</td>\n      <td>0.0</td>\n      <td>1.0</td>\n      <td>0.0</td>\n      <td>0.128</td>\n      <td>L2</td>\n      <td>FSB</td>\n    </tr>\n    <tr>\n      <th>4</th>\n      <td>Intel® Celeron® Processor G Series</td>\n      <td>1</td>\n      <td>1</td>\n      <td>42.0</td>\n      <td>2</td>\n      <td>2</td>\n      <td>2.90</td>\n      <td>51.0</td>\n      <td>0.0</td>\n      <td>1.0</td>\n      <td>...</td>\n      <td>1.0</td>\n      <td>1.0</td>\n      <td>64-bit</td>\n      <td>SSE4.1/4.2</td>\n      <td>1.0</td>\n      <td>1.0</td>\n      <td>1.0</td>\n      <td>2.000</td>\n      <td>L3</td>\n      <td>DMI3</td>\n    </tr>\n    <tr>\n      <th>5</th>\n      <td>Intel® Xeon® Processor E5 Family</td>\n      <td>1</td>\n      <td>6</td>\n      <td>692.0</td>\n      <td>6</td>\n      <td>12</td>\n      <td>1.80</td>\n      <td>60.0</td>\n      <td>1.0</td>\n      <td>1.0</td>\n      <td>...</td>\n      <td>1.0</td>\n      <td>1.0</td>\n      <td>64-bit</td>\n      <td>Yes</td>\n      <td>1.0</td>\n      <td>1.0</td>\n      <td>1.0</td>\n      <td>15.000</td>\n      <td>SmartCache</td>\n      <td>QPI</td>\n    </tr>\n    <tr>\n      <th>6</th>\n      <td>Legacy Intel® Core™ Processors</td>\n      <td>0</td>\n      <td>6</td>\n      <td>577.0</td>\n      <td>2</td>\n      <td>4</td>\n      <td>3.10</td>\n      <td>65.0</td>\n      <td>0.0</td>\n      <td>1.0</td>\n      <td>...</td>\n      <td>1.0</td>\n      <td>1.0</td>\n      <td>64-bit</td>\n      <td>SSE4.1/4.2, AVX</td>\n      <td>1.0</td>\n      <td>1.0</td>\n      <td>1.0</td>\n      <td>3.000</td>\n      <td>SmartCache</td>\n      <td>DMI</td>\n    </tr>\n  </tbody>\n</table>\n<p>5 rows × 29 columns</p>\n</div>"
     },
     "execution_count": 484,
     "metadata": {},
     "output_type": "execute_result"
    }
   ],
   "source": [
    "train.head()"
   ],
   "metadata": {
    "collapsed": false,
    "ExecuteTime": {
     "end_time": "2024-04-18T12:02:43.713032Z",
     "start_time": "2024-04-18T12:02:43.695758Z"
    }
   },
   "id": "7263c3b8a6a05bd9",
   "execution_count": 484
  },
  {
   "cell_type": "code",
   "outputs": [
    {
     "data": {
      "text/plain": "array(['2.0/3.0', nan, '3', 'Gen 3.0', '2', '1.0a', 'Up to 3.0', 'No',\n       '3.0 (16), 2.0 (1x4 lanes)'], dtype=object)"
     },
     "execution_count": 485,
     "metadata": {},
     "output_type": "execute_result"
    }
   ],
   "source": [
    "train['PCI_Express_Revision'].unique()"
   ],
   "metadata": {
    "collapsed": false,
    "ExecuteTime": {
     "end_time": "2024-04-18T12:02:43.743325Z",
     "start_time": "2024-04-18T12:02:43.726451Z"
    }
   },
   "id": "40a65de9743d0743",
   "execution_count": 485
  },
  {
   "cell_type": "code",
   "outputs": [],
   "source": [
    "train['PCI_Express_Revision'] = train['PCI_Express_Revision'].apply(lambda x: 3.0 if '3' in str(x) else 2.0 if '2' in str(x) else 1.0 if '1' in str(x) else 0 if 'No' in str(x) else x)"
   ],
   "metadata": {
    "collapsed": false,
    "ExecuteTime": {
     "end_time": "2024-04-18T12:02:43.826590Z",
     "start_time": "2024-04-18T12:02:43.813749Z"
    }
   },
   "id": "3d9e98ecfa2bc1bd",
   "execution_count": 486
  },
  {
   "cell_type": "code",
   "outputs": [
    {
     "data": {
      "text/plain": "array([ 3., nan,  2.,  1.,  0.])"
     },
     "execution_count": 487,
     "metadata": {},
     "output_type": "execute_result"
    }
   ],
   "source": [
    "train['PCI_Express_Revision'].unique()"
   ],
   "metadata": {
    "collapsed": false,
    "ExecuteTime": {
     "end_time": "2024-04-18T12:02:43.935298Z",
     "start_time": "2024-04-18T12:02:43.928450Z"
    }
   },
   "id": "96e06d49306634d6",
   "execution_count": 487
  },
  {
   "cell_type": "code",
   "outputs": [],
   "source": [
    "train['PCI_Express_Revision'].fillna(train['PCI_Express_Revision'].mode()[0], inplace=True)"
   ],
   "metadata": {
    "collapsed": false,
    "ExecuteTime": {
     "end_time": "2024-04-18T12:02:44.013123Z",
     "start_time": "2024-04-18T12:02:44.006456Z"
    }
   },
   "id": "cf843ccb2a29aa90",
   "execution_count": 488
  },
  {
   "cell_type": "code",
   "outputs": [
    {
     "data": {
      "text/plain": "array([3., 2., 1., 0.])"
     },
     "execution_count": 489,
     "metadata": {},
     "output_type": "execute_result"
    }
   ],
   "source": [
    "train['PCI_Express_Revision'].unique()"
   ],
   "metadata": {
    "collapsed": false,
    "ExecuteTime": {
     "end_time": "2024-04-18T12:02:44.105575Z",
     "start_time": "2024-04-18T12:02:44.092466Z"
    }
   },
   "id": "432c06f5a5772117",
   "execution_count": 489
  },
  {
   "cell_type": "code",
   "outputs": [
    {
     "data": {
      "text/plain": "                   Product_Collection  Status  Lithography  \\\n2  Intel® Pentium® Processor D Series       1            1   \n3    Legacy Intel® Celeron® Processor       0            2   \n4  Intel® Celeron® Processor G Series       1            1   \n5    Intel® Xeon® Processor E5 Family       1            6   \n6      Legacy Intel® Core™ Processors       0            6   \n\n   Recommended_Customer_Price  nb_of_Cores  nb_of_Threads  \\\n2                       129.0            2              4   \n3                        85.5            1              3   \n4                        42.0            2              2   \n5                       692.0            6             12   \n6                       577.0            2              4   \n\n   Processor_Base_Frequency   TDP  Embedded_Options_Available  Conflict_Free  \\\n2                      2.20  25.0                         1.0            1.0   \n3                      0.85  25.7                         1.0            1.0   \n4                      2.90  51.0                         0.0            1.0   \n5                      1.80  60.0                         1.0            1.0   \n6                      3.10  65.0                         0.0            1.0   \n\n   ...  Intel_Virtualization_Technology_VTx_ Intel_64_  Instruction_Set  \\\n2  ...                                   1.0       1.0           64-bit   \n3  ...                                   0.0       0.0           32-bit   \n4  ...                                   1.0       1.0           64-bit   \n5  ...                                   1.0       1.0           64-bit   \n6  ...                                   1.0       1.0           64-bit   \n\n   Instruction_Set_Extensions  Idle_States  Thermal_Monitoring_Technologies  \\\n2                     AVX 2.0          1.0                              1.0   \n3                         NaN          0.0                              1.0   \n4                  SSE4.1/4.2          1.0                              1.0   \n5                         Yes          1.0                              1.0   \n6             SSE4.1/4.2, AVX          1.0                              1.0   \n\n   Execute_Disable_Bit Cache_Size  Cache_Type  Bus_Type  \n2                  1.0      3.000          L3       FSB  \n3                  0.0      0.128          L2       FSB  \n4                  1.0      2.000          L3      DMI3  \n5                  1.0     15.000  SmartCache       QPI  \n6                  1.0      3.000  SmartCache       DMI  \n\n[5 rows x 29 columns]",
      "text/html": "<div>\n<style scoped>\n    .dataframe tbody tr th:only-of-type {\n        vertical-align: middle;\n    }\n\n    .dataframe tbody tr th {\n        vertical-align: top;\n    }\n\n    .dataframe thead th {\n        text-align: right;\n    }\n</style>\n<table border=\"1\" class=\"dataframe\">\n  <thead>\n    <tr style=\"text-align: right;\">\n      <th></th>\n      <th>Product_Collection</th>\n      <th>Status</th>\n      <th>Lithography</th>\n      <th>Recommended_Customer_Price</th>\n      <th>nb_of_Cores</th>\n      <th>nb_of_Threads</th>\n      <th>Processor_Base_Frequency</th>\n      <th>TDP</th>\n      <th>Embedded_Options_Available</th>\n      <th>Conflict_Free</th>\n      <th>...</th>\n      <th>Intel_Virtualization_Technology_VTx_</th>\n      <th>Intel_64_</th>\n      <th>Instruction_Set</th>\n      <th>Instruction_Set_Extensions</th>\n      <th>Idle_States</th>\n      <th>Thermal_Monitoring_Technologies</th>\n      <th>Execute_Disable_Bit</th>\n      <th>Cache_Size</th>\n      <th>Cache_Type</th>\n      <th>Bus_Type</th>\n    </tr>\n  </thead>\n  <tbody>\n    <tr>\n      <th>2</th>\n      <td>Intel® Pentium® Processor D Series</td>\n      <td>1</td>\n      <td>1</td>\n      <td>129.0</td>\n      <td>2</td>\n      <td>4</td>\n      <td>2.20</td>\n      <td>25.0</td>\n      <td>1.0</td>\n      <td>1.0</td>\n      <td>...</td>\n      <td>1.0</td>\n      <td>1.0</td>\n      <td>64-bit</td>\n      <td>AVX 2.0</td>\n      <td>1.0</td>\n      <td>1.0</td>\n      <td>1.0</td>\n      <td>3.000</td>\n      <td>L3</td>\n      <td>FSB</td>\n    </tr>\n    <tr>\n      <th>3</th>\n      <td>Legacy Intel® Celeron® Processor</td>\n      <td>0</td>\n      <td>2</td>\n      <td>85.5</td>\n      <td>1</td>\n      <td>3</td>\n      <td>0.85</td>\n      <td>25.7</td>\n      <td>1.0</td>\n      <td>1.0</td>\n      <td>...</td>\n      <td>0.0</td>\n      <td>0.0</td>\n      <td>32-bit</td>\n      <td>NaN</td>\n      <td>0.0</td>\n      <td>1.0</td>\n      <td>0.0</td>\n      <td>0.128</td>\n      <td>L2</td>\n      <td>FSB</td>\n    </tr>\n    <tr>\n      <th>4</th>\n      <td>Intel® Celeron® Processor G Series</td>\n      <td>1</td>\n      <td>1</td>\n      <td>42.0</td>\n      <td>2</td>\n      <td>2</td>\n      <td>2.90</td>\n      <td>51.0</td>\n      <td>0.0</td>\n      <td>1.0</td>\n      <td>...</td>\n      <td>1.0</td>\n      <td>1.0</td>\n      <td>64-bit</td>\n      <td>SSE4.1/4.2</td>\n      <td>1.0</td>\n      <td>1.0</td>\n      <td>1.0</td>\n      <td>2.000</td>\n      <td>L3</td>\n      <td>DMI3</td>\n    </tr>\n    <tr>\n      <th>5</th>\n      <td>Intel® Xeon® Processor E5 Family</td>\n      <td>1</td>\n      <td>6</td>\n      <td>692.0</td>\n      <td>6</td>\n      <td>12</td>\n      <td>1.80</td>\n      <td>60.0</td>\n      <td>1.0</td>\n      <td>1.0</td>\n      <td>...</td>\n      <td>1.0</td>\n      <td>1.0</td>\n      <td>64-bit</td>\n      <td>Yes</td>\n      <td>1.0</td>\n      <td>1.0</td>\n      <td>1.0</td>\n      <td>15.000</td>\n      <td>SmartCache</td>\n      <td>QPI</td>\n    </tr>\n    <tr>\n      <th>6</th>\n      <td>Legacy Intel® Core™ Processors</td>\n      <td>0</td>\n      <td>6</td>\n      <td>577.0</td>\n      <td>2</td>\n      <td>4</td>\n      <td>3.10</td>\n      <td>65.0</td>\n      <td>0.0</td>\n      <td>1.0</td>\n      <td>...</td>\n      <td>1.0</td>\n      <td>1.0</td>\n      <td>64-bit</td>\n      <td>SSE4.1/4.2, AVX</td>\n      <td>1.0</td>\n      <td>1.0</td>\n      <td>1.0</td>\n      <td>3.000</td>\n      <td>SmartCache</td>\n      <td>DMI</td>\n    </tr>\n  </tbody>\n</table>\n<p>5 rows × 29 columns</p>\n</div>"
     },
     "execution_count": 490,
     "metadata": {},
     "output_type": "execute_result"
    }
   ],
   "source": [
    "train.head()"
   ],
   "metadata": {
    "collapsed": false,
    "ExecuteTime": {
     "end_time": "2024-04-18T12:02:44.166961Z",
     "start_time": "2024-04-18T12:02:44.138419Z"
    }
   },
   "id": "6da91d32d0280797",
   "execution_count": 490
  },
  {
   "cell_type": "code",
   "outputs": [
    {
     "data": {
      "text/plain": "array([32., nan, 16., 24., 40.,  4., 48., 28., 12.,  2.,  1., 10., 20.,\n        0.,  6., 44.,  8., 36.])"
     },
     "execution_count": 491,
     "metadata": {},
     "output_type": "execute_result"
    }
   ],
   "source": [
    "train['Max_nb_of_PCI_Express_Lanes'].unique()"
   ],
   "metadata": {
    "collapsed": false,
    "ExecuteTime": {
     "end_time": "2024-04-18T12:02:44.243534Z",
     "start_time": "2024-04-18T12:02:44.225114Z"
    }
   },
   "id": "dfec22e09aa3bb51",
   "execution_count": 491
  },
  {
   "cell_type": "code",
   "outputs": [],
   "source": [
    "train['Max_nb_of_PCI_Express_Lanes'].fillna(train['Max_nb_of_PCI_Express_Lanes'].mode()[0], inplace=True)"
   ],
   "metadata": {
    "collapsed": false,
    "ExecuteTime": {
     "end_time": "2024-04-18T12:02:44.305495Z",
     "start_time": "2024-04-18T12:02:44.298618Z"
    }
   },
   "id": "e7a08bdfc0e4a8af",
   "execution_count": 492
  },
  {
   "cell_type": "code",
   "outputs": [
    {
     "data": {
      "text/plain": "array([32., 16., 24., 40.,  4., 48., 28., 12.,  2.,  1., 10., 20.,  0.,\n        6., 44.,  8., 36.])"
     },
     "execution_count": 493,
     "metadata": {},
     "output_type": "execute_result"
    }
   ],
   "source": [
    "train['Max_nb_of_PCI_Express_Lanes'].unique()"
   ],
   "metadata": {
    "collapsed": false,
    "ExecuteTime": {
     "end_time": "2024-04-18T12:02:44.399491Z",
     "start_time": "2024-04-18T12:02:44.386412Z"
    }
   },
   "id": "cbd94914a86a1212",
   "execution_count": 493
  },
  {
   "cell_type": "code",
   "outputs": [
    {
     "data": {
      "text/plain": "                   Product_Collection  Status  Lithography  \\\n2  Intel® Pentium® Processor D Series       1            1   \n3    Legacy Intel® Celeron® Processor       0            2   \n4  Intel® Celeron® Processor G Series       1            1   \n5    Intel® Xeon® Processor E5 Family       1            6   \n6      Legacy Intel® Core™ Processors       0            6   \n\n   Recommended_Customer_Price  nb_of_Cores  nb_of_Threads  \\\n2                       129.0            2              4   \n3                        85.5            1              3   \n4                        42.0            2              2   \n5                       692.0            6             12   \n6                       577.0            2              4   \n\n   Processor_Base_Frequency   TDP  Embedded_Options_Available  Conflict_Free  \\\n2                      2.20  25.0                         1.0            1.0   \n3                      0.85  25.7                         1.0            1.0   \n4                      2.90  51.0                         0.0            1.0   \n5                      1.80  60.0                         1.0            1.0   \n6                      3.10  65.0                         0.0            1.0   \n\n   ...  Intel_Virtualization_Technology_VTx_ Intel_64_  Instruction_Set  \\\n2  ...                                   1.0       1.0           64-bit   \n3  ...                                   0.0       0.0           32-bit   \n4  ...                                   1.0       1.0           64-bit   \n5  ...                                   1.0       1.0           64-bit   \n6  ...                                   1.0       1.0           64-bit   \n\n   Instruction_Set_Extensions  Idle_States  Thermal_Monitoring_Technologies  \\\n2                     AVX 2.0          1.0                              1.0   \n3                         NaN          0.0                              1.0   \n4                  SSE4.1/4.2          1.0                              1.0   \n5                         Yes          1.0                              1.0   \n6             SSE4.1/4.2, AVX          1.0                              1.0   \n\n   Execute_Disable_Bit Cache_Size  Cache_Type  Bus_Type  \n2                  1.0      3.000          L3       FSB  \n3                  0.0      0.128          L2       FSB  \n4                  1.0      2.000          L3      DMI3  \n5                  1.0     15.000  SmartCache       QPI  \n6                  1.0      3.000  SmartCache       DMI  \n\n[5 rows x 29 columns]",
      "text/html": "<div>\n<style scoped>\n    .dataframe tbody tr th:only-of-type {\n        vertical-align: middle;\n    }\n\n    .dataframe tbody tr th {\n        vertical-align: top;\n    }\n\n    .dataframe thead th {\n        text-align: right;\n    }\n</style>\n<table border=\"1\" class=\"dataframe\">\n  <thead>\n    <tr style=\"text-align: right;\">\n      <th></th>\n      <th>Product_Collection</th>\n      <th>Status</th>\n      <th>Lithography</th>\n      <th>Recommended_Customer_Price</th>\n      <th>nb_of_Cores</th>\n      <th>nb_of_Threads</th>\n      <th>Processor_Base_Frequency</th>\n      <th>TDP</th>\n      <th>Embedded_Options_Available</th>\n      <th>Conflict_Free</th>\n      <th>...</th>\n      <th>Intel_Virtualization_Technology_VTx_</th>\n      <th>Intel_64_</th>\n      <th>Instruction_Set</th>\n      <th>Instruction_Set_Extensions</th>\n      <th>Idle_States</th>\n      <th>Thermal_Monitoring_Technologies</th>\n      <th>Execute_Disable_Bit</th>\n      <th>Cache_Size</th>\n      <th>Cache_Type</th>\n      <th>Bus_Type</th>\n    </tr>\n  </thead>\n  <tbody>\n    <tr>\n      <th>2</th>\n      <td>Intel® Pentium® Processor D Series</td>\n      <td>1</td>\n      <td>1</td>\n      <td>129.0</td>\n      <td>2</td>\n      <td>4</td>\n      <td>2.20</td>\n      <td>25.0</td>\n      <td>1.0</td>\n      <td>1.0</td>\n      <td>...</td>\n      <td>1.0</td>\n      <td>1.0</td>\n      <td>64-bit</td>\n      <td>AVX 2.0</td>\n      <td>1.0</td>\n      <td>1.0</td>\n      <td>1.0</td>\n      <td>3.000</td>\n      <td>L3</td>\n      <td>FSB</td>\n    </tr>\n    <tr>\n      <th>3</th>\n      <td>Legacy Intel® Celeron® Processor</td>\n      <td>0</td>\n      <td>2</td>\n      <td>85.5</td>\n      <td>1</td>\n      <td>3</td>\n      <td>0.85</td>\n      <td>25.7</td>\n      <td>1.0</td>\n      <td>1.0</td>\n      <td>...</td>\n      <td>0.0</td>\n      <td>0.0</td>\n      <td>32-bit</td>\n      <td>NaN</td>\n      <td>0.0</td>\n      <td>1.0</td>\n      <td>0.0</td>\n      <td>0.128</td>\n      <td>L2</td>\n      <td>FSB</td>\n    </tr>\n    <tr>\n      <th>4</th>\n      <td>Intel® Celeron® Processor G Series</td>\n      <td>1</td>\n      <td>1</td>\n      <td>42.0</td>\n      <td>2</td>\n      <td>2</td>\n      <td>2.90</td>\n      <td>51.0</td>\n      <td>0.0</td>\n      <td>1.0</td>\n      <td>...</td>\n      <td>1.0</td>\n      <td>1.0</td>\n      <td>64-bit</td>\n      <td>SSE4.1/4.2</td>\n      <td>1.0</td>\n      <td>1.0</td>\n      <td>1.0</td>\n      <td>2.000</td>\n      <td>L3</td>\n      <td>DMI3</td>\n    </tr>\n    <tr>\n      <th>5</th>\n      <td>Intel® Xeon® Processor E5 Family</td>\n      <td>1</td>\n      <td>6</td>\n      <td>692.0</td>\n      <td>6</td>\n      <td>12</td>\n      <td>1.80</td>\n      <td>60.0</td>\n      <td>1.0</td>\n      <td>1.0</td>\n      <td>...</td>\n      <td>1.0</td>\n      <td>1.0</td>\n      <td>64-bit</td>\n      <td>Yes</td>\n      <td>1.0</td>\n      <td>1.0</td>\n      <td>1.0</td>\n      <td>15.000</td>\n      <td>SmartCache</td>\n      <td>QPI</td>\n    </tr>\n    <tr>\n      <th>6</th>\n      <td>Legacy Intel® Core™ Processors</td>\n      <td>0</td>\n      <td>6</td>\n      <td>577.0</td>\n      <td>2</td>\n      <td>4</td>\n      <td>3.10</td>\n      <td>65.0</td>\n      <td>0.0</td>\n      <td>1.0</td>\n      <td>...</td>\n      <td>1.0</td>\n      <td>1.0</td>\n      <td>64-bit</td>\n      <td>SSE4.1/4.2, AVX</td>\n      <td>1.0</td>\n      <td>1.0</td>\n      <td>1.0</td>\n      <td>3.000</td>\n      <td>SmartCache</td>\n      <td>DMI</td>\n    </tr>\n  </tbody>\n</table>\n<p>5 rows × 29 columns</p>\n</div>"
     },
     "execution_count": 494,
     "metadata": {},
     "output_type": "execute_result"
    }
   ],
   "source": [
    "train.head()"
   ],
   "metadata": {
    "collapsed": false,
    "ExecuteTime": {
     "end_time": "2024-04-18T12:02:44.509122Z",
     "start_time": "2024-04-18T12:02:44.491123Z"
    }
   },
   "id": "7e0ddad2e59b85de",
   "execution_count": 494
  },
  {
   "cell_type": "code",
   "outputs": [
    {
     "data": {
      "text/plain": "array([nan, '80°C', '100°C', '89°C', '69.1°C', '100C', '76.3°C', '105°C',\n       '69.2°C', '67°C', '76°C', '75°C', '110°C', '74°C', '100C (BGA)',\n       '92°C', '66.8', '70.8°C', '72.4°C', '90°C', '66.4°C', '69°C',\n       '67.7°C', '71°C', '66.4 C', '72.6°C', '74.1°C', '83', '87°C',\n       '85°C', '64.0 °C', '105 C', '73.5°C', '66.35°C', '66°C', '100 C',\n       '74.6°C', '71.4°C', '70°C', '64°C', '72°C', '72.7°C', '58.6°C',\n       '77°C', '77.6°C', '83°C', '73.3°C', '76.2°C', '65.0°C',\n       'C1=69.2°C; D0=64.4°C', 'B1+C1=69°C, D0=64.4°C', '78°C',\n       '78°C,100°C', '105C', '63°C', '73°C', '67.9°C', '60°C', '68°C',\n       '55.5°C', '79°C', '63.4°C', '0 to +90°C', '89.2°C', '81°C',\n       '90°C for rPGA, 105°C for BGA', '79.5°C - 94.5°C',\n       '-40°C to 110°C', '55°C', '84.5°C', '64.5°C', '87', '85C',\n       '65.8°C', '60.4°C', '95°C', '69.1', '95.0 C', '82°C', '80.4°C',\n       '70.0°C', '74.7°C', '91°C', '65°C', 'B1+C1=69.2°C. D0=64.1°C',\n       '81.3°C', '72.72°C', 'L2=61.4°C; G0+M0=73.3°C', '98°C,110°C',\n       '70.0°C - 85.0°C', '57°C', '77.4°C', '85C (PGA); 100C (BGA)',\n       '88°C', '90', '97°C', '95 C', '67.4°C', '61.4°C', '94°C', '85 C',\n       '100', '74.04°C', '100°C,100°C', '73.6°C', '79',\n       'C1+D1=74°C; M0=72°C', '65', '68.6°C', '82.5°C', '78.65°C',\n       '85.0°C', '86°C', '89.9°C', '77.5°C - 92.5°C', '71.45°C', '84.4°C',\n       '89°C,100°C', '72.8°C', '77.7°C', '90C (PGA); 105C (BGA)',\n       '71.35°C', '69.8°C', '72.0°C', '.,100', '69.4°C', '63.1°C',\n       '78.5°C', '90 C', '64.0°C', '72.2°C', '90°C,100°C', '73 °C',\n       '70.9°C', '65.3°C', '88.84°C', '82', '66.8°C', '83°C,100°C',\n       'L2=61.4°C, M0=73.3°C', '64.1°C', '58°C', '87.025°C', '60.1°C',\n       '85.2°C', '93°C', '84°C,100°C', '67.4°C,105°C', '86.95', '93',\n       '80', 'C1+D1=75°C; M0=72°C', '65.5°C', '78', '82.6°C', '66',\n       '76.6°C', '56.7°C', '82.9°C', 'B3=62.2°C; G0=71°C', '64',\n       '66.26°C', '74.3°C', '64.4°C', '62.2°C', '61°C',\n       'C1=68.6°C, D0=63.4°C', '78.9°C', 'C1=70°C; D1=75°C', '91',\n       '72.0 °C', '87.9°C', '65.9°C', '66.6°C', '84°C', '62°C', '86',\n       '98°C', '77.8°C', '77.5°C', '58.3°C', '105', '96°C', '92',\n       '53.9°C', '85°C,100°C', '76.7°C', 'C1+D0=63.4°C, B1=68.6°C',\n       'B1,C1=69.2°C;     D0-64.4°C', '87.6°C', '67.4', '76.25°C',\n       '73.1°C', '79.1°C', '66.2°C', 'B0=71°C; C1+D1=74°C',\n       'B1=68.6°C, C1=63.4°C', '56°C', '86.4°C', '76.4°C'], dtype=object)"
     },
     "execution_count": 495,
     "metadata": {},
     "output_type": "execute_result"
    }
   ],
   "source": [
    "train['T'].unique()"
   ],
   "metadata": {
    "collapsed": false,
    "ExecuteTime": {
     "end_time": "2024-04-18T12:02:44.602941Z",
     "start_time": "2024-04-18T12:02:44.589860Z"
    }
   },
   "id": "9362c6f96ee86b86",
   "execution_count": 495
  },
  {
   "cell_type": "code",
   "outputs": [
    {
     "data": {
      "text/plain": "array(['B1+C1=69°C, D0=64.4°C', '78°C,100°C',\n       '90°C for rPGA, 105°C for BGA', '98°C,110°C', '100°C,100°C',\n       '89°C,100°C', '.,100', '90°C,100°C', '83°C,100°C',\n       'L2=61.4°C, M0=73.3°C', '84°C,100°C', '67.4°C,105°C',\n       'C1=68.6°C, D0=63.4°C', '85°C,100°C', 'C1+D0=63.4°C, B1=68.6°C',\n       'B1,C1=69.2°C;     D0-64.4°C', 'B1=68.6°C, C1=63.4°C'],\n      dtype=object)"
     },
     "execution_count": 496,
     "metadata": {},
     "output_type": "execute_result"
    }
   ],
   "source": [
    "filtered_df = train[train['T'].str.contains(',', na=False)]\n",
    "filtered_df['T'].unique()"
   ],
   "metadata": {
    "collapsed": false,
    "ExecuteTime": {
     "end_time": "2024-04-18T12:02:44.677663Z",
     "start_time": "2024-04-18T12:02:44.665907Z"
    }
   },
   "id": "c8afd1123022be2d",
   "execution_count": 496
  },
  {
   "cell_type": "code",
   "outputs": [],
   "source": [
    "# train['T'].apply(lambda x: float(x.split('°')[0]) if '°' in str(x) and ',' not in str(x) and ';' not in str(x) else float(x.split('to')[1].split('°')[0]) if 'to' in str(x) else max([float(y) for y in re.findall(r'\\d\\.\\d', str(x))]) if '=' in str(x) else max([float(y) for y in re.findall(r'\\d+\\.\\d+|\\d+', x)]) if ';' in str(x) else"
   ],
   "metadata": {
    "collapsed": false,
    "ExecuteTime": {
     "end_time": "2024-04-18T12:02:44.786267Z",
     "start_time": "2024-04-18T12:02:44.773823Z"
    }
   },
   "id": "d0cd21dc336bb828",
   "execution_count": 497
  },
  {
   "cell_type": "code",
   "outputs": [],
   "source": [
    "def extract_temperature(temperature):\n",
    "    temperature = str(temperature)\n",
    "    if any(char in temperature for char in [',', ';', '=']):\n",
    "        numbers = [float(num) for num in re.findall(r'\\d+\\.\\d+|\\d+', temperature)]\n",
    "        return max(numbers) if numbers else pd.NA\n",
    "    elif temperature != 'nan':\n",
    "        match = re.search(r'\\d+\\.\\d+|\\d+', temperature)\n",
    "        return float(match.group()) if match else pd.NA"
   ],
   "metadata": {
    "collapsed": false,
    "ExecuteTime": {
     "end_time": "2024-04-18T12:02:44.926074Z",
     "start_time": "2024-04-18T12:02:44.915697Z"
    }
   },
   "id": "fa1366e043812fcd",
   "execution_count": 498
  },
  {
   "cell_type": "code",
   "outputs": [],
   "source": [
    "train['T'] = train['T'].apply(extract_temperature)"
   ],
   "metadata": {
    "collapsed": false,
    "ExecuteTime": {
     "end_time": "2024-04-18T12:02:45.018482Z",
     "start_time": "2024-04-18T12:02:45.005300Z"
    }
   },
   "id": "fde057557ab24fba",
   "execution_count": 499
  },
  {
   "cell_type": "code",
   "outputs": [
    {
     "data": {
      "text/plain": "array([    nan,  80.   , 100.   ,  89.   ,  69.1  ,  76.3  , 105.   ,\n        69.2  ,  67.   ,  76.   ,  75.   , 110.   ,  74.   ,  92.   ,\n        66.8  ,  70.8  ,  72.4  ,  90.   ,  66.4  ,  69.   ,  67.7  ,\n        71.   ,  72.6  ,  74.1  ,  83.   ,  87.   ,  85.   ,  64.   ,\n        73.5  ,  66.35 ,  66.   ,  74.6  ,  71.4  ,  70.   ,  72.   ,\n        72.7  ,  58.6  ,  77.   ,  77.6  ,  73.3  ,  76.2  ,  65.   ,\n        78.   ,  63.   ,  73.   ,  67.9  ,  60.   ,  68.   ,  55.5  ,\n        79.   ,  63.4  ,   0.   ,  89.2  ,  81.   ,  79.5  ,  40.   ,\n        55.   ,  84.5  ,  64.5  ,  65.8  ,  60.4  ,  95.   ,  82.   ,\n        80.4  ,  74.7  ,  91.   ,  81.3  ,  72.72 ,  57.   ,  77.4  ,\n        88.   ,  97.   ,  67.4  ,  61.4  ,  94.   ,  74.04 ,  73.6  ,\n        68.6  ,  82.5  ,  78.65 ,  86.   ,  89.9  ,  77.5  ,  71.45 ,\n        84.4  ,  72.8  ,  77.7  ,  71.35 ,  69.8  ,  69.4  ,  63.1  ,\n        78.5  ,  72.2  ,  70.9  ,  65.3  ,  88.84 ,  64.1  ,  58.   ,\n        87.025,  60.1  ,  85.2  ,  93.   ,  86.95 ,  65.5  ,  82.6  ,\n        76.6  ,  56.7  ,  82.9  ,  66.26 ,  74.3  ,  64.4  ,  62.2  ,\n        61.   ,  78.9  ,  87.9  ,  65.9  ,  66.6  ,  84.   ,  62.   ,\n        98.   ,  77.8  ,  58.3  ,  96.   ,  53.9  ,  76.7  ,  87.6  ,\n        76.25 ,  73.1  ,  79.1  ,  66.2  ,  56.   ,  86.4  ,  76.4  ])"
     },
     "execution_count": 500,
     "metadata": {},
     "output_type": "execute_result"
    }
   ],
   "source": [
    "train['T'].unique()"
   ],
   "metadata": {
    "collapsed": false,
    "ExecuteTime": {
     "end_time": "2024-04-18T12:02:45.080756Z",
     "start_time": "2024-04-18T12:02:45.067744Z"
    }
   },
   "id": "812cbcac1448846b",
   "execution_count": 500
  },
  {
   "cell_type": "code",
   "outputs": [
    {
     "data": {
      "text/plain": "0"
     },
     "execution_count": 501,
     "metadata": {},
     "output_type": "execute_result"
    }
   ],
   "source": [
    "train['T'].fillna(round(train['T'].mean(), 2), inplace=True)\n",
    "train['T'].isnull().sum()"
   ],
   "metadata": {
    "collapsed": false,
    "ExecuteTime": {
     "end_time": "2024-04-18T12:02:45.148997Z",
     "start_time": "2024-04-18T12:02:45.138177Z"
    }
   },
   "id": "ddd44553875446a3",
   "execution_count": 501
  },
  {
   "cell_type": "code",
   "outputs": [
    {
     "data": {
      "text/plain": "                   Product_Collection  Status  Lithography  \\\n2  Intel® Pentium® Processor D Series       1            1   \n3    Legacy Intel® Celeron® Processor       0            2   \n4  Intel® Celeron® Processor G Series       1            1   \n5    Intel® Xeon® Processor E5 Family       1            6   \n6      Legacy Intel® Core™ Processors       0            6   \n\n   Recommended_Customer_Price  nb_of_Cores  nb_of_Threads  \\\n2                       129.0            2              4   \n3                        85.5            1              3   \n4                        42.0            2              2   \n5                       692.0            6             12   \n6                       577.0            2              4   \n\n   Processor_Base_Frequency   TDP  Embedded_Options_Available  Conflict_Free  \\\n2                      2.20  25.0                         1.0            1.0   \n3                      0.85  25.7                         1.0            1.0   \n4                      2.90  51.0                         0.0            1.0   \n5                      1.80  60.0                         1.0            1.0   \n6                      3.10  65.0                         0.0            1.0   \n\n   ...  Intel_Virtualization_Technology_VTx_ Intel_64_  Instruction_Set  \\\n2  ...                                   1.0       1.0           64-bit   \n3  ...                                   0.0       0.0           32-bit   \n4  ...                                   1.0       1.0           64-bit   \n5  ...                                   1.0       1.0           64-bit   \n6  ...                                   1.0       1.0           64-bit   \n\n   Instruction_Set_Extensions  Idle_States  Thermal_Monitoring_Technologies  \\\n2                     AVX 2.0          1.0                              1.0   \n3                         NaN          0.0                              1.0   \n4                  SSE4.1/4.2          1.0                              1.0   \n5                         Yes          1.0                              1.0   \n6             SSE4.1/4.2, AVX          1.0                              1.0   \n\n   Execute_Disable_Bit  Cache_Size  Cache_Type  Bus_Type  \n2                  1.0       3.000          L3       FSB  \n3                  0.0       0.128          L2       FSB  \n4                  1.0       2.000          L3      DMI3  \n5                  1.0      15.000  SmartCache       QPI  \n6                  1.0       3.000  SmartCache       DMI  \n\n[5 rows x 29 columns]",
      "text/html": "<div>\n<style scoped>\n    .dataframe tbody tr th:only-of-type {\n        vertical-align: middle;\n    }\n\n    .dataframe tbody tr th {\n        vertical-align: top;\n    }\n\n    .dataframe thead th {\n        text-align: right;\n    }\n</style>\n<table border=\"1\" class=\"dataframe\">\n  <thead>\n    <tr style=\"text-align: right;\">\n      <th></th>\n      <th>Product_Collection</th>\n      <th>Status</th>\n      <th>Lithography</th>\n      <th>Recommended_Customer_Price</th>\n      <th>nb_of_Cores</th>\n      <th>nb_of_Threads</th>\n      <th>Processor_Base_Frequency</th>\n      <th>TDP</th>\n      <th>Embedded_Options_Available</th>\n      <th>Conflict_Free</th>\n      <th>...</th>\n      <th>Intel_Virtualization_Technology_VTx_</th>\n      <th>Intel_64_</th>\n      <th>Instruction_Set</th>\n      <th>Instruction_Set_Extensions</th>\n      <th>Idle_States</th>\n      <th>Thermal_Monitoring_Technologies</th>\n      <th>Execute_Disable_Bit</th>\n      <th>Cache_Size</th>\n      <th>Cache_Type</th>\n      <th>Bus_Type</th>\n    </tr>\n  </thead>\n  <tbody>\n    <tr>\n      <th>2</th>\n      <td>Intel® Pentium® Processor D Series</td>\n      <td>1</td>\n      <td>1</td>\n      <td>129.0</td>\n      <td>2</td>\n      <td>4</td>\n      <td>2.20</td>\n      <td>25.0</td>\n      <td>1.0</td>\n      <td>1.0</td>\n      <td>...</td>\n      <td>1.0</td>\n      <td>1.0</td>\n      <td>64-bit</td>\n      <td>AVX 2.0</td>\n      <td>1.0</td>\n      <td>1.0</td>\n      <td>1.0</td>\n      <td>3.000</td>\n      <td>L3</td>\n      <td>FSB</td>\n    </tr>\n    <tr>\n      <th>3</th>\n      <td>Legacy Intel® Celeron® Processor</td>\n      <td>0</td>\n      <td>2</td>\n      <td>85.5</td>\n      <td>1</td>\n      <td>3</td>\n      <td>0.85</td>\n      <td>25.7</td>\n      <td>1.0</td>\n      <td>1.0</td>\n      <td>...</td>\n      <td>0.0</td>\n      <td>0.0</td>\n      <td>32-bit</td>\n      <td>NaN</td>\n      <td>0.0</td>\n      <td>1.0</td>\n      <td>0.0</td>\n      <td>0.128</td>\n      <td>L2</td>\n      <td>FSB</td>\n    </tr>\n    <tr>\n      <th>4</th>\n      <td>Intel® Celeron® Processor G Series</td>\n      <td>1</td>\n      <td>1</td>\n      <td>42.0</td>\n      <td>2</td>\n      <td>2</td>\n      <td>2.90</td>\n      <td>51.0</td>\n      <td>0.0</td>\n      <td>1.0</td>\n      <td>...</td>\n      <td>1.0</td>\n      <td>1.0</td>\n      <td>64-bit</td>\n      <td>SSE4.1/4.2</td>\n      <td>1.0</td>\n      <td>1.0</td>\n      <td>1.0</td>\n      <td>2.000</td>\n      <td>L3</td>\n      <td>DMI3</td>\n    </tr>\n    <tr>\n      <th>5</th>\n      <td>Intel® Xeon® Processor E5 Family</td>\n      <td>1</td>\n      <td>6</td>\n      <td>692.0</td>\n      <td>6</td>\n      <td>12</td>\n      <td>1.80</td>\n      <td>60.0</td>\n      <td>1.0</td>\n      <td>1.0</td>\n      <td>...</td>\n      <td>1.0</td>\n      <td>1.0</td>\n      <td>64-bit</td>\n      <td>Yes</td>\n      <td>1.0</td>\n      <td>1.0</td>\n      <td>1.0</td>\n      <td>15.000</td>\n      <td>SmartCache</td>\n      <td>QPI</td>\n    </tr>\n    <tr>\n      <th>6</th>\n      <td>Legacy Intel® Core™ Processors</td>\n      <td>0</td>\n      <td>6</td>\n      <td>577.0</td>\n      <td>2</td>\n      <td>4</td>\n      <td>3.10</td>\n      <td>65.0</td>\n      <td>0.0</td>\n      <td>1.0</td>\n      <td>...</td>\n      <td>1.0</td>\n      <td>1.0</td>\n      <td>64-bit</td>\n      <td>SSE4.1/4.2, AVX</td>\n      <td>1.0</td>\n      <td>1.0</td>\n      <td>1.0</td>\n      <td>3.000</td>\n      <td>SmartCache</td>\n      <td>DMI</td>\n    </tr>\n  </tbody>\n</table>\n<p>5 rows × 29 columns</p>\n</div>"
     },
     "execution_count": 502,
     "metadata": {},
     "output_type": "execute_result"
    }
   ],
   "source": [
    "train.head()"
   ],
   "metadata": {
    "collapsed": false,
    "ExecuteTime": {
     "end_time": "2024-04-18T12:02:45.261061Z",
     "start_time": "2024-04-18T12:02:45.231333Z"
    }
   },
   "id": "3fe95d16f293061d",
   "execution_count": 502
  },
  {
   "cell_type": "code",
   "outputs": [
    {
     "data": {
      "text/plain": "    Intel_64_ Instruction_Set\n2         1.0          64-bit\n3         0.0          32-bit\n4         1.0          64-bit\n5         1.0          64-bit\n6         1.0          64-bit\n7         1.0          64-bit\n8         0.0          32-bit\n9         1.0          64-bit\n10        1.0          64-bit\n11        0.0          32-bit\n12        1.0          64-bit\n13        0.0          32-bit\n14        1.0          64-bit\n15        1.0          32-bit\n16        1.0          64-bit\n17        1.0          64-bit\n18        0.0          32-bit\n19        0.0  Itanium 64-bit\n20        0.5          32-bit\n21        1.0          64-bit\n22        1.0          64-bit\n23        1.0          64-bit\n24        1.0             NaN\n25        1.0          64-bit\n26        1.0          64-bit\n27        1.0          64-bit\n28        0.0          32-bit\n29        0.0          32-bit\n30        1.0          64-bit\n31        1.0          64-bit",
      "text/html": "<div>\n<style scoped>\n    .dataframe tbody tr th:only-of-type {\n        vertical-align: middle;\n    }\n\n    .dataframe tbody tr th {\n        vertical-align: top;\n    }\n\n    .dataframe thead th {\n        text-align: right;\n    }\n</style>\n<table border=\"1\" class=\"dataframe\">\n  <thead>\n    <tr style=\"text-align: right;\">\n      <th></th>\n      <th>Intel_64_</th>\n      <th>Instruction_Set</th>\n    </tr>\n  </thead>\n  <tbody>\n    <tr>\n      <th>2</th>\n      <td>1.0</td>\n      <td>64-bit</td>\n    </tr>\n    <tr>\n      <th>3</th>\n      <td>0.0</td>\n      <td>32-bit</td>\n    </tr>\n    <tr>\n      <th>4</th>\n      <td>1.0</td>\n      <td>64-bit</td>\n    </tr>\n    <tr>\n      <th>5</th>\n      <td>1.0</td>\n      <td>64-bit</td>\n    </tr>\n    <tr>\n      <th>6</th>\n      <td>1.0</td>\n      <td>64-bit</td>\n    </tr>\n    <tr>\n      <th>7</th>\n      <td>1.0</td>\n      <td>64-bit</td>\n    </tr>\n    <tr>\n      <th>8</th>\n      <td>0.0</td>\n      <td>32-bit</td>\n    </tr>\n    <tr>\n      <th>9</th>\n      <td>1.0</td>\n      <td>64-bit</td>\n    </tr>\n    <tr>\n      <th>10</th>\n      <td>1.0</td>\n      <td>64-bit</td>\n    </tr>\n    <tr>\n      <th>11</th>\n      <td>0.0</td>\n      <td>32-bit</td>\n    </tr>\n    <tr>\n      <th>12</th>\n      <td>1.0</td>\n      <td>64-bit</td>\n    </tr>\n    <tr>\n      <th>13</th>\n      <td>0.0</td>\n      <td>32-bit</td>\n    </tr>\n    <tr>\n      <th>14</th>\n      <td>1.0</td>\n      <td>64-bit</td>\n    </tr>\n    <tr>\n      <th>15</th>\n      <td>1.0</td>\n      <td>32-bit</td>\n    </tr>\n    <tr>\n      <th>16</th>\n      <td>1.0</td>\n      <td>64-bit</td>\n    </tr>\n    <tr>\n      <th>17</th>\n      <td>1.0</td>\n      <td>64-bit</td>\n    </tr>\n    <tr>\n      <th>18</th>\n      <td>0.0</td>\n      <td>32-bit</td>\n    </tr>\n    <tr>\n      <th>19</th>\n      <td>0.0</td>\n      <td>Itanium 64-bit</td>\n    </tr>\n    <tr>\n      <th>20</th>\n      <td>0.5</td>\n      <td>32-bit</td>\n    </tr>\n    <tr>\n      <th>21</th>\n      <td>1.0</td>\n      <td>64-bit</td>\n    </tr>\n    <tr>\n      <th>22</th>\n      <td>1.0</td>\n      <td>64-bit</td>\n    </tr>\n    <tr>\n      <th>23</th>\n      <td>1.0</td>\n      <td>64-bit</td>\n    </tr>\n    <tr>\n      <th>24</th>\n      <td>1.0</td>\n      <td>NaN</td>\n    </tr>\n    <tr>\n      <th>25</th>\n      <td>1.0</td>\n      <td>64-bit</td>\n    </tr>\n    <tr>\n      <th>26</th>\n      <td>1.0</td>\n      <td>64-bit</td>\n    </tr>\n    <tr>\n      <th>27</th>\n      <td>1.0</td>\n      <td>64-bit</td>\n    </tr>\n    <tr>\n      <th>28</th>\n      <td>0.0</td>\n      <td>32-bit</td>\n    </tr>\n    <tr>\n      <th>29</th>\n      <td>0.0</td>\n      <td>32-bit</td>\n    </tr>\n    <tr>\n      <th>30</th>\n      <td>1.0</td>\n      <td>64-bit</td>\n    </tr>\n    <tr>\n      <th>31</th>\n      <td>1.0</td>\n      <td>64-bit</td>\n    </tr>\n  </tbody>\n</table>\n</div>"
     },
     "execution_count": 503,
     "metadata": {},
     "output_type": "execute_result"
    }
   ],
   "source": [
    "train[['Intel_64_', 'Instruction_Set']].head(30)"
   ],
   "metadata": {
    "collapsed": false,
    "ExecuteTime": {
     "end_time": "2024-04-18T12:02:45.300592Z",
     "start_time": "2024-04-18T12:02:45.283704Z"
    }
   },
   "id": "976c88187c07b86d",
   "execution_count": 503
  },
  {
   "cell_type": "code",
   "outputs": [
    {
     "data": {
      "text/plain": "array(['64-bit', '32-bit', 'Itanium 64-bit', nan], dtype=object)"
     },
     "execution_count": 504,
     "metadata": {},
     "output_type": "execute_result"
    }
   ],
   "source": [
    "train['Instruction_Set'].unique()"
   ],
   "metadata": {
    "collapsed": false,
    "ExecuteTime": {
     "end_time": "2024-04-18T12:02:45.408762Z",
     "start_time": "2024-04-18T12:02:45.394211Z"
    }
   },
   "id": "795a747cdb73c6e",
   "execution_count": 504
  },
  {
   "cell_type": "code",
   "outputs": [],
   "source": [
    "train['Instruction_Set'] = train['Instruction_Set'].apply(lambda x: 1 if '64' in str(x) else 0 if '32' in str(x) else pd.NA)"
   ],
   "metadata": {
    "collapsed": false,
    "ExecuteTime": {
     "end_time": "2024-04-18T12:02:45.486900Z",
     "start_time": "2024-04-18T12:02:45.472762Z"
    }
   },
   "id": "bfa6da8bd77db6b6",
   "execution_count": 505
  },
  {
   "cell_type": "code",
   "outputs": [
    {
     "data": {
      "text/plain": "array([1, 0, <NA>], dtype=object)"
     },
     "execution_count": 506,
     "metadata": {},
     "output_type": "execute_result"
    }
   ],
   "source": [
    "train['Instruction_Set'].unique()"
   ],
   "metadata": {
    "collapsed": false,
    "ExecuteTime": {
     "end_time": "2024-04-18T12:02:45.610509Z",
     "start_time": "2024-04-18T12:02:45.602633Z"
    }
   },
   "id": "ac720556cfbd2fe",
   "execution_count": 506
  },
  {
   "cell_type": "code",
   "outputs": [],
   "source": [
    "train['Instruction_Set'].fillna(train['Instruction_Set'].mode()[0], inplace=True)"
   ],
   "metadata": {
    "collapsed": false,
    "ExecuteTime": {
     "end_time": "2024-04-18T12:02:45.776023Z",
     "start_time": "2024-04-18T12:02:45.761258Z"
    }
   },
   "id": "6dd8d6a65b80f166",
   "execution_count": 507
  },
  {
   "cell_type": "code",
   "outputs": [
    {
     "data": {
      "text/plain": "array([2.        , 0.        , 1.        , 0.5       , 0.66666667,\n       0.33333333, 1.5       , 0.25      , 1.75      , 0.33333333,\n       0.66666667, 1.33333333, 1.33333333])"
     },
     "execution_count": 508,
     "metadata": {},
     "output_type": "execute_result"
    }
   ],
   "source": [
    "train['Instruction_Set'] = train['Instruction_Set'] + train['Intel_64_']\n",
    "train['Instruction_Set'].unique()"
   ],
   "metadata": {
    "collapsed": false,
    "ExecuteTime": {
     "end_time": "2024-04-18T12:02:45.812734Z",
     "start_time": "2024-04-18T12:02:45.804741Z"
    }
   },
   "id": "4a901a17b0ffc3ca",
   "execution_count": 508
  },
  {
   "cell_type": "code",
   "outputs": [
    {
     "data": {
      "text/plain": "array([1.        , 0.        , 0.5       , 0.25      , 0.33333333,\n       0.16666667, 0.75      , 0.125     , 0.875     , 0.16666667,\n       0.33333333, 0.66666667, 0.66666667])"
     },
     "execution_count": 509,
     "metadata": {},
     "output_type": "execute_result"
    }
   ],
   "source": [
    "from sklearn.preprocessing import MinMaxScaler\n",
    "scaler = MinMaxScaler()\n",
    "train['Instruction_Set'] = scaler.fit_transform(train[['Instruction_Set']])\n",
    "train['Instruction_Set'].unique()"
   ],
   "metadata": {
    "collapsed": false,
    "ExecuteTime": {
     "end_time": "2024-04-18T12:02:45.905834Z",
     "start_time": "2024-04-18T12:02:45.884817Z"
    }
   },
   "id": "391d54630e582dea",
   "execution_count": 509
  },
  {
   "cell_type": "code",
   "outputs": [
    {
     "data": {
      "text/plain": "                   Product_Collection  Status  Lithography  \\\n2  Intel® Pentium® Processor D Series       1            1   \n3    Legacy Intel® Celeron® Processor       0            2   \n4  Intel® Celeron® Processor G Series       1            1   \n5    Intel® Xeon® Processor E5 Family       1            6   \n6      Legacy Intel® Core™ Processors       0            6   \n\n   Recommended_Customer_Price  nb_of_Cores  nb_of_Threads  \\\n2                       129.0            2              4   \n3                        85.5            1              3   \n4                        42.0            2              2   \n5                       692.0            6             12   \n6                       577.0            2              4   \n\n   Processor_Base_Frequency   TDP  Embedded_Options_Available  Conflict_Free  \\\n2                      2.20  25.0                         1.0            1.0   \n3                      0.85  25.7                         1.0            1.0   \n4                      2.90  51.0                         0.0            1.0   \n5                      1.80  60.0                         1.0            1.0   \n6                      3.10  65.0                         0.0            1.0   \n\n   ...  Intel_Hyper_Threading_Technology_  \\\n2  ...                                1.0   \n3  ...                                0.0   \n4  ...                                0.0   \n5  ...                                1.0   \n6  ...                                1.0   \n\n  Intel_Virtualization_Technology_VTx_  Instruction_Set  \\\n2                                  1.0              1.0   \n3                                  0.0              0.0   \n4                                  1.0              1.0   \n5                                  1.0              1.0   \n6                                  1.0              1.0   \n\n   Instruction_Set_Extensions  Idle_States  Thermal_Monitoring_Technologies  \\\n2                     AVX 2.0          1.0                              1.0   \n3                         NaN          0.0                              1.0   \n4                  SSE4.1/4.2          1.0                              1.0   \n5                         Yes          1.0                              1.0   \n6             SSE4.1/4.2, AVX          1.0                              1.0   \n\n   Execute_Disable_Bit  Cache_Size  Cache_Type  Bus_Type  \n2                  1.0       3.000          L3       FSB  \n3                  0.0       0.128          L2       FSB  \n4                  1.0       2.000          L3      DMI3  \n5                  1.0      15.000  SmartCache       QPI  \n6                  1.0       3.000  SmartCache       DMI  \n\n[5 rows x 28 columns]",
      "text/html": "<div>\n<style scoped>\n    .dataframe tbody tr th:only-of-type {\n        vertical-align: middle;\n    }\n\n    .dataframe tbody tr th {\n        vertical-align: top;\n    }\n\n    .dataframe thead th {\n        text-align: right;\n    }\n</style>\n<table border=\"1\" class=\"dataframe\">\n  <thead>\n    <tr style=\"text-align: right;\">\n      <th></th>\n      <th>Product_Collection</th>\n      <th>Status</th>\n      <th>Lithography</th>\n      <th>Recommended_Customer_Price</th>\n      <th>nb_of_Cores</th>\n      <th>nb_of_Threads</th>\n      <th>Processor_Base_Frequency</th>\n      <th>TDP</th>\n      <th>Embedded_Options_Available</th>\n      <th>Conflict_Free</th>\n      <th>...</th>\n      <th>Intel_Hyper_Threading_Technology_</th>\n      <th>Intel_Virtualization_Technology_VTx_</th>\n      <th>Instruction_Set</th>\n      <th>Instruction_Set_Extensions</th>\n      <th>Idle_States</th>\n      <th>Thermal_Monitoring_Technologies</th>\n      <th>Execute_Disable_Bit</th>\n      <th>Cache_Size</th>\n      <th>Cache_Type</th>\n      <th>Bus_Type</th>\n    </tr>\n  </thead>\n  <tbody>\n    <tr>\n      <th>2</th>\n      <td>Intel® Pentium® Processor D Series</td>\n      <td>1</td>\n      <td>1</td>\n      <td>129.0</td>\n      <td>2</td>\n      <td>4</td>\n      <td>2.20</td>\n      <td>25.0</td>\n      <td>1.0</td>\n      <td>1.0</td>\n      <td>...</td>\n      <td>1.0</td>\n      <td>1.0</td>\n      <td>1.0</td>\n      <td>AVX 2.0</td>\n      <td>1.0</td>\n      <td>1.0</td>\n      <td>1.0</td>\n      <td>3.000</td>\n      <td>L3</td>\n      <td>FSB</td>\n    </tr>\n    <tr>\n      <th>3</th>\n      <td>Legacy Intel® Celeron® Processor</td>\n      <td>0</td>\n      <td>2</td>\n      <td>85.5</td>\n      <td>1</td>\n      <td>3</td>\n      <td>0.85</td>\n      <td>25.7</td>\n      <td>1.0</td>\n      <td>1.0</td>\n      <td>...</td>\n      <td>0.0</td>\n      <td>0.0</td>\n      <td>0.0</td>\n      <td>NaN</td>\n      <td>0.0</td>\n      <td>1.0</td>\n      <td>0.0</td>\n      <td>0.128</td>\n      <td>L2</td>\n      <td>FSB</td>\n    </tr>\n    <tr>\n      <th>4</th>\n      <td>Intel® Celeron® Processor G Series</td>\n      <td>1</td>\n      <td>1</td>\n      <td>42.0</td>\n      <td>2</td>\n      <td>2</td>\n      <td>2.90</td>\n      <td>51.0</td>\n      <td>0.0</td>\n      <td>1.0</td>\n      <td>...</td>\n      <td>0.0</td>\n      <td>1.0</td>\n      <td>1.0</td>\n      <td>SSE4.1/4.2</td>\n      <td>1.0</td>\n      <td>1.0</td>\n      <td>1.0</td>\n      <td>2.000</td>\n      <td>L3</td>\n      <td>DMI3</td>\n    </tr>\n    <tr>\n      <th>5</th>\n      <td>Intel® Xeon® Processor E5 Family</td>\n      <td>1</td>\n      <td>6</td>\n      <td>692.0</td>\n      <td>6</td>\n      <td>12</td>\n      <td>1.80</td>\n      <td>60.0</td>\n      <td>1.0</td>\n      <td>1.0</td>\n      <td>...</td>\n      <td>1.0</td>\n      <td>1.0</td>\n      <td>1.0</td>\n      <td>Yes</td>\n      <td>1.0</td>\n      <td>1.0</td>\n      <td>1.0</td>\n      <td>15.000</td>\n      <td>SmartCache</td>\n      <td>QPI</td>\n    </tr>\n    <tr>\n      <th>6</th>\n      <td>Legacy Intel® Core™ Processors</td>\n      <td>0</td>\n      <td>6</td>\n      <td>577.0</td>\n      <td>2</td>\n      <td>4</td>\n      <td>3.10</td>\n      <td>65.0</td>\n      <td>0.0</td>\n      <td>1.0</td>\n      <td>...</td>\n      <td>1.0</td>\n      <td>1.0</td>\n      <td>1.0</td>\n      <td>SSE4.1/4.2, AVX</td>\n      <td>1.0</td>\n      <td>1.0</td>\n      <td>1.0</td>\n      <td>3.000</td>\n      <td>SmartCache</td>\n      <td>DMI</td>\n    </tr>\n  </tbody>\n</table>\n<p>5 rows × 28 columns</p>\n</div>"
     },
     "execution_count": 510,
     "metadata": {},
     "output_type": "execute_result"
    }
   ],
   "source": [
    "train = train.drop('Intel_64_', axis=1)\n",
    "train.head()"
   ],
   "metadata": {
    "collapsed": false,
    "ExecuteTime": {
     "end_time": "2024-04-18T12:02:45.982534Z",
     "start_time": "2024-04-18T12:02:45.952879Z"
    }
   },
   "id": "ac9dde9c979557c6",
   "execution_count": 510
  },
  {
   "cell_type": "code",
   "outputs": [
    {
     "data": {
      "text/plain": "array(['AVX 2.0', nan, 'SSE4.1/4.2', 'Yes', 'SSE4.1/4.2, AVX', 'SSE4.x',\n       'AVX', 'Intel® SSE4.2, Intel® AVX, Intel® AVX2, Intel® AVX-512',\n       'SSE4.2, AVX 2.0, AES', 'SSE2, SSE3, SSSE3', 'SSE4.1/4.2, AVX 2.0',\n       'Intel(R) AVX-512', 'SSE4.2', 'SSE 4.1/4.2 AVX 2.0',\n       'SSE, SSE2, SSE3, SSSE3, MMX', 'SSE4.2, AVX, AES',\n       'SSE4.1/4.2, AVX 2.0, AVX-512', 'IMCI', 'AVX, SSE4.1, SSE4.2',\n       'YES', 'SSE4.1/4.2 AVX 2.0', 'AVX, AES-NI', 'SSE4.1/4.2, AV2.0',\n       'SSE, SSE2, SSE3', 'SSE2, SSE3, SSSE4'], dtype=object)"
     },
     "execution_count": 511,
     "metadata": {},
     "output_type": "execute_result"
    }
   ],
   "source": [
    "train['Instruction_Set_Extensions'].unique()"
   ],
   "metadata": {
    "collapsed": false,
    "ExecuteTime": {
     "end_time": "2024-04-18T12:02:46.045798Z",
     "start_time": "2024-04-18T12:02:46.032028Z"
    }
   },
   "id": "dc08de3f389fe2c3",
   "execution_count": 511
  },
  {
   "cell_type": "code",
   "outputs": [
    {
     "data": {
      "text/plain": "                   Product_Collection  Status  Lithography  \\\n2  Intel® Pentium® Processor D Series       1            1   \n3    Legacy Intel® Celeron® Processor       0            2   \n4  Intel® Celeron® Processor G Series       1            1   \n5    Intel® Xeon® Processor E5 Family       1            6   \n6      Legacy Intel® Core™ Processors       0            6   \n\n   Recommended_Customer_Price  nb_of_Cores  nb_of_Threads  \\\n2                       129.0            2              4   \n3                        85.5            1              3   \n4                        42.0            2              2   \n5                       692.0            6             12   \n6                       577.0            2              4   \n\n   Processor_Base_Frequency   TDP  Embedded_Options_Available  Conflict_Free  \\\n2                      2.20  25.0                         1.0            1.0   \n3                      0.85  25.7                         1.0            1.0   \n4                      2.90  51.0                         0.0            1.0   \n5                      1.80  60.0                         1.0            1.0   \n6                      3.10  65.0                         0.0            1.0   \n\n   ...  SSE SSE2  SSE3  SSSE3  SSE4  AVX  MMX  AES  IMCI  AV2  \n2  ...    0    0     0      0     0    1    0    0     0    0  \n3  ...    0    0     0      0     0    0    0    0     0    0  \n4  ...    1    0     0      0     1    0    0    0     0    0  \n5  ...    0    0     0      0     0    0    0    0     0    0  \n6  ...    1    0     0      0     1    1    0    0     0    0  \n\n[5 rows x 38 columns]",
      "text/html": "<div>\n<style scoped>\n    .dataframe tbody tr th:only-of-type {\n        vertical-align: middle;\n    }\n\n    .dataframe tbody tr th {\n        vertical-align: top;\n    }\n\n    .dataframe thead th {\n        text-align: right;\n    }\n</style>\n<table border=\"1\" class=\"dataframe\">\n  <thead>\n    <tr style=\"text-align: right;\">\n      <th></th>\n      <th>Product_Collection</th>\n      <th>Status</th>\n      <th>Lithography</th>\n      <th>Recommended_Customer_Price</th>\n      <th>nb_of_Cores</th>\n      <th>nb_of_Threads</th>\n      <th>Processor_Base_Frequency</th>\n      <th>TDP</th>\n      <th>Embedded_Options_Available</th>\n      <th>Conflict_Free</th>\n      <th>...</th>\n      <th>SSE</th>\n      <th>SSE2</th>\n      <th>SSE3</th>\n      <th>SSSE3</th>\n      <th>SSE4</th>\n      <th>AVX</th>\n      <th>MMX</th>\n      <th>AES</th>\n      <th>IMCI</th>\n      <th>AV2</th>\n    </tr>\n  </thead>\n  <tbody>\n    <tr>\n      <th>2</th>\n      <td>Intel® Pentium® Processor D Series</td>\n      <td>1</td>\n      <td>1</td>\n      <td>129.0</td>\n      <td>2</td>\n      <td>4</td>\n      <td>2.20</td>\n      <td>25.0</td>\n      <td>1.0</td>\n      <td>1.0</td>\n      <td>...</td>\n      <td>0</td>\n      <td>0</td>\n      <td>0</td>\n      <td>0</td>\n      <td>0</td>\n      <td>1</td>\n      <td>0</td>\n      <td>0</td>\n      <td>0</td>\n      <td>0</td>\n    </tr>\n    <tr>\n      <th>3</th>\n      <td>Legacy Intel® Celeron® Processor</td>\n      <td>0</td>\n      <td>2</td>\n      <td>85.5</td>\n      <td>1</td>\n      <td>3</td>\n      <td>0.85</td>\n      <td>25.7</td>\n      <td>1.0</td>\n      <td>1.0</td>\n      <td>...</td>\n      <td>0</td>\n      <td>0</td>\n      <td>0</td>\n      <td>0</td>\n      <td>0</td>\n      <td>0</td>\n      <td>0</td>\n      <td>0</td>\n      <td>0</td>\n      <td>0</td>\n    </tr>\n    <tr>\n      <th>4</th>\n      <td>Intel® Celeron® Processor G Series</td>\n      <td>1</td>\n      <td>1</td>\n      <td>42.0</td>\n      <td>2</td>\n      <td>2</td>\n      <td>2.90</td>\n      <td>51.0</td>\n      <td>0.0</td>\n      <td>1.0</td>\n      <td>...</td>\n      <td>1</td>\n      <td>0</td>\n      <td>0</td>\n      <td>0</td>\n      <td>1</td>\n      <td>0</td>\n      <td>0</td>\n      <td>0</td>\n      <td>0</td>\n      <td>0</td>\n    </tr>\n    <tr>\n      <th>5</th>\n      <td>Intel® Xeon® Processor E5 Family</td>\n      <td>1</td>\n      <td>6</td>\n      <td>692.0</td>\n      <td>6</td>\n      <td>12</td>\n      <td>1.80</td>\n      <td>60.0</td>\n      <td>1.0</td>\n      <td>1.0</td>\n      <td>...</td>\n      <td>0</td>\n      <td>0</td>\n      <td>0</td>\n      <td>0</td>\n      <td>0</td>\n      <td>0</td>\n      <td>0</td>\n      <td>0</td>\n      <td>0</td>\n      <td>0</td>\n    </tr>\n    <tr>\n      <th>6</th>\n      <td>Legacy Intel® Core™ Processors</td>\n      <td>0</td>\n      <td>6</td>\n      <td>577.0</td>\n      <td>2</td>\n      <td>4</td>\n      <td>3.10</td>\n      <td>65.0</td>\n      <td>0.0</td>\n      <td>1.0</td>\n      <td>...</td>\n      <td>1</td>\n      <td>0</td>\n      <td>0</td>\n      <td>0</td>\n      <td>1</td>\n      <td>1</td>\n      <td>0</td>\n      <td>0</td>\n      <td>0</td>\n      <td>0</td>\n    </tr>\n  </tbody>\n</table>\n<p>5 rows × 38 columns</p>\n</div>"
     },
     "execution_count": 512,
     "metadata": {},
     "output_type": "execute_result"
    }
   ],
   "source": [
    "instruction_extensions = ['SSE', 'SSE2', 'SSE3', 'SSSE3', 'SSE4', 'AVX', 'MMX', 'AES', 'IMCI', 'AV2']\n",
    "for extension in instruction_extensions:\n",
    "    train[extension] = train['Instruction_Set_Extensions'].apply(lambda x: 1 if extension in str(x) else 0)\n",
    "train.head()"
   ],
   "metadata": {
    "collapsed": false,
    "ExecuteTime": {
     "end_time": "2024-04-18T12:02:46.171191Z",
     "start_time": "2024-04-18T12:02:46.128505Z"
    }
   },
   "id": "b2c5672d9f094111",
   "execution_count": 512
  },
  {
   "cell_type": "code",
   "outputs": [
    {
     "data": {
      "text/plain": "                   Product_Collection  Status  Lithography  \\\n2  Intel® Pentium® Processor D Series       1            1   \n3    Legacy Intel® Celeron® Processor       0            2   \n4  Intel® Celeron® Processor G Series       1            1   \n5    Intel® Xeon® Processor E5 Family       1            6   \n6      Legacy Intel® Core™ Processors       0            6   \n\n   Recommended_Customer_Price  nb_of_Cores  nb_of_Threads  \\\n2                       129.0            2              4   \n3                        85.5            1              3   \n4                        42.0            2              2   \n5                       692.0            6             12   \n6                       577.0            2              4   \n\n   Processor_Base_Frequency   TDP  Embedded_Options_Available  Conflict_Free  \\\n2                      2.20  25.0                         1.0            1.0   \n3                      0.85  25.7                         1.0            1.0   \n4                      2.90  51.0                         0.0            1.0   \n5                      1.80  60.0                         1.0            1.0   \n6                      3.10  65.0                         0.0            1.0   \n\n   ...  SSE SSE2  SSE3  SSSE3  SSE4  AVX  MMX  AES  IMCI  AV2  \n2  ...    0    0     0      0     0    1    0    0     0    0  \n3  ...    0    0     0      0     0    0    0    0     0    0  \n4  ...    1    0     0      0     1    0    0    0     0    0  \n5  ...    0    0     0      0     0    0    0    0     0    0  \n6  ...    1    0     0      0     1    1    0    0     0    0  \n\n[5 rows x 37 columns]",
      "text/html": "<div>\n<style scoped>\n    .dataframe tbody tr th:only-of-type {\n        vertical-align: middle;\n    }\n\n    .dataframe tbody tr th {\n        vertical-align: top;\n    }\n\n    .dataframe thead th {\n        text-align: right;\n    }\n</style>\n<table border=\"1\" class=\"dataframe\">\n  <thead>\n    <tr style=\"text-align: right;\">\n      <th></th>\n      <th>Product_Collection</th>\n      <th>Status</th>\n      <th>Lithography</th>\n      <th>Recommended_Customer_Price</th>\n      <th>nb_of_Cores</th>\n      <th>nb_of_Threads</th>\n      <th>Processor_Base_Frequency</th>\n      <th>TDP</th>\n      <th>Embedded_Options_Available</th>\n      <th>Conflict_Free</th>\n      <th>...</th>\n      <th>SSE</th>\n      <th>SSE2</th>\n      <th>SSE3</th>\n      <th>SSSE3</th>\n      <th>SSE4</th>\n      <th>AVX</th>\n      <th>MMX</th>\n      <th>AES</th>\n      <th>IMCI</th>\n      <th>AV2</th>\n    </tr>\n  </thead>\n  <tbody>\n    <tr>\n      <th>2</th>\n      <td>Intel® Pentium® Processor D Series</td>\n      <td>1</td>\n      <td>1</td>\n      <td>129.0</td>\n      <td>2</td>\n      <td>4</td>\n      <td>2.20</td>\n      <td>25.0</td>\n      <td>1.0</td>\n      <td>1.0</td>\n      <td>...</td>\n      <td>0</td>\n      <td>0</td>\n      <td>0</td>\n      <td>0</td>\n      <td>0</td>\n      <td>1</td>\n      <td>0</td>\n      <td>0</td>\n      <td>0</td>\n      <td>0</td>\n    </tr>\n    <tr>\n      <th>3</th>\n      <td>Legacy Intel® Celeron® Processor</td>\n      <td>0</td>\n      <td>2</td>\n      <td>85.5</td>\n      <td>1</td>\n      <td>3</td>\n      <td>0.85</td>\n      <td>25.7</td>\n      <td>1.0</td>\n      <td>1.0</td>\n      <td>...</td>\n      <td>0</td>\n      <td>0</td>\n      <td>0</td>\n      <td>0</td>\n      <td>0</td>\n      <td>0</td>\n      <td>0</td>\n      <td>0</td>\n      <td>0</td>\n      <td>0</td>\n    </tr>\n    <tr>\n      <th>4</th>\n      <td>Intel® Celeron® Processor G Series</td>\n      <td>1</td>\n      <td>1</td>\n      <td>42.0</td>\n      <td>2</td>\n      <td>2</td>\n      <td>2.90</td>\n      <td>51.0</td>\n      <td>0.0</td>\n      <td>1.0</td>\n      <td>...</td>\n      <td>1</td>\n      <td>0</td>\n      <td>0</td>\n      <td>0</td>\n      <td>1</td>\n      <td>0</td>\n      <td>0</td>\n      <td>0</td>\n      <td>0</td>\n      <td>0</td>\n    </tr>\n    <tr>\n      <th>5</th>\n      <td>Intel® Xeon® Processor E5 Family</td>\n      <td>1</td>\n      <td>6</td>\n      <td>692.0</td>\n      <td>6</td>\n      <td>12</td>\n      <td>1.80</td>\n      <td>60.0</td>\n      <td>1.0</td>\n      <td>1.0</td>\n      <td>...</td>\n      <td>0</td>\n      <td>0</td>\n      <td>0</td>\n      <td>0</td>\n      <td>0</td>\n      <td>0</td>\n      <td>0</td>\n      <td>0</td>\n      <td>0</td>\n      <td>0</td>\n    </tr>\n    <tr>\n      <th>6</th>\n      <td>Legacy Intel® Core™ Processors</td>\n      <td>0</td>\n      <td>6</td>\n      <td>577.0</td>\n      <td>2</td>\n      <td>4</td>\n      <td>3.10</td>\n      <td>65.0</td>\n      <td>0.0</td>\n      <td>1.0</td>\n      <td>...</td>\n      <td>1</td>\n      <td>0</td>\n      <td>0</td>\n      <td>0</td>\n      <td>1</td>\n      <td>1</td>\n      <td>0</td>\n      <td>0</td>\n      <td>0</td>\n      <td>0</td>\n    </tr>\n  </tbody>\n</table>\n<p>5 rows × 37 columns</p>\n</div>"
     },
     "execution_count": 513,
     "metadata": {},
     "output_type": "execute_result"
    }
   ],
   "source": [
    "train = train.drop('Instruction_Set_Extensions', axis=1)\n",
    "train.head()"
   ],
   "metadata": {
    "collapsed": false,
    "ExecuteTime": {
     "end_time": "2024-04-18T12:02:46.217954Z",
     "start_time": "2024-04-18T12:02:46.195612Z"
    }
   },
   "id": "c10121a1f0642556",
   "execution_count": 513
  },
  {
   "cell_type": "code",
   "outputs": [
    {
     "data": {
      "text/plain": "array(['DDR4, DDR3', nan, 'DDR4 2133, DDR3L 1333/1600 @ 1.35V',\n       'DDR3 800/1066/1333', 'DDR3 1066/1333', 'DDR3 800',\n       'DDR3 800/1066/1333/1600/1866', 'DDR2 800', 'DDR3 1333',\n       'DDR4-2666', 'DDR4 1333/1600/2133',\n       'DDR4-2400, LPDDR3-2133, DDR3L-1600',\n       'DDR3-1333, DDR3L-1333 @ 1.5V',\n       'DDR4-1866/2133, DDR3L-1333/1600 @ 1.35V',\n       'DDR3-1333/1600, DDR3L-1333/1600 @ 1.5V', 'DDR3 1333/1600',\n       'DDR3 1066', 'DDR3L 1333/1600 LPDDR3 1333/1600',\n       'DDR4-2133, LPDDR3-1866, DDR3L-1600', 'DDR3 800/1066/1333/1600',\n       'DDR3L 1333/1600', 'LPDDR3 1333', 'DDR3/L/-RS 1333/1600',\n       'DDR3L 1333/1600, LPDDR3 1333/1600', 'DDR4 1600/1866/2133/2400',\n       'DDR3 800/1066', 'DDR4-2400', 'DDR3/DDR3L 1600',\n       'DDR4-1333/1600/1866   DDR3-1066/1333/1600',\n       'DDR3 and DDR3L 1333/1600 at 1.5V', 'DDR3L-1600', 'DDR4',\n       'DDR4: 2400', 'DDR3/DDR3L 1333/1600', 'LPDDR3 1066',\n       'DDR4-2133, LPDDR3 - 1866, DDR3L-1600',\n       'DDR3L 1333/1600  LPDDR 1333 /1600', 'DDR3L-RS 1333',\n       'DDR4-2400, DDR3L-1866', 'DDR3 1066/1333/1600',\n       'DDR3 1333/1600/1866', 'DDR4-2133/2400, DDR3L-1333/1600 @ 1.35V',\n       'DDR3L/LPDDR3 up to 1866 MT/s; LPDDR4 up to 2400 MT/s',\n       'DDR3/DDR3L 1333', 'DDR3L 1067', 'DDR4 1600/1866/2133',\n       'DDR3L 1333', 'DDR4 2400/2133', 'DDR3L 1066',\n       'DDR3 800/978/1066/1333 (Max Speed 1066 MHz)',\n       'DDR4-1333/1600/1866\\r\\nDDR3-1066/1333/1600', 'LPDDR3 1600',\n       'DDR4-1333/1600/1866,\\r\\nDDR3-1066/1333',\n       'LPDDR3-1866, DDR3L-1600', 'DDR3L-1333/1600/1866 @ 1.5V',\n       'DDR3L (ECC and Non ECC) up to 1866MT/s; ,LPDDR4 up to 2400 MT/s',\n       'DDR4-2400, LPDDR3-2133', 'DDR3L-RS 1600', 'DDR3L-1600, DDR4-2400',\n       'DDR4 1600/1866/2133/2400/2666', 'DDR3/DDR3L 1066/1333/1600',\n       'DDR4 1600/1866', 'LPDDR3 1333/1600; DDR3L/DDR3L-RS 1600',\n       'DDR3L 1600', 'DDR4: 1866',\n       'DDR3 800/978/1066/1333 (Max Speed 800 MHz)',\n       'DDR3L-1333/1600 @ 1.5V', 'LPDDR2 800', 'DDR4 1600',\n       'DDR3L 1333/1600, LPDDR3 1600/1866', 'DDR4-2133, DDR3L-1600',\n       '1x32 LPDDR2 800', 'DDR3L,LPDDR3 1600MHz, DDR4 2133MHz at 1.2V',\n       'DDR4-2133', 'DDR3L 1600/1866 LPDDR3 1600/1866',\n       '1x32 LPDDR2/3 1066', 'DDR4: 2133', 'DDR2 667/800', 'DDR2 667',\n       'DDR4-1333/1600/1866   DDR3-1066/1333',\n       'DDR3L-1333, 1600;\\r\\nLPDDR3-1333, 1600',\n       'DDR3 and DDR3L 1333/1600/1866 at 1.5V',\n       'DDR3 800 (SODIMM only); DDR2 667/800', 'DDR 1333',\n       'DDR4 1333/1600/1866/2133', 'DDR3/DDR3L 1066/1333',\n       'DDR4-1866/2133, LPDDR3-1600/1866, DDR3L-1333/1600',\n       'DDR3/DDR3L 1067/1333/1600', 'DDR3',\n       'DDR3L/LPDDR3 up to 1866 MT/s; ,LPDDR4 up to 2400 MT/s',\n       'LPDDR2 1066', 'DDR3 1067/1333/1600, DDR3L 1333/1600',\n       'DDR4-1333/1600/1866 DDR3-1066/1333/1600'], dtype=object)"
     },
     "execution_count": 514,
     "metadata": {},
     "output_type": "execute_result"
    }
   ],
   "source": [
    "train['Memory_Types'].unique()"
   ],
   "metadata": {
    "collapsed": false,
    "ExecuteTime": {
     "end_time": "2024-04-18T12:02:46.359774Z",
     "start_time": "2024-04-18T12:02:46.346073Z"
    }
   },
   "id": "c6aebc004673a5da",
   "execution_count": 514
  },
  {
   "cell_type": "code",
   "outputs": [],
   "source": [
    "memory_types = ['DDR4', 'DDR3', 'DDR3L', 'DDR2', 'LPDDR3']"
   ],
   "metadata": {
    "collapsed": false,
    "ExecuteTime": {
     "end_time": "2024-04-18T12:02:46.484345Z",
     "start_time": "2024-04-18T12:02:46.473146Z"
    }
   },
   "id": "2cef49b103759d66",
   "execution_count": 515
  },
  {
   "cell_type": "code",
   "outputs": [],
   "source": [
    "for memory_type in memory_types:\n",
    "    train[memory_type] = train['Memory_Types'].apply(lambda x: 1 if memory_type in str(x) else 0)"
   ],
   "metadata": {
    "collapsed": false,
    "ExecuteTime": {
     "end_time": "2024-04-18T12:02:46.577600Z",
     "start_time": "2024-04-18T12:02:46.566425Z"
    }
   },
   "id": "2a9eac6eedb74360",
   "execution_count": 516
  },
  {
   "cell_type": "code",
   "outputs": [
    {
     "data": {
      "text/plain": "                   Product_Collection  Status  Lithography  \\\n2  Intel® Pentium® Processor D Series       1            1   \n3    Legacy Intel® Celeron® Processor       0            2   \n4  Intel® Celeron® Processor G Series       1            1   \n5    Intel® Xeon® Processor E5 Family       1            6   \n6      Legacy Intel® Core™ Processors       0            6   \n\n   Recommended_Customer_Price  nb_of_Cores  nb_of_Threads  \\\n2                       129.0            2              4   \n3                        85.5            1              3   \n4                        42.0            2              2   \n5                       692.0            6             12   \n6                       577.0            2              4   \n\n   Processor_Base_Frequency   TDP  Embedded_Options_Available  Conflict_Free  \\\n2                      2.20  25.0                         1.0            1.0   \n3                      0.85  25.7                         1.0            1.0   \n4                      2.90  51.0                         0.0            1.0   \n5                      1.80  60.0                         1.0            1.0   \n6                      3.10  65.0                         0.0            1.0   \n\n   ...  AVX MMX  AES  IMCI  AV2  DDR4  DDR3  DDR3L  DDR2  LPDDR3  \n2  ...    1   0    0     0    0     1     1      0     0       0  \n3  ...    0   0    0     0    0     0     0      0     0       0  \n4  ...    0   0    0     0    0     1     1      1     0       0  \n5  ...    0   0    0     0    0     0     1      0     0       0  \n6  ...    1   0    0     0    0     0     1      0     0       0  \n\n[5 rows x 42 columns]",
      "text/html": "<div>\n<style scoped>\n    .dataframe tbody tr th:only-of-type {\n        vertical-align: middle;\n    }\n\n    .dataframe tbody tr th {\n        vertical-align: top;\n    }\n\n    .dataframe thead th {\n        text-align: right;\n    }\n</style>\n<table border=\"1\" class=\"dataframe\">\n  <thead>\n    <tr style=\"text-align: right;\">\n      <th></th>\n      <th>Product_Collection</th>\n      <th>Status</th>\n      <th>Lithography</th>\n      <th>Recommended_Customer_Price</th>\n      <th>nb_of_Cores</th>\n      <th>nb_of_Threads</th>\n      <th>Processor_Base_Frequency</th>\n      <th>TDP</th>\n      <th>Embedded_Options_Available</th>\n      <th>Conflict_Free</th>\n      <th>...</th>\n      <th>AVX</th>\n      <th>MMX</th>\n      <th>AES</th>\n      <th>IMCI</th>\n      <th>AV2</th>\n      <th>DDR4</th>\n      <th>DDR3</th>\n      <th>DDR3L</th>\n      <th>DDR2</th>\n      <th>LPDDR3</th>\n    </tr>\n  </thead>\n  <tbody>\n    <tr>\n      <th>2</th>\n      <td>Intel® Pentium® Processor D Series</td>\n      <td>1</td>\n      <td>1</td>\n      <td>129.0</td>\n      <td>2</td>\n      <td>4</td>\n      <td>2.20</td>\n      <td>25.0</td>\n      <td>1.0</td>\n      <td>1.0</td>\n      <td>...</td>\n      <td>1</td>\n      <td>0</td>\n      <td>0</td>\n      <td>0</td>\n      <td>0</td>\n      <td>1</td>\n      <td>1</td>\n      <td>0</td>\n      <td>0</td>\n      <td>0</td>\n    </tr>\n    <tr>\n      <th>3</th>\n      <td>Legacy Intel® Celeron® Processor</td>\n      <td>0</td>\n      <td>2</td>\n      <td>85.5</td>\n      <td>1</td>\n      <td>3</td>\n      <td>0.85</td>\n      <td>25.7</td>\n      <td>1.0</td>\n      <td>1.0</td>\n      <td>...</td>\n      <td>0</td>\n      <td>0</td>\n      <td>0</td>\n      <td>0</td>\n      <td>0</td>\n      <td>0</td>\n      <td>0</td>\n      <td>0</td>\n      <td>0</td>\n      <td>0</td>\n    </tr>\n    <tr>\n      <th>4</th>\n      <td>Intel® Celeron® Processor G Series</td>\n      <td>1</td>\n      <td>1</td>\n      <td>42.0</td>\n      <td>2</td>\n      <td>2</td>\n      <td>2.90</td>\n      <td>51.0</td>\n      <td>0.0</td>\n      <td>1.0</td>\n      <td>...</td>\n      <td>0</td>\n      <td>0</td>\n      <td>0</td>\n      <td>0</td>\n      <td>0</td>\n      <td>1</td>\n      <td>1</td>\n      <td>1</td>\n      <td>0</td>\n      <td>0</td>\n    </tr>\n    <tr>\n      <th>5</th>\n      <td>Intel® Xeon® Processor E5 Family</td>\n      <td>1</td>\n      <td>6</td>\n      <td>692.0</td>\n      <td>6</td>\n      <td>12</td>\n      <td>1.80</td>\n      <td>60.0</td>\n      <td>1.0</td>\n      <td>1.0</td>\n      <td>...</td>\n      <td>0</td>\n      <td>0</td>\n      <td>0</td>\n      <td>0</td>\n      <td>0</td>\n      <td>0</td>\n      <td>1</td>\n      <td>0</td>\n      <td>0</td>\n      <td>0</td>\n    </tr>\n    <tr>\n      <th>6</th>\n      <td>Legacy Intel® Core™ Processors</td>\n      <td>0</td>\n      <td>6</td>\n      <td>577.0</td>\n      <td>2</td>\n      <td>4</td>\n      <td>3.10</td>\n      <td>65.0</td>\n      <td>0.0</td>\n      <td>1.0</td>\n      <td>...</td>\n      <td>1</td>\n      <td>0</td>\n      <td>0</td>\n      <td>0</td>\n      <td>0</td>\n      <td>0</td>\n      <td>1</td>\n      <td>0</td>\n      <td>0</td>\n      <td>0</td>\n    </tr>\n  </tbody>\n</table>\n<p>5 rows × 42 columns</p>\n</div>"
     },
     "execution_count": 517,
     "metadata": {},
     "output_type": "execute_result"
    }
   ],
   "source": [
    "train.head()"
   ],
   "metadata": {
    "collapsed": false,
    "ExecuteTime": {
     "end_time": "2024-04-18T12:02:46.763795Z",
     "start_time": "2024-04-18T12:02:46.735881Z"
    }
   },
   "id": "e32138a5c13ff6a9",
   "execution_count": 517
  },
  {
   "cell_type": "code",
   "outputs": [],
   "source": [
    "train = train.drop('Memory_Types', axis=1)"
   ],
   "metadata": {
    "collapsed": false,
    "ExecuteTime": {
     "end_time": "2024-04-18T12:02:46.966034Z",
     "start_time": "2024-04-18T12:02:46.790773Z"
    }
   },
   "id": "9b9e4b6ccb35f29",
   "execution_count": 518
  },
  {
   "cell_type": "code",
   "outputs": [
    {
     "data": {
      "text/plain": "                   Product_Collection  Status  Lithography  \\\n2  Intel® Pentium® Processor D Series       1            1   \n3    Legacy Intel® Celeron® Processor       0            2   \n4  Intel® Celeron® Processor G Series       1            1   \n5    Intel® Xeon® Processor E5 Family       1            6   \n6      Legacy Intel® Core™ Processors       0            6   \n\n   Recommended_Customer_Price  nb_of_Cores  nb_of_Threads  \\\n2                       129.0            2              4   \n3                        85.5            1              3   \n4                        42.0            2              2   \n5                       692.0            6             12   \n6                       577.0            2              4   \n\n   Processor_Base_Frequency   TDP  Embedded_Options_Available  Conflict_Free  \\\n2                      2.20  25.0                         1.0            1.0   \n3                      0.85  25.7                         1.0            1.0   \n4                      2.90  51.0                         0.0            1.0   \n5                      1.80  60.0                         1.0            1.0   \n6                      3.10  65.0                         0.0            1.0   \n\n   ...  AVX  MMX  AES  IMCI  AV2  DDR4  DDR3  DDR3L  DDR2  LPDDR3  \n2  ...    1    0    0     0    0     1     1      0     0       0  \n3  ...    0    0    0     0    0     0     0      0     0       0  \n4  ...    0    0    0     0    0     1     1      1     0       0  \n5  ...    0    0    0     0    0     0     1      0     0       0  \n6  ...    1    0    0     0    0     0     1      0     0       0  \n\n[5 rows x 41 columns]",
      "text/html": "<div>\n<style scoped>\n    .dataframe tbody tr th:only-of-type {\n        vertical-align: middle;\n    }\n\n    .dataframe tbody tr th {\n        vertical-align: top;\n    }\n\n    .dataframe thead th {\n        text-align: right;\n    }\n</style>\n<table border=\"1\" class=\"dataframe\">\n  <thead>\n    <tr style=\"text-align: right;\">\n      <th></th>\n      <th>Product_Collection</th>\n      <th>Status</th>\n      <th>Lithography</th>\n      <th>Recommended_Customer_Price</th>\n      <th>nb_of_Cores</th>\n      <th>nb_of_Threads</th>\n      <th>Processor_Base_Frequency</th>\n      <th>TDP</th>\n      <th>Embedded_Options_Available</th>\n      <th>Conflict_Free</th>\n      <th>...</th>\n      <th>AVX</th>\n      <th>MMX</th>\n      <th>AES</th>\n      <th>IMCI</th>\n      <th>AV2</th>\n      <th>DDR4</th>\n      <th>DDR3</th>\n      <th>DDR3L</th>\n      <th>DDR2</th>\n      <th>LPDDR3</th>\n    </tr>\n  </thead>\n  <tbody>\n    <tr>\n      <th>2</th>\n      <td>Intel® Pentium® Processor D Series</td>\n      <td>1</td>\n      <td>1</td>\n      <td>129.0</td>\n      <td>2</td>\n      <td>4</td>\n      <td>2.20</td>\n      <td>25.0</td>\n      <td>1.0</td>\n      <td>1.0</td>\n      <td>...</td>\n      <td>1</td>\n      <td>0</td>\n      <td>0</td>\n      <td>0</td>\n      <td>0</td>\n      <td>1</td>\n      <td>1</td>\n      <td>0</td>\n      <td>0</td>\n      <td>0</td>\n    </tr>\n    <tr>\n      <th>3</th>\n      <td>Legacy Intel® Celeron® Processor</td>\n      <td>0</td>\n      <td>2</td>\n      <td>85.5</td>\n      <td>1</td>\n      <td>3</td>\n      <td>0.85</td>\n      <td>25.7</td>\n      <td>1.0</td>\n      <td>1.0</td>\n      <td>...</td>\n      <td>0</td>\n      <td>0</td>\n      <td>0</td>\n      <td>0</td>\n      <td>0</td>\n      <td>0</td>\n      <td>0</td>\n      <td>0</td>\n      <td>0</td>\n      <td>0</td>\n    </tr>\n    <tr>\n      <th>4</th>\n      <td>Intel® Celeron® Processor G Series</td>\n      <td>1</td>\n      <td>1</td>\n      <td>42.0</td>\n      <td>2</td>\n      <td>2</td>\n      <td>2.90</td>\n      <td>51.0</td>\n      <td>0.0</td>\n      <td>1.0</td>\n      <td>...</td>\n      <td>0</td>\n      <td>0</td>\n      <td>0</td>\n      <td>0</td>\n      <td>0</td>\n      <td>1</td>\n      <td>1</td>\n      <td>1</td>\n      <td>0</td>\n      <td>0</td>\n    </tr>\n    <tr>\n      <th>5</th>\n      <td>Intel® Xeon® Processor E5 Family</td>\n      <td>1</td>\n      <td>6</td>\n      <td>692.0</td>\n      <td>6</td>\n      <td>12</td>\n      <td>1.80</td>\n      <td>60.0</td>\n      <td>1.0</td>\n      <td>1.0</td>\n      <td>...</td>\n      <td>0</td>\n      <td>0</td>\n      <td>0</td>\n      <td>0</td>\n      <td>0</td>\n      <td>0</td>\n      <td>1</td>\n      <td>0</td>\n      <td>0</td>\n      <td>0</td>\n    </tr>\n    <tr>\n      <th>6</th>\n      <td>Legacy Intel® Core™ Processors</td>\n      <td>0</td>\n      <td>6</td>\n      <td>577.0</td>\n      <td>2</td>\n      <td>4</td>\n      <td>3.10</td>\n      <td>65.0</td>\n      <td>0.0</td>\n      <td>1.0</td>\n      <td>...</td>\n      <td>1</td>\n      <td>0</td>\n      <td>0</td>\n      <td>0</td>\n      <td>0</td>\n      <td>0</td>\n      <td>1</td>\n      <td>0</td>\n      <td>0</td>\n      <td>0</td>\n    </tr>\n  </tbody>\n</table>\n<p>5 rows × 41 columns</p>\n</div>"
     },
     "execution_count": 519,
     "metadata": {},
     "output_type": "execute_result"
    }
   ],
   "source": [
    "train.head()"
   ],
   "metadata": {
    "collapsed": false,
    "ExecuteTime": {
     "end_time": "2024-04-18T12:02:46.981353Z",
     "start_time": "2024-04-18T12:02:46.967136Z"
    }
   },
   "id": "35041830205e7a9d",
   "execution_count": 519
  },
  {
   "cell_type": "code",
   "outputs": [],
   "source": [
    "train['Recommended_Customer_Price'] = pd.qcut(train['Recommended_Customer_Price'], 5)"
   ],
   "metadata": {
    "collapsed": false,
    "ExecuteTime": {
     "end_time": "2024-04-18T12:02:47.012339Z",
     "start_time": "2024-04-18T12:02:46.998441Z"
    }
   },
   "id": "a58e9ad3f81d20ba",
   "execution_count": 520
  },
  {
   "cell_type": "code",
   "outputs": [
    {
     "data": {
      "text/plain": "                   Product_Collection  Status  Lithography  \\\n2  Intel® Pentium® Processor D Series       1            1   \n3    Legacy Intel® Celeron® Processor       0            2   \n4  Intel® Celeron® Processor G Series       1            1   \n5    Intel® Xeon® Processor E5 Family       1            6   \n6      Legacy Intel® Core™ Processors       0            6   \n\n  Recommended_Customer_Price  nb_of_Cores  nb_of_Threads  \\\n2           (2.539, 145.832]            2              4   \n3           (2.539, 145.832]            1              3   \n4           (2.539, 145.832]            2              2   \n5            (419.0, 1223.0]            6             12   \n6            (419.0, 1223.0]            2              4   \n\n   Processor_Base_Frequency   TDP  Embedded_Options_Available  Conflict_Free  \\\n2                      2.20  25.0                         1.0            1.0   \n3                      0.85  25.7                         1.0            1.0   \n4                      2.90  51.0                         0.0            1.0   \n5                      1.80  60.0                         1.0            1.0   \n6                      3.10  65.0                         0.0            1.0   \n\n   ...  AVX  MMX  AES  IMCI  AV2  DDR4  DDR3  DDR3L  DDR2  LPDDR3  \n2  ...    1    0    0     0    0     1     1      0     0       0  \n3  ...    0    0    0     0    0     0     0      0     0       0  \n4  ...    0    0    0     0    0     1     1      1     0       0  \n5  ...    0    0    0     0    0     0     1      0     0       0  \n6  ...    1    0    0     0    0     0     1      0     0       0  \n\n[5 rows x 41 columns]",
      "text/html": "<div>\n<style scoped>\n    .dataframe tbody tr th:only-of-type {\n        vertical-align: middle;\n    }\n\n    .dataframe tbody tr th {\n        vertical-align: top;\n    }\n\n    .dataframe thead th {\n        text-align: right;\n    }\n</style>\n<table border=\"1\" class=\"dataframe\">\n  <thead>\n    <tr style=\"text-align: right;\">\n      <th></th>\n      <th>Product_Collection</th>\n      <th>Status</th>\n      <th>Lithography</th>\n      <th>Recommended_Customer_Price</th>\n      <th>nb_of_Cores</th>\n      <th>nb_of_Threads</th>\n      <th>Processor_Base_Frequency</th>\n      <th>TDP</th>\n      <th>Embedded_Options_Available</th>\n      <th>Conflict_Free</th>\n      <th>...</th>\n      <th>AVX</th>\n      <th>MMX</th>\n      <th>AES</th>\n      <th>IMCI</th>\n      <th>AV2</th>\n      <th>DDR4</th>\n      <th>DDR3</th>\n      <th>DDR3L</th>\n      <th>DDR2</th>\n      <th>LPDDR3</th>\n    </tr>\n  </thead>\n  <tbody>\n    <tr>\n      <th>2</th>\n      <td>Intel® Pentium® Processor D Series</td>\n      <td>1</td>\n      <td>1</td>\n      <td>(2.539, 145.832]</td>\n      <td>2</td>\n      <td>4</td>\n      <td>2.20</td>\n      <td>25.0</td>\n      <td>1.0</td>\n      <td>1.0</td>\n      <td>...</td>\n      <td>1</td>\n      <td>0</td>\n      <td>0</td>\n      <td>0</td>\n      <td>0</td>\n      <td>1</td>\n      <td>1</td>\n      <td>0</td>\n      <td>0</td>\n      <td>0</td>\n    </tr>\n    <tr>\n      <th>3</th>\n      <td>Legacy Intel® Celeron® Processor</td>\n      <td>0</td>\n      <td>2</td>\n      <td>(2.539, 145.832]</td>\n      <td>1</td>\n      <td>3</td>\n      <td>0.85</td>\n      <td>25.7</td>\n      <td>1.0</td>\n      <td>1.0</td>\n      <td>...</td>\n      <td>0</td>\n      <td>0</td>\n      <td>0</td>\n      <td>0</td>\n      <td>0</td>\n      <td>0</td>\n      <td>0</td>\n      <td>0</td>\n      <td>0</td>\n      <td>0</td>\n    </tr>\n    <tr>\n      <th>4</th>\n      <td>Intel® Celeron® Processor G Series</td>\n      <td>1</td>\n      <td>1</td>\n      <td>(2.539, 145.832]</td>\n      <td>2</td>\n      <td>2</td>\n      <td>2.90</td>\n      <td>51.0</td>\n      <td>0.0</td>\n      <td>1.0</td>\n      <td>...</td>\n      <td>0</td>\n      <td>0</td>\n      <td>0</td>\n      <td>0</td>\n      <td>0</td>\n      <td>1</td>\n      <td>1</td>\n      <td>1</td>\n      <td>0</td>\n      <td>0</td>\n    </tr>\n    <tr>\n      <th>5</th>\n      <td>Intel® Xeon® Processor E5 Family</td>\n      <td>1</td>\n      <td>6</td>\n      <td>(419.0, 1223.0]</td>\n      <td>6</td>\n      <td>12</td>\n      <td>1.80</td>\n      <td>60.0</td>\n      <td>1.0</td>\n      <td>1.0</td>\n      <td>...</td>\n      <td>0</td>\n      <td>0</td>\n      <td>0</td>\n      <td>0</td>\n      <td>0</td>\n      <td>0</td>\n      <td>1</td>\n      <td>0</td>\n      <td>0</td>\n      <td>0</td>\n    </tr>\n    <tr>\n      <th>6</th>\n      <td>Legacy Intel® Core™ Processors</td>\n      <td>0</td>\n      <td>6</td>\n      <td>(419.0, 1223.0]</td>\n      <td>2</td>\n      <td>4</td>\n      <td>3.10</td>\n      <td>65.0</td>\n      <td>0.0</td>\n      <td>1.0</td>\n      <td>...</td>\n      <td>1</td>\n      <td>0</td>\n      <td>0</td>\n      <td>0</td>\n      <td>0</td>\n      <td>0</td>\n      <td>1</td>\n      <td>0</td>\n      <td>0</td>\n      <td>0</td>\n    </tr>\n  </tbody>\n</table>\n<p>5 rows × 41 columns</p>\n</div>"
     },
     "execution_count": 521,
     "metadata": {},
     "output_type": "execute_result"
    }
   ],
   "source": [
    "train.head()"
   ],
   "metadata": {
    "collapsed": false,
    "ExecuteTime": {
     "end_time": "2024-04-18T12:02:47.090306Z",
     "start_time": "2024-04-18T12:02:47.061198Z"
    }
   },
   "id": "75347207779e3041",
   "execution_count": 521
  }
 ],
 "metadata": {
  "kernelspec": {
   "display_name": "Python 3",
   "language": "python",
   "name": "python3"
  },
  "language_info": {
   "codemirror_mode": {
    "name": "ipython",
    "version": 2
   },
   "file_extension": ".py",
   "mimetype": "text/x-python",
   "name": "python",
   "nbconvert_exporter": "python",
   "pygments_lexer": "ipython2",
   "version": "2.7.6"
  }
 },
 "nbformat": 4,
 "nbformat_minor": 5
}
